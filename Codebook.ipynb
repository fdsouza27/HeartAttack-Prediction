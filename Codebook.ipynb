{
  "cells": [
    {
      "cell_type": "code",
      "execution_count": null,
      "id": "2b17543f-f398-44fe-9c66-d600ad0ede6b",
      "metadata": {
        "scrolled": true,
        "colab": {
          "base_uri": "https://localhost:8080/"
        },
        "id": "2b17543f-f398-44fe-9c66-d600ad0ede6b",
        "outputId": "a8832845-ae1c-4f2f-e37c-1211f206cee6"
      },
      "outputs": [
        {
          "output_type": "stream",
          "name": "stdout",
          "text": [
            "Requirement already satisfied: seaborn in /usr/local/lib/python3.10/dist-packages (0.12.2)\n",
            "Requirement already satisfied: numpy!=1.24.0,>=1.17 in /usr/local/lib/python3.10/dist-packages (from seaborn) (1.23.5)\n",
            "Requirement already satisfied: pandas>=0.25 in /usr/local/lib/python3.10/dist-packages (from seaborn) (1.5.3)\n",
            "Requirement already satisfied: matplotlib!=3.6.1,>=3.1 in /usr/local/lib/python3.10/dist-packages (from seaborn) (3.7.1)\n",
            "Requirement already satisfied: contourpy>=1.0.1 in /usr/local/lib/python3.10/dist-packages (from matplotlib!=3.6.1,>=3.1->seaborn) (1.2.0)\n",
            "Requirement already satisfied: cycler>=0.10 in /usr/local/lib/python3.10/dist-packages (from matplotlib!=3.6.1,>=3.1->seaborn) (0.12.1)\n",
            "Requirement already satisfied: fonttools>=4.22.0 in /usr/local/lib/python3.10/dist-packages (from matplotlib!=3.6.1,>=3.1->seaborn) (4.46.0)\n",
            "Requirement already satisfied: kiwisolver>=1.0.1 in /usr/local/lib/python3.10/dist-packages (from matplotlib!=3.6.1,>=3.1->seaborn) (1.4.5)\n",
            "Requirement already satisfied: packaging>=20.0 in /usr/local/lib/python3.10/dist-packages (from matplotlib!=3.6.1,>=3.1->seaborn) (23.2)\n",
            "Requirement already satisfied: pillow>=6.2.0 in /usr/local/lib/python3.10/dist-packages (from matplotlib!=3.6.1,>=3.1->seaborn) (9.4.0)\n",
            "Requirement already satisfied: pyparsing>=2.3.1 in /usr/local/lib/python3.10/dist-packages (from matplotlib!=3.6.1,>=3.1->seaborn) (3.1.1)\n",
            "Requirement already satisfied: python-dateutil>=2.7 in /usr/local/lib/python3.10/dist-packages (from matplotlib!=3.6.1,>=3.1->seaborn) (2.8.2)\n",
            "Requirement already satisfied: pytz>=2020.1 in /usr/local/lib/python3.10/dist-packages (from pandas>=0.25->seaborn) (2023.3.post1)\n",
            "Requirement already satisfied: six>=1.5 in /usr/local/lib/python3.10/dist-packages (from python-dateutil>=2.7->matplotlib!=3.6.1,>=3.1->seaborn) (1.16.0)\n"
          ]
        }
      ],
      "source": [
        "pip install seaborn"
      ]
    },
    {
      "cell_type": "code",
      "execution_count": null,
      "id": "5461952d-141a-4fbd-88e3-1f62ede93b40",
      "metadata": {
        "id": "5461952d-141a-4fbd-88e3-1f62ede93b40"
      },
      "outputs": [],
      "source": [
        "import numpy as np\n",
        "import pandas as pd\n",
        "import seaborn as sns\n",
        "import matplotlib.pyplot as pl"
      ]
    },
    {
      "cell_type": "code",
      "execution_count": null,
      "id": "90d74168-a176-48c3-8518-813e570d0142",
      "metadata": {
        "id": "90d74168-a176-48c3-8518-813e570d0142"
      },
      "outputs": [],
      "source": [
        "df = pd.read_csv(\"brfss2020.csv\")"
      ]
    },
    {
      "cell_type": "code",
      "source": [
        "df.shape"
      ],
      "metadata": {
        "colab": {
          "base_uri": "https://localhost:8080/"
        },
        "id": "f3TMt3E560kR",
        "outputId": "25eaad93-9463-49cf-ca7a-49792adf916a"
      },
      "id": "f3TMt3E560kR",
      "execution_count": null,
      "outputs": [
        {
          "output_type": "execute_result",
          "data": {
            "text/plain": [
              "(401958, 279)"
            ]
          },
          "metadata": {},
          "execution_count": 4
        }
      ]
    },
    {
      "cell_type": "code",
      "execution_count": null,
      "id": "b280a100-044a-45ff-adf7-cced5ba252c0",
      "metadata": {
        "id": "b280a100-044a-45ff-adf7-cced5ba252c0",
        "outputId": "e16711f7-7c25-4813-94ce-8d3ea3518ec1",
        "colab": {
          "base_uri": "https://localhost:8080/",
          "height": 206
        }
      },
      "outputs": [
        {
          "output_type": "execute_result",
          "data": {
            "text/plain": [
              "   SEXVAR  CHECKUP1  EXERANY2  CVDINFR4  DIABETE4  INSULIN1  BLDSUGAR  \\\n",
              "0     2.0       4.0       1.0       2.0       1.0       NaN       NaN   \n",
              "1     2.0       1.0       1.0       2.0       3.0       NaN       NaN   \n",
              "2     2.0       1.0       1.0       2.0       3.0       NaN       NaN   \n",
              "3     2.0       2.0       2.0       2.0       3.0       NaN       NaN   \n",
              "4     2.0       1.0       1.0       2.0       3.0       NaN       NaN   \n",
              "\n",
              "   DOCTDIAB  CHKHEMO3  DIABEDU  _RFBMI5  _RFSMOK3  \n",
              "0       NaN       NaN      NaN      1.0       2.0  \n",
              "1       NaN       NaN      NaN      2.0       9.0  \n",
              "2       NaN       NaN      NaN      9.0       1.0  \n",
              "3       NaN       NaN      NaN      9.0       1.0  \n",
              "4       NaN       NaN      NaN      1.0       1.0  "
            ],
            "text/html": [
              "\n",
              "  <div id=\"df-cb9b5a7f-71e9-41a1-b972-1a164589c2b6\" class=\"colab-df-container\">\n",
              "    <div>\n",
              "<style scoped>\n",
              "    .dataframe tbody tr th:only-of-type {\n",
              "        vertical-align: middle;\n",
              "    }\n",
              "\n",
              "    .dataframe tbody tr th {\n",
              "        vertical-align: top;\n",
              "    }\n",
              "\n",
              "    .dataframe thead th {\n",
              "        text-align: right;\n",
              "    }\n",
              "</style>\n",
              "<table border=\"1\" class=\"dataframe\">\n",
              "  <thead>\n",
              "    <tr style=\"text-align: right;\">\n",
              "      <th></th>\n",
              "      <th>SEXVAR</th>\n",
              "      <th>CHECKUP1</th>\n",
              "      <th>EXERANY2</th>\n",
              "      <th>CVDINFR4</th>\n",
              "      <th>DIABETE4</th>\n",
              "      <th>INSULIN1</th>\n",
              "      <th>BLDSUGAR</th>\n",
              "      <th>DOCTDIAB</th>\n",
              "      <th>CHKHEMO3</th>\n",
              "      <th>DIABEDU</th>\n",
              "      <th>_RFBMI5</th>\n",
              "      <th>_RFSMOK3</th>\n",
              "    </tr>\n",
              "  </thead>\n",
              "  <tbody>\n",
              "    <tr>\n",
              "      <th>0</th>\n",
              "      <td>2.0</td>\n",
              "      <td>4.0</td>\n",
              "      <td>1.0</td>\n",
              "      <td>2.0</td>\n",
              "      <td>1.0</td>\n",
              "      <td>NaN</td>\n",
              "      <td>NaN</td>\n",
              "      <td>NaN</td>\n",
              "      <td>NaN</td>\n",
              "      <td>NaN</td>\n",
              "      <td>1.0</td>\n",
              "      <td>2.0</td>\n",
              "    </tr>\n",
              "    <tr>\n",
              "      <th>1</th>\n",
              "      <td>2.0</td>\n",
              "      <td>1.0</td>\n",
              "      <td>1.0</td>\n",
              "      <td>2.0</td>\n",
              "      <td>3.0</td>\n",
              "      <td>NaN</td>\n",
              "      <td>NaN</td>\n",
              "      <td>NaN</td>\n",
              "      <td>NaN</td>\n",
              "      <td>NaN</td>\n",
              "      <td>2.0</td>\n",
              "      <td>9.0</td>\n",
              "    </tr>\n",
              "    <tr>\n",
              "      <th>2</th>\n",
              "      <td>2.0</td>\n",
              "      <td>1.0</td>\n",
              "      <td>1.0</td>\n",
              "      <td>2.0</td>\n",
              "      <td>3.0</td>\n",
              "      <td>NaN</td>\n",
              "      <td>NaN</td>\n",
              "      <td>NaN</td>\n",
              "      <td>NaN</td>\n",
              "      <td>NaN</td>\n",
              "      <td>9.0</td>\n",
              "      <td>1.0</td>\n",
              "    </tr>\n",
              "    <tr>\n",
              "      <th>3</th>\n",
              "      <td>2.0</td>\n",
              "      <td>2.0</td>\n",
              "      <td>2.0</td>\n",
              "      <td>2.0</td>\n",
              "      <td>3.0</td>\n",
              "      <td>NaN</td>\n",
              "      <td>NaN</td>\n",
              "      <td>NaN</td>\n",
              "      <td>NaN</td>\n",
              "      <td>NaN</td>\n",
              "      <td>9.0</td>\n",
              "      <td>1.0</td>\n",
              "    </tr>\n",
              "    <tr>\n",
              "      <th>4</th>\n",
              "      <td>2.0</td>\n",
              "      <td>1.0</td>\n",
              "      <td>1.0</td>\n",
              "      <td>2.0</td>\n",
              "      <td>3.0</td>\n",
              "      <td>NaN</td>\n",
              "      <td>NaN</td>\n",
              "      <td>NaN</td>\n",
              "      <td>NaN</td>\n",
              "      <td>NaN</td>\n",
              "      <td>1.0</td>\n",
              "      <td>1.0</td>\n",
              "    </tr>\n",
              "  </tbody>\n",
              "</table>\n",
              "</div>\n",
              "    <div class=\"colab-df-buttons\">\n",
              "\n",
              "  <div class=\"colab-df-container\">\n",
              "    <button class=\"colab-df-convert\" onclick=\"convertToInteractive('df-cb9b5a7f-71e9-41a1-b972-1a164589c2b6')\"\n",
              "            title=\"Convert this dataframe to an interactive table.\"\n",
              "            style=\"display:none;\">\n",
              "\n",
              "  <svg xmlns=\"http://www.w3.org/2000/svg\" height=\"24px\" viewBox=\"0 -960 960 960\">\n",
              "    <path d=\"M120-120v-720h720v720H120Zm60-500h600v-160H180v160Zm220 220h160v-160H400v160Zm0 220h160v-160H400v160ZM180-400h160v-160H180v160Zm440 0h160v-160H620v160ZM180-180h160v-160H180v160Zm440 0h160v-160H620v160Z\"/>\n",
              "  </svg>\n",
              "    </button>\n",
              "\n",
              "  <style>\n",
              "    .colab-df-container {\n",
              "      display:flex;\n",
              "      gap: 12px;\n",
              "    }\n",
              "\n",
              "    .colab-df-convert {\n",
              "      background-color: #E8F0FE;\n",
              "      border: none;\n",
              "      border-radius: 50%;\n",
              "      cursor: pointer;\n",
              "      display: none;\n",
              "      fill: #1967D2;\n",
              "      height: 32px;\n",
              "      padding: 0 0 0 0;\n",
              "      width: 32px;\n",
              "    }\n",
              "\n",
              "    .colab-df-convert:hover {\n",
              "      background-color: #E2EBFA;\n",
              "      box-shadow: 0px 1px 2px rgba(60, 64, 67, 0.3), 0px 1px 3px 1px rgba(60, 64, 67, 0.15);\n",
              "      fill: #174EA6;\n",
              "    }\n",
              "\n",
              "    .colab-df-buttons div {\n",
              "      margin-bottom: 4px;\n",
              "    }\n",
              "\n",
              "    [theme=dark] .colab-df-convert {\n",
              "      background-color: #3B4455;\n",
              "      fill: #D2E3FC;\n",
              "    }\n",
              "\n",
              "    [theme=dark] .colab-df-convert:hover {\n",
              "      background-color: #434B5C;\n",
              "      box-shadow: 0px 1px 3px 1px rgba(0, 0, 0, 0.15);\n",
              "      filter: drop-shadow(0px 1px 2px rgba(0, 0, 0, 0.3));\n",
              "      fill: #FFFFFF;\n",
              "    }\n",
              "  </style>\n",
              "\n",
              "    <script>\n",
              "      const buttonEl =\n",
              "        document.querySelector('#df-cb9b5a7f-71e9-41a1-b972-1a164589c2b6 button.colab-df-convert');\n",
              "      buttonEl.style.display =\n",
              "        google.colab.kernel.accessAllowed ? 'block' : 'none';\n",
              "\n",
              "      async function convertToInteractive(key) {\n",
              "        const element = document.querySelector('#df-cb9b5a7f-71e9-41a1-b972-1a164589c2b6');\n",
              "        const dataTable =\n",
              "          await google.colab.kernel.invokeFunction('convertToInteractive',\n",
              "                                                    [key], {});\n",
              "        if (!dataTable) return;\n",
              "\n",
              "        const docLinkHtml = 'Like what you see? Visit the ' +\n",
              "          '<a target=\"_blank\" href=https://colab.research.google.com/notebooks/data_table.ipynb>data table notebook</a>'\n",
              "          + ' to learn more about interactive tables.';\n",
              "        element.innerHTML = '';\n",
              "        dataTable['output_type'] = 'display_data';\n",
              "        await google.colab.output.renderOutput(dataTable, element);\n",
              "        const docLink = document.createElement('div');\n",
              "        docLink.innerHTML = docLinkHtml;\n",
              "        element.appendChild(docLink);\n",
              "      }\n",
              "    </script>\n",
              "  </div>\n",
              "\n",
              "\n",
              "<div id=\"df-78f6c1d5-5ec7-4968-ae3e-c7062e7e0df2\">\n",
              "  <button class=\"colab-df-quickchart\" onclick=\"quickchart('df-78f6c1d5-5ec7-4968-ae3e-c7062e7e0df2')\"\n",
              "            title=\"Suggest charts\"\n",
              "            style=\"display:none;\">\n",
              "\n",
              "<svg xmlns=\"http://www.w3.org/2000/svg\" height=\"24px\"viewBox=\"0 0 24 24\"\n",
              "     width=\"24px\">\n",
              "    <g>\n",
              "        <path d=\"M19 3H5c-1.1 0-2 .9-2 2v14c0 1.1.9 2 2 2h14c1.1 0 2-.9 2-2V5c0-1.1-.9-2-2-2zM9 17H7v-7h2v7zm4 0h-2V7h2v10zm4 0h-2v-4h2v4z\"/>\n",
              "    </g>\n",
              "</svg>\n",
              "  </button>\n",
              "\n",
              "<style>\n",
              "  .colab-df-quickchart {\n",
              "      --bg-color: #E8F0FE;\n",
              "      --fill-color: #1967D2;\n",
              "      --hover-bg-color: #E2EBFA;\n",
              "      --hover-fill-color: #174EA6;\n",
              "      --disabled-fill-color: #AAA;\n",
              "      --disabled-bg-color: #DDD;\n",
              "  }\n",
              "\n",
              "  [theme=dark] .colab-df-quickchart {\n",
              "      --bg-color: #3B4455;\n",
              "      --fill-color: #D2E3FC;\n",
              "      --hover-bg-color: #434B5C;\n",
              "      --hover-fill-color: #FFFFFF;\n",
              "      --disabled-bg-color: #3B4455;\n",
              "      --disabled-fill-color: #666;\n",
              "  }\n",
              "\n",
              "  .colab-df-quickchart {\n",
              "    background-color: var(--bg-color);\n",
              "    border: none;\n",
              "    border-radius: 50%;\n",
              "    cursor: pointer;\n",
              "    display: none;\n",
              "    fill: var(--fill-color);\n",
              "    height: 32px;\n",
              "    padding: 0;\n",
              "    width: 32px;\n",
              "  }\n",
              "\n",
              "  .colab-df-quickchart:hover {\n",
              "    background-color: var(--hover-bg-color);\n",
              "    box-shadow: 0 1px 2px rgba(60, 64, 67, 0.3), 0 1px 3px 1px rgba(60, 64, 67, 0.15);\n",
              "    fill: var(--button-hover-fill-color);\n",
              "  }\n",
              "\n",
              "  .colab-df-quickchart-complete:disabled,\n",
              "  .colab-df-quickchart-complete:disabled:hover {\n",
              "    background-color: var(--disabled-bg-color);\n",
              "    fill: var(--disabled-fill-color);\n",
              "    box-shadow: none;\n",
              "  }\n",
              "\n",
              "  .colab-df-spinner {\n",
              "    border: 2px solid var(--fill-color);\n",
              "    border-color: transparent;\n",
              "    border-bottom-color: var(--fill-color);\n",
              "    animation:\n",
              "      spin 1s steps(1) infinite;\n",
              "  }\n",
              "\n",
              "  @keyframes spin {\n",
              "    0% {\n",
              "      border-color: transparent;\n",
              "      border-bottom-color: var(--fill-color);\n",
              "      border-left-color: var(--fill-color);\n",
              "    }\n",
              "    20% {\n",
              "      border-color: transparent;\n",
              "      border-left-color: var(--fill-color);\n",
              "      border-top-color: var(--fill-color);\n",
              "    }\n",
              "    30% {\n",
              "      border-color: transparent;\n",
              "      border-left-color: var(--fill-color);\n",
              "      border-top-color: var(--fill-color);\n",
              "      border-right-color: var(--fill-color);\n",
              "    }\n",
              "    40% {\n",
              "      border-color: transparent;\n",
              "      border-right-color: var(--fill-color);\n",
              "      border-top-color: var(--fill-color);\n",
              "    }\n",
              "    60% {\n",
              "      border-color: transparent;\n",
              "      border-right-color: var(--fill-color);\n",
              "    }\n",
              "    80% {\n",
              "      border-color: transparent;\n",
              "      border-right-color: var(--fill-color);\n",
              "      border-bottom-color: var(--fill-color);\n",
              "    }\n",
              "    90% {\n",
              "      border-color: transparent;\n",
              "      border-bottom-color: var(--fill-color);\n",
              "    }\n",
              "  }\n",
              "</style>\n",
              "\n",
              "  <script>\n",
              "    async function quickchart(key) {\n",
              "      const quickchartButtonEl =\n",
              "        document.querySelector('#' + key + ' button');\n",
              "      quickchartButtonEl.disabled = true;  // To prevent multiple clicks.\n",
              "      quickchartButtonEl.classList.add('colab-df-spinner');\n",
              "      try {\n",
              "        const charts = await google.colab.kernel.invokeFunction(\n",
              "            'suggestCharts', [key], {});\n",
              "      } catch (error) {\n",
              "        console.error('Error during call to suggestCharts:', error);\n",
              "      }\n",
              "      quickchartButtonEl.classList.remove('colab-df-spinner');\n",
              "      quickchartButtonEl.classList.add('colab-df-quickchart-complete');\n",
              "    }\n",
              "    (() => {\n",
              "      let quickchartButtonEl =\n",
              "        document.querySelector('#df-78f6c1d5-5ec7-4968-ae3e-c7062e7e0df2 button');\n",
              "      quickchartButtonEl.style.display =\n",
              "        google.colab.kernel.accessAllowed ? 'block' : 'none';\n",
              "    })();\n",
              "  </script>\n",
              "</div>\n",
              "    </div>\n",
              "  </div>\n"
            ]
          },
          "metadata": {},
          "execution_count": 5
        }
      ],
      "source": [
        "df_selected = df[['SEXVAR', 'CHECKUP1', 'EXERANY2', 'CVDINFR4', 'DIABETE4', 'INSULIN1', 'BLDSUGAR', 'DOCTDIAB', 'CHKHEMO3', 'DIABEDU', '_RFBMI5', '_RFSMOK3']]\n",
        "df_selected.head()"
      ]
    },
    {
      "cell_type": "code",
      "execution_count": null,
      "id": "11072c49-66cd-467a-940c-44cc4c0cae92",
      "metadata": {
        "id": "11072c49-66cd-467a-940c-44cc4c0cae92",
        "outputId": "2ace42a4-ff29-4a3b-ec8f-0e6092d9bd6b",
        "colab": {
          "base_uri": "https://localhost:8080/"
        }
      },
      "outputs": [
        {
          "output_type": "execute_result",
          "data": {
            "text/plain": [
              "SEXVAR           0\n",
              "CHECKUP1         5\n",
              "EXERANY2         3\n",
              "CVDINFR4         6\n",
              "DIABETE4         6\n",
              "INSULIN1    388849\n",
              "BLDSUGAR    388850\n",
              "DOCTDIAB    388850\n",
              "CHKHEMO3    388850\n",
              "DIABEDU     388850\n",
              "_RFBMI5          0\n",
              "_RFSMOK3         0\n",
              "dtype: int64"
            ]
          },
          "metadata": {},
          "execution_count": 6
        }
      ],
      "source": [
        "df_selected.isnull().sum()       # indicates the number of missing values"
      ]
    },
    {
      "cell_type": "code",
      "execution_count": null,
      "id": "5af39616-5471-4e6c-b431-40798f8bdd85",
      "metadata": {
        "id": "5af39616-5471-4e6c-b431-40798f8bdd85",
        "outputId": "f8763565-797e-479e-cce6-13d2f1a84c99",
        "colab": {
          "base_uri": "https://localhost:8080/"
        }
      },
      "outputs": [
        {
          "output_type": "execute_result",
          "data": {
            "text/plain": [
              "SEXVAR      False\n",
              "CHECKUP1     True\n",
              "EXERANY2     True\n",
              "CVDINFR4     True\n",
              "DIABETE4     True\n",
              "INSULIN1     True\n",
              "BLDSUGAR     True\n",
              "DOCTDIAB     True\n",
              "CHKHEMO3     True\n",
              "DIABEDU      True\n",
              "_RFBMI5     False\n",
              "_RFSMOK3    False\n",
              "dtype: bool"
            ]
          },
          "metadata": {},
          "execution_count": 7
        }
      ],
      "source": [
        "df_selected.isnull().any()     #ach column in the df_selected DataFrame to determine if there are any missing values (True) or none (False)"
      ]
    },
    {
      "cell_type": "code",
      "execution_count": null,
      "id": "b5cdadc6-cb9b-4dad-a107-ed7579153c76",
      "metadata": {
        "id": "b5cdadc6-cb9b-4dad-a107-ed7579153c76",
        "outputId": "c4fe0938-816b-48b8-ee56-f8c5d3b79bf7",
        "colab": {
          "base_uri": "https://localhost:8080/"
        }
      },
      "outputs": [
        {
          "output_type": "execute_result",
          "data": {
            "text/plain": [
              "SEXVAR      401958\n",
              "CHECKUP1    401953\n",
              "EXERANY2    401955\n",
              "CVDINFR4    401952\n",
              "DIABETE4    401952\n",
              "INSULIN1     13109\n",
              "BLDSUGAR     13108\n",
              "DOCTDIAB     13108\n",
              "CHKHEMO3     13108\n",
              "DIABEDU      13108\n",
              "_RFBMI5     401958\n",
              "_RFSMOK3    401958\n",
              "dtype: int64"
            ]
          },
          "metadata": {},
          "execution_count": 8
        }
      ],
      "source": [
        "df_selected.count()"
      ]
    },
    {
      "cell_type": "code",
      "execution_count": null,
      "id": "fe5bf0c5-0602-495e-afb5-534247abb42f",
      "metadata": {
        "id": "fe5bf0c5-0602-495e-afb5-534247abb42f",
        "outputId": "6a805fdc-aa43-41f7-dc5d-0df20d1393e9",
        "colab": {
          "base_uri": "https://localhost:8080/",
          "height": 504
        }
      },
      "outputs": [
        {
          "output_type": "execute_result",
          "data": {
            "text/plain": [
              "2.0    218016\n",
              "1.0    183942\n",
              "Name: Gender, dtype: int64"
            ]
          },
          "metadata": {},
          "execution_count": 9
        },
        {
          "output_type": "display_data",
          "data": {
            "text/plain": [
              "<Figure size 640x480 with 1 Axes>"
            ],
            "image/png": "[encoded data removed]"
          },
          "metadata": {}
        }
      ],
      "source": [
        "df_selected = df_selected.rename(columns={\"SEXVAR\":\"Gender\"})\n",
        "\n",
        "\n",
        "sns.countplot(data= df_selected, x='Gender')\n",
        "df_selected.Gender.value_counts(sort=False)"
      ]
    },
    {
      "cell_type": "code",
      "execution_count": null,
      "id": "cd64f37d-2fcd-4b29-844f-da6af2b3ab31",
      "metadata": {
        "id": "cd64f37d-2fcd-4b29-844f-da6af2b3ab31",
        "outputId": "5c684027-00dc-4f7f-fcb3-b861221b63d3",
        "colab": {
          "base_uri": "https://localhost:8080/",
          "height": 449
        }
      },
      "outputs": [
        {
          "output_type": "display_data",
          "data": {
            "text/plain": [
              "<Figure size 640x480 with 1 Axes>"
            ],
            "image/png": "[encoded data removed]"
          },
          "metadata": {}
        }
      ],
      "source": [
        "df_selected = df_selected.rename(columns={\"CHECKUP1\":\"Checkup\"})\n",
        "sns.countplot(x=\"Checkup\", data=df_selected)\n",
        "df_selected.Checkup.value_counts(sort=False)\n",
        "\n",
        "#Values of 7 or 9 are equivelent to null\n",
        "df_selected.loc[df_selected['Checkup'] == 9.0, 'Checkup'] = np.nan\n",
        "df_selected.loc[df_selected['Checkup'] == 7.0, 'Checkup'] = np.nan\n",
        "\n"
      ]
    },
    {
      "cell_type": "code",
      "execution_count": null,
      "id": "91976842-b68f-4b77-a402-a64553994a78",
      "metadata": {
        "id": "91976842-b68f-4b77-a402-a64553994a78",
        "outputId": "d57711c7-6e5c-4954-abd1-3b6690cd867e",
        "colab": {
          "base_uri": "https://localhost:8080/",
          "height": 449
        }
      },
      "outputs": [
        {
          "output_type": "display_data",
          "data": {
            "text/plain": [
              "<Figure size 640x480 with 1 Axes>"
            ],
            "image/png": "[encoded data removed]"
          },
          "metadata": {}
        }
      ],
      "source": [
        "df_selected = df_selected.rename(columns={\"EXERANY2\":\"Exercise\"})\n",
        "sns.countplot(x=\"Exercise\", data=df_selected)\n",
        "df_selected.Exercise.value_counts(sort=False)\n",
        "\n",
        "#Values of 7 or 9 are equivelent to null\n",
        "df_selected.loc[df_selected['Exercise'] == 9.0, 'Exercise'] = np.nan\n",
        "df_selected.loc[df_selected['Exercise'] == 7.0, 'Exercise'] = np.nan\n"
      ]
    },
    {
      "cell_type": "code",
      "execution_count": null,
      "id": "1cf20744-5219-4176-a40c-d267a57ae3a9",
      "metadata": {
        "id": "1cf20744-5219-4176-a40c-d267a57ae3a9",
        "outputId": "a13f6670-7c68-4a7d-9378-ad24fa82bdb5",
        "colab": {
          "base_uri": "https://localhost:8080/",
          "height": 450
        }
      },
      "outputs": [
        {
          "output_type": "display_data",
          "data": {
            "text/plain": [
              "<Figure size 640x480 with 1 Axes>"
            ],
            "image/png": "[encoded data removed]"
          },
          "metadata": {}
        }
      ],
      "source": [
        "df_selected = df_selected.rename(columns={\"CVDINFR4\":\"Heart_Attack\"})\n",
        "sns.countplot(x=\"Heart_Attack\", data=df_selected)\n",
        "df_selected.Heart_Attack.value_counts(sort=False)\n",
        "\n",
        "df_selected.loc[df_selected['Heart_Attack'] == 9.0, 'Heart_Attack'] = np.nan\n",
        "df_selected.loc[df_selected['Heart_Attack'] == 7.0, 'Heart_Attack'] = np.nan\n"
      ]
    },
    {
      "cell_type": "code",
      "execution_count": null,
      "id": "4061084d-e1fd-4552-9b65-47fbcbcc3f70",
      "metadata": {
        "id": "4061084d-e1fd-4552-9b65-47fbcbcc3f70",
        "outputId": "a7b5cc73-c43f-4ab7-e64d-bd2f8937231f",
        "colab": {
          "base_uri": "https://localhost:8080/",
          "height": 485
        }
      },
      "outputs": [
        {
          "output_type": "execute_result",
          "data": {
            "text/plain": [
              "1.0    52094\n",
              "Name: Diabetes, dtype: int64"
            ]
          },
          "metadata": {},
          "execution_count": 16
        },
        {
          "output_type": "display_data",
          "data": {
            "text/plain": [
              "<Figure size 640x480 with 1 Axes>"
            ],
            "image/png": "[encoded data removed]"
          },
          "metadata": {}
        }
      ],
      "source": [
        "df_selected = df_selected.rename(columns={\"DIABETE4\":\"Diabetes\"})\n",
        "\n",
        "#Values other than 1 are not apart of our population, dropping those values.\n",
        "df_selected.drop(df_selected[df_selected['Diabetes'] == 9].index, inplace= True)\n",
        "df_selected.drop(df_selected[df_selected['Diabetes'] == 7].index, inplace= True)\n",
        "df_selected.drop(df_selected[df_selected['Diabetes'] == 3].index, inplace= True)\n",
        "df_selected.drop(df_selected[df_selected['Diabetes'] == 4].index, inplace= True)\n",
        "df_selected.drop(df_selected[df_selected['Diabetes'] == 2].index, inplace= True)\n",
        "sns.countplot(x=\"Diabetes\", data=df_selected)\n",
        "df_selected.Diabetes.value_counts(sort=False)"
      ]
    },
    {
      "cell_type": "code",
      "execution_count": null,
      "id": "c79242d6-719c-42bc-81b5-0444eda2a72d",
      "metadata": {
        "id": "c79242d6-719c-42bc-81b5-0444eda2a72d",
        "outputId": "1f49a220-bf33-4c4c-c8b2-108ddafcebbc",
        "colab": {
          "base_uri": "https://localhost:8080/",
          "height": 449
        }
      },
      "outputs": [
        {
          "output_type": "display_data",
          "data": {
            "text/plain": [
              "<Figure size 640x480 with 1 Axes>"
            ],
            "image/png": "[encoded data removed]"
          },
          "metadata": {}
        }
      ],
      "source": [
        "df_selected = df_selected.rename(columns={\"INSULIN1\":\"Insulin\"})\n",
        "sns.countplot(x=\"Insulin\", data=df_selected)\n",
        "df_selected.Insulin.value_counts(sort=False)\n",
        "\n",
        "df_selected.loc[df_selected[\"Insulin\"] == 9.0, \"Insulin\"] = np.nan\n",
        "df_selected.loc[df_selected[\"Insulin\"] == 7.0, \"Insulin\"] = np.nan\n"
      ]
    },
    {
      "cell_type": "code",
      "execution_count": null,
      "id": "48c01c2d-d237-4025-abcc-67278e401a07",
      "metadata": {
        "id": "48c01c2d-d237-4025-abcc-67278e401a07",
        "outputId": "bba39462-129b-401a-cdc6-07a31e54b9ee",
        "colab": {
          "base_uri": "https://localhost:8080/",
          "height": 450
        }
      },
      "outputs": [
        {
          "output_type": "display_data",
          "data": {
            "text/plain": [
              "<Figure size 640x480 with 1 Axes>"
            ],
            "image/png": "[encoded data removed]"
          },
          "metadata": {}
        }
      ],
      "source": [
        "df_selected = df_selected.rename(columns={\"DIABEDU\":\"Managing_Diabetes\"})\n",
        "\n",
        "sns.countplot(x=\"Managing_Diabetes\", data=df_selected)\n",
        "df_selected.Managing_Diabetes.value_counts(sort=False)\n",
        "\n",
        "\n",
        "#7 and 9 are equivelent to null for this feature\n",
        "df_selected.loc[df_selected['Managing_Diabetes'] == 9.0, 'Managing_Diabetes'] = np.nan\n",
        "df_selected.loc[df_selected['Managing_Diabetes'] == 7.0, 'Managing_Diabetes'] = np.nan\n"
      ]
    },
    {
      "cell_type": "code",
      "execution_count": null,
      "id": "6edad965-7a08-4be1-bbf8-2ceac4fec100",
      "metadata": {
        "id": "6edad965-7a08-4be1-bbf8-2ceac4fec100",
        "outputId": "cae1cd52-2eab-454e-8aee-e024a7ed3c3d",
        "colab": {
          "base_uri": "https://localhost:8080/",
          "height": 450
        }
      },
      "outputs": [
        {
          "output_type": "display_data",
          "data": {
            "text/plain": [
              "<Figure size 640x480 with 1 Axes>"
            ],
            "image/png": "[encoded data removed]"
          },
          "metadata": {}
        }
      ],
      "source": [
        "df_selected = df_selected.rename(columns={\"_RFBMI5\":\"Overweight_or_Obese_Calculated\"})\n",
        "\n",
        "sns.countplot(x=\"Overweight_or_Obese_Calculated\", data=df_selected)\n",
        "df_selected.Overweight_or_Obese_Calculated.value_counts(sort=False)\n",
        "\n",
        "#9 is equivelent to null for this feature.\n",
        "df_selected.loc[df_selected[\"Overweight_or_Obese_Calculated\"] == 9.0, \"Overweight_or_Obese_Calculated\"] = np.nan\n"
      ]
    },
    {
      "cell_type": "code",
      "execution_count": null,
      "id": "d131f0de-2a85-4deb-83c7-268ee9f59786",
      "metadata": {
        "id": "d131f0de-2a85-4deb-83c7-268ee9f59786",
        "outputId": "9429b160-4daa-47c8-db78-99e0590bf3d8",
        "colab": {
          "base_uri": "https://localhost:8080/",
          "height": 450
        }
      },
      "outputs": [
        {
          "output_type": "display_data",
          "data": {
            "text/plain": [
              "<Figure size 640x480 with 1 Axes>"
            ],
            "image/png": "[encoded data removed]"
          },
          "metadata": {}
        }
      ],
      "source": [
        "df_selected = df_selected.rename(columns={\"_RFSMOK3\":\"Current_Smokers\"})\n",
        "\n",
        "sns.countplot(x=\"Current_Smokers\", data=df_selected)\n",
        "df_selected.Current_Smokers.value_counts(sort=False)\n",
        "\n",
        "#9 is equivelent to null for this feature\n",
        "df_selected.loc[df_selected[\"Current_Smokers\"] == 9.0, \"Current_Smokers\"] = np.nan\n"
      ]
    },
    {
      "cell_type": "code",
      "execution_count": null,
      "id": "e584f430-0a47-409f-828e-d7135a417042",
      "metadata": {
        "id": "e584f430-0a47-409f-828e-d7135a417042",
        "outputId": "4202c448-a309-4e88-e80f-9790d08a9237",
        "colab": {
          "base_uri": "https://localhost:8080/",
          "height": 572
        }
      },
      "outputs": [
        {
          "output_type": "stream",
          "name": "stdout",
          "text": [
            "<class 'pandas.core.frame.DataFrame'>\n",
            "Int64Index: 51699 entries, 0 to 401951\n",
            "Data columns (total 12 columns):\n",
            " #   Column                          Non-Null Count  Dtype  \n",
            "---  ------                          --------------  -----  \n",
            " 0   Gender                          51699 non-null  float64\n",
            " 1   Checkup                         51343 non-null  float64\n",
            " 2   Exercise                        51576 non-null  float64\n",
            " 3   Heart_Attack                    51289 non-null  float64\n",
            " 4   Diabetes                        51693 non-null  float64\n",
            " 5   Insulin                         12675 non-null  float64\n",
            " 6   Dly_Sugar_Check                 12707 non-null  float64\n",
            " 7   Diabetes_Checkup                12304 non-null  float64\n",
            " 8   Glycosylated_Hemoglobin         12001 non-null  float64\n",
            " 9   Managing_Diabetes               12653 non-null  float64\n",
            " 10  Overweight_or_Obese_Calculated  46720 non-null  float64\n",
            " 11  Current_Smokers                 49266 non-null  float64\n",
            "dtypes: float64(12)\n",
            "memory usage: 5.1 MB\n"
          ]
        },
        {
          "output_type": "execute_result",
          "data": {
            "text/plain": [
              "    Gender  Checkup  Exercise  Heart_Attack  Diabetes  Insulin  \\\n",
              "0      2.0      4.0       1.0           2.0       1.0      NaN   \n",
              "5      1.0      2.0       1.0           2.0       1.0      NaN   \n",
              "7      2.0      1.0       1.0           2.0       1.0      NaN   \n",
              "11     2.0      1.0       2.0           2.0       1.0      NaN   \n",
              "15     1.0      1.0       2.0           2.0       1.0      NaN   \n",
              "\n",
              "    Dly_Sugar_Check  Diabetes_Checkup  Glycosylated_Hemoglobin  \\\n",
              "0               NaN               NaN                      NaN   \n",
              "5               NaN               NaN                      NaN   \n",
              "7               NaN               NaN                      NaN   \n",
              "11              NaN               NaN                      NaN   \n",
              "15              NaN               NaN                      NaN   \n",
              "\n",
              "    Managing_Diabetes  Overweight_or_Obese_Calculated  Current_Smokers  \n",
              "0                 NaN                             1.0              2.0  \n",
              "5                 NaN                             2.0              1.0  \n",
              "7                 NaN                             2.0              2.0  \n",
              "11                NaN                             2.0              1.0  \n",
              "15                NaN                             2.0              2.0  "
            ],
            "text/html": [
              "\n",
              "  <div id=\"df-3ceda86b-3229-439c-aed9-c8df1c96acd8\" class=\"colab-df-container\">\n",
              "    <div>\n",
              "<style scoped>\n",
              "    .dataframe tbody tr th:only-of-type {\n",
              "        vertical-align: middle;\n",
              "    }\n",
              "\n",
              "    .dataframe tbody tr th {\n",
              "        vertical-align: top;\n",
              "    }\n",
              "\n",
              "    .dataframe thead th {\n",
              "        text-align: right;\n",
              "    }\n",
              "</style>\n",
              "<table border=\"1\" class=\"dataframe\">\n",
              "  <thead>\n",
              "    <tr style=\"text-align: right;\">\n",
              "      <th></th>\n",
              "      <th>Gender</th>\n",
              "      <th>Checkup</th>\n",
              "      <th>Exercise</th>\n",
              "      <th>Heart_Attack</th>\n",
              "      <th>Diabetes</th>\n",
              "      <th>Insulin</th>\n",
              "      <th>Dly_Sugar_Check</th>\n",
              "      <th>Diabetes_Checkup</th>\n",
              "      <th>Glycosylated_Hemoglobin</th>\n",
              "      <th>Managing_Diabetes</th>\n",
              "      <th>Overweight_or_Obese_Calculated</th>\n",
              "      <th>Current_Smokers</th>\n",
              "    </tr>\n",
              "  </thead>\n",
              "  <tbody>\n",
              "    <tr>\n",
              "      <th>0</th>\n",
              "      <td>2.0</td>\n",
              "      <td>4.0</td>\n",
              "      <td>1.0</td>\n",
              "      <td>2.0</td>\n",
              "      <td>1.0</td>\n",
              "      <td>NaN</td>\n",
              "      <td>NaN</td>\n",
              "      <td>NaN</td>\n",
              "      <td>NaN</td>\n",
              "      <td>NaN</td>\n",
              "      <td>1.0</td>\n",
              "      <td>2.0</td>\n",
              "    </tr>\n",
              "    <tr>\n",
              "      <th>5</th>\n",
              "      <td>1.0</td>\n",
              "      <td>2.0</td>\n",
              "      <td>1.0</td>\n",
              "      <td>2.0</td>\n",
              "      <td>1.0</td>\n",
              "      <td>NaN</td>\n",
              "      <td>NaN</td>\n",
              "      <td>NaN</td>\n",
              "      <td>NaN</td>\n",
              "      <td>NaN</td>\n",
              "      <td>2.0</td>\n",
              "      <td>1.0</td>\n",
              "    </tr>\n",
              "    <tr>\n",
              "      <th>7</th>\n",
              "      <td>2.0</td>\n",
              "      <td>1.0</td>\n",
              "      <td>1.0</td>\n",
              "      <td>2.0</td>\n",
              "      <td>1.0</td>\n",
              "      <td>NaN</td>\n",
              "      <td>NaN</td>\n",
              "      <td>NaN</td>\n",
              "      <td>NaN</td>\n",
              "      <td>NaN</td>\n",
              "      <td>2.0</td>\n",
              "      <td>2.0</td>\n",
              "    </tr>\n",
              "    <tr>\n",
              "      <th>11</th>\n",
              "      <td>2.0</td>\n",
              "      <td>1.0</td>\n",
              "      <td>2.0</td>\n",
              "      <td>2.0</td>\n",
              "      <td>1.0</td>\n",
              "      <td>NaN</td>\n",
              "      <td>NaN</td>\n",
              "      <td>NaN</td>\n",
              "      <td>NaN</td>\n",
              "      <td>NaN</td>\n",
              "      <td>2.0</td>\n",
              "      <td>1.0</td>\n",
              "    </tr>\n",
              "    <tr>\n",
              "      <th>15</th>\n",
              "      <td>1.0</td>\n",
              "      <td>1.0</td>\n",
              "      <td>2.0</td>\n",
              "      <td>2.0</td>\n",
              "      <td>1.0</td>\n",
              "      <td>NaN</td>\n",
              "      <td>NaN</td>\n",
              "      <td>NaN</td>\n",
              "      <td>NaN</td>\n",
              "      <td>NaN</td>\n",
              "      <td>2.0</td>\n",
              "      <td>2.0</td>\n",
              "    </tr>\n",
              "  </tbody>\n",
              "</table>\n",
              "</div>\n",
              "    <div class=\"colab-df-buttons\">\n",
              "\n",
              "  <div class=\"colab-df-container\">\n",
              "    <button class=\"colab-df-convert\" onclick=\"convertToInteractive('df-3ceda86b-3229-439c-aed9-c8df1c96acd8')\"\n",
              "            title=\"Convert this dataframe to an interactive table.\"\n",
              "            style=\"display:none;\">\n",
              "\n",
              "  <svg xmlns=\"http://www.w3.org/2000/svg\" height=\"24px\" viewBox=\"0 -960 960 960\">\n",
              "    <path d=\"M120-120v-720h720v720H120Zm60-500h600v-160H180v160Zm220 220h160v-160H400v160Zm0 220h160v-160H400v160ZM180-400h160v-160H180v160Zm440 0h160v-160H620v160ZM180-180h160v-160H180v160Zm440 0h160v-160H620v160Z\"/>\n",
              "  </svg>\n",
              "    </button>\n",
              "\n",
              "  <style>\n",
              "    .colab-df-container {\n",
              "      display:flex;\n",
              "      gap: 12px;\n",
              "    }\n",
              "\n",
              "    .colab-df-convert {\n",
              "      background-color: #E8F0FE;\n",
              "      border: none;\n",
              "      border-radius: 50%;\n",
              "      cursor: pointer;\n",
              "      display: none;\n",
              "      fill: #1967D2;\n",
              "      height: 32px;\n",
              "      padding: 0 0 0 0;\n",
              "      width: 32px;\n",
              "    }\n",
              "\n",
              "    .colab-df-convert:hover {\n",
              "      background-color: #E2EBFA;\n",
              "      box-shadow: 0px 1px 2px rgba(60, 64, 67, 0.3), 0px 1px 3px 1px rgba(60, 64, 67, 0.15);\n",
              "      fill: #174EA6;\n",
              "    }\n",
              "\n",
              "    .colab-df-buttons div {\n",
              "      margin-bottom: 4px;\n",
              "    }\n",
              "\n",
              "    [theme=dark] .colab-df-convert {\n",
              "      background-color: #3B4455;\n",
              "      fill: #D2E3FC;\n",
              "    }\n",
              "\n",
              "    [theme=dark] .colab-df-convert:hover {\n",
              "      background-color: #434B5C;\n",
              "      box-shadow: 0px 1px 3px 1px rgba(0, 0, 0, 0.15);\n",
              "      filter: drop-shadow(0px 1px 2px rgba(0, 0, 0, 0.3));\n",
              "      fill: #FFFFFF;\n",
              "    }\n",
              "  </style>\n",
              "\n",
              "    <script>\n",
              "      const buttonEl =\n",
              "        document.querySelector('#df-3ceda86b-3229-439c-aed9-c8df1c96acd8 button.colab-df-convert');\n",
              "      buttonEl.style.display =\n",
              "        google.colab.kernel.accessAllowed ? 'block' : 'none';\n",
              "\n",
              "      async function convertToInteractive(key) {\n",
              "        const element = document.querySelector('#df-3ceda86b-3229-439c-aed9-c8df1c96acd8');\n",
              "        const dataTable =\n",
              "          await google.colab.kernel.invokeFunction('convertToInteractive',\n",
              "                                                    [key], {});\n",
              "        if (!dataTable) return;\n",
              "\n",
              "        const docLinkHtml = 'Like what you see? Visit the ' +\n",
              "          '<a target=\"_blank\" href=https://colab.research.google.com/notebooks/data_table.ipynb>data table notebook</a>'\n",
              "          + ' to learn more about interactive tables.';\n",
              "        element.innerHTML = '';\n",
              "        dataTable['output_type'] = 'display_data';\n",
              "        await google.colab.output.renderOutput(dataTable, element);\n",
              "        const docLink = document.createElement('div');\n",
              "        docLink.innerHTML = docLinkHtml;\n",
              "        element.appendChild(docLink);\n",
              "      }\n",
              "    </script>\n",
              "  </div>\n",
              "\n",
              "\n",
              "<div id=\"df-46d9257c-2010-49e3-959a-95019686d6ba\">\n",
              "  <button class=\"colab-df-quickchart\" onclick=\"quickchart('df-46d9257c-2010-49e3-959a-95019686d6ba')\"\n",
              "            title=\"Suggest charts\"\n",
              "            style=\"display:none;\">\n",
              "\n",
              "<svg xmlns=\"http://www.w3.org/2000/svg\" height=\"24px\"viewBox=\"0 0 24 24\"\n",
              "     width=\"24px\">\n",
              "    <g>\n",
              "        <path d=\"M19 3H5c-1.1 0-2 .9-2 2v14c0 1.1.9 2 2 2h14c1.1 0 2-.9 2-2V5c0-1.1-.9-2-2-2zM9 17H7v-7h2v7zm4 0h-2V7h2v10zm4 0h-2v-4h2v4z\"/>\n",
              "    </g>\n",
              "</svg>\n",
              "  </button>\n",
              "\n",
              "<style>\n",
              "  .colab-df-quickchart {\n",
              "      --bg-color: #E8F0FE;\n",
              "      --fill-color: #1967D2;\n",
              "      --hover-bg-color: #E2EBFA;\n",
              "      --hover-fill-color: #174EA6;\n",
              "      --disabled-fill-color: #AAA;\n",
              "      --disabled-bg-color: #DDD;\n",
              "  }\n",
              "\n",
              "  [theme=dark] .colab-df-quickchart {\n",
              "      --bg-color: #3B4455;\n",
              "      --fill-color: #D2E3FC;\n",
              "      --hover-bg-color: #434B5C;\n",
              "      --hover-fill-color: #FFFFFF;\n",
              "      --disabled-bg-color: #3B4455;\n",
              "      --disabled-fill-color: #666;\n",
              "  }\n",
              "\n",
              "  .colab-df-quickchart {\n",
              "    background-color: var(--bg-color);\n",
              "    border: none;\n",
              "    border-radius: 50%;\n",
              "    cursor: pointer;\n",
              "    display: none;\n",
              "    fill: var(--fill-color);\n",
              "    height: 32px;\n",
              "    padding: 0;\n",
              "    width: 32px;\n",
              "  }\n",
              "\n",
              "  .colab-df-quickchart:hover {\n",
              "    background-color: var(--hover-bg-color);\n",
              "    box-shadow: 0 1px 2px rgba(60, 64, 67, 0.3), 0 1px 3px 1px rgba(60, 64, 67, 0.15);\n",
              "    fill: var(--button-hover-fill-color);\n",
              "  }\n",
              "\n",
              "  .colab-df-quickchart-complete:disabled,\n",
              "  .colab-df-quickchart-complete:disabled:hover {\n",
              "    background-color: var(--disabled-bg-color);\n",
              "    fill: var(--disabled-fill-color);\n",
              "    box-shadow: none;\n",
              "  }\n",
              "\n",
              "  .colab-df-spinner {\n",
              "    border: 2px solid var(--fill-color);\n",
              "    border-color: transparent;\n",
              "    border-bottom-color: var(--fill-color);\n",
              "    animation:\n",
              "      spin 1s steps(1) infinite;\n",
              "  }\n",
              "\n",
              "  @keyframes spin {\n",
              "    0% {\n",
              "      border-color: transparent;\n",
              "      border-bottom-color: var(--fill-color);\n",
              "      border-left-color: var(--fill-color);\n",
              "    }\n",
              "    20% {\n",
              "      border-color: transparent;\n",
              "      border-left-color: var(--fill-color);\n",
              "      border-top-color: var(--fill-color);\n",
              "    }\n",
              "    30% {\n",
              "      border-color: transparent;\n",
              "      border-left-color: var(--fill-color);\n",
              "      border-top-color: var(--fill-color);\n",
              "      border-right-color: var(--fill-color);\n",
              "    }\n",
              "    40% {\n",
              "      border-color: transparent;\n",
              "      border-right-color: var(--fill-color);\n",
              "      border-top-color: var(--fill-color);\n",
              "    }\n",
              "    60% {\n",
              "      border-color: transparent;\n",
              "      border-right-color: var(--fill-color);\n",
              "    }\n",
              "    80% {\n",
              "      border-color: transparent;\n",
              "      border-right-color: var(--fill-color);\n",
              "      border-bottom-color: var(--fill-color);\n",
              "    }\n",
              "    90% {\n",
              "      border-color: transparent;\n",
              "      border-bottom-color: var(--fill-color);\n",
              "    }\n",
              "  }\n",
              "</style>\n",
              "\n",
              "  <script>\n",
              "    async function quickchart(key) {\n",
              "      const quickchartButtonEl =\n",
              "        document.querySelector('#' + key + ' button');\n",
              "      quickchartButtonEl.disabled = true;  // To prevent multiple clicks.\n",
              "      quickchartButtonEl.classList.add('colab-df-spinner');\n",
              "      try {\n",
              "        const charts = await google.colab.kernel.invokeFunction(\n",
              "            'suggestCharts', [key], {});\n",
              "      } catch (error) {\n",
              "        console.error('Error during call to suggestCharts:', error);\n",
              "      }\n",
              "      quickchartButtonEl.classList.remove('colab-df-spinner');\n",
              "      quickchartButtonEl.classList.add('colab-df-quickchart-complete');\n",
              "    }\n",
              "    (() => {\n",
              "      let quickchartButtonEl =\n",
              "        document.querySelector('#df-46d9257c-2010-49e3-959a-95019686d6ba button');\n",
              "      quickchartButtonEl.style.display =\n",
              "        google.colab.kernel.accessAllowed ? 'block' : 'none';\n",
              "    })();\n",
              "  </script>\n",
              "</div>\n",
              "    </div>\n",
              "  </div>\n"
            ]
          },
          "metadata": {},
          "execution_count": 28
        }
      ],
      "source": [
        "df_selected.info()\n",
        "df_selected.head()"
      ]
    },
    {
      "cell_type": "code",
      "execution_count": null,
      "id": "6095bff9-93ab-404f-bbb7-4c0dfc5fc306",
      "metadata": {
        "id": "6095bff9-93ab-404f-bbb7-4c0dfc5fc306"
      },
      "outputs": [],
      "source": [
        "import pandas as pd\n",
        "\n",
        "\n",
        "df_selected.to_csv('cleanedm.csv', index=False)\n"
      ]
    },
    {
      "cell_type": "code",
      "execution_count": null,
      "id": "a3f8bca5-a1d6-4419-ade1-12748d8316a6",
      "metadata": {
        "id": "a3f8bca5-a1d6-4419-ade1-12748d8316a6"
      },
      "outputs": [],
      "source": [
        "import csv\n",
        "\n",
        "def process_csv(input_file, output_file):\n",
        "    with open(input_file, 'r') as csv_file:\n",
        "        csv_reader = csv.DictReader(csv_file)\n",
        "        rows = list(csv_reader)\n",
        "#Row is for how many times a patient checks the blood sugar. It is formated that if it is 100s, the tens and ones value are how many times the patient\n",
        "#checks daily. If it 200s, the same applies only its weekly checks. If it is 300s, it is monthly. If it is 400s, it is yearly. 888 corresponds with none.\n",
        "#The below code block strips away the first digit and checks to see if there is a second digit that is not zero. Then it normalizes data to daily checks\n",
        "#from weekly, monthly, yearly so we all values are on the same scale. Rounds down to 5 digits.\n",
        "        for row in rows:\n",
        "            if row['Dly_Sugar_Check'].startswith('1'):\n",
        "                row['Dly_Sugar_Check'] = row['Dly_Sugar_Check'][1:]\n",
        "                if len(row['Dly_Sugar_Check']) > 0 and row['Dly_Sugar_Check'][0] == '0':\n",
        "                    row['Dly_Sugar_Check'] = row['Dly_Sugar_Check'][1:]\n",
        "            elif len(row['Dly_Sugar_Check']) == 5 and row['Dly_Sugar_Check'].startswith('2'):\n",
        "                row['Dly_Sugar_Check'] = row['Dly_Sugar_Check'][1:]\n",
        "                if len(row['Dly_Sugar_Check']) > 0 and row['Dly_Sugar_Check'][0] == '0':\n",
        "                    row['Dly_Sugar_Check'] = row['Dly_Sugar_Check'][1:]\n",
        "                    row['Dly_Sugar_Check'] = str(round(float(row['Dly_Sugar_Check']) / 7, 5))\n",
        "            elif len(row['Dly_Sugar_Check']) == 5 and row['Dly_Sugar_Check'].startswith('3'):\n",
        "                row['Dly_Sugar_Check'] = row['Dly_Sugar_Check'][1:]\n",
        "                if len(row['Dly_Sugar_Check']) > 0 and row['Dly_Sugar_Check'][0] == '0':\n",
        "                    row['Dly_Sugar_Check'] = row['Dly_Sugar_Check'][1:]\n",
        "                    row['Dly_Sugar_Check']=str(round(float(row['Dly_Sugar_Check'])/30, 5))\n",
        "            elif len(row['Dly_Sugar_Check']) == 5 and row['Dly_Sugar_Check'].startswith('4'):\n",
        "                row['Dly_Sugar_Check'] = row['Dly_Sugar_Check'][1:]\n",
        "                if len(row['Dly_Sugar_Check']) > 0 and row['Dly_Sugar_Check'][0] == '0':\n",
        "                    row['Dly_Sugar_Check'] = row['Dly_Sugar_Check'][1:]\n",
        "                    row['Dly_Sugar_Check']=str(round(float(row['Dly_Sugar_Check'])/365, 5))\n",
        "            elif row['Dly_Sugar_Check'] == ('888.0'):\n",
        "                row['Dly_Sugar_Check'] = ('0.0')\n",
        "\n",
        "#88 corresponds with none so in the below two rows, replacing that zero.\n",
        "        for row in rows:\n",
        "            if row['Diabetes_Checkup'] == ('88.0'):\n",
        "                row['Diabetes_Checkup'] = ('0.0')\n",
        "\n",
        "        for row in rows:\n",
        "            if row['Glycosylated_Hemoglobin'] == ('88.0'):\n",
        "                row['Glycosylated_Hemoglobin'] = ('0.0')\n",
        "\n",
        "\n",
        "    with open(output_file, 'w', newline='') as csv_file:\n",
        "        fieldnames = csv_reader.fieldnames\n",
        "        csv_writer = csv.DictWriter(csv_file, fieldnames=fieldnames)\n",
        "        csv_writer.writeheader()\n",
        "        csv_writer.writerows(rows)\n",
        "\n",
        "input_file = 'cleanedm.csv'\n",
        "output_file = 'outputm.csv'\n",
        "\n",
        "process_csv(input_file, output_file)"
      ]
    },
    {
      "cell_type": "code",
      "execution_count": null,
      "id": "70433f3c-0faa-4d6d-8b0c-828807b823e6",
      "metadata": {
        "id": "70433f3c-0faa-4d6d-8b0c-828807b823e6"
      },
      "outputs": [],
      "source": [
        "df = pd.read_csv(\"outputm.csv\")"
      ]
    },
    {
      "cell_type": "code",
      "execution_count": null,
      "id": "a38b81b3-61b5-4ffd-b669-dc7e2a88138a",
      "metadata": {
        "id": "a38b81b3-61b5-4ffd-b669-dc7e2a88138a",
        "outputId": "ac59f00f-1124-4022-9c55-7836c48892e3",
        "colab": {
          "base_uri": "https://localhost:8080/",
          "height": 226
        }
      },
      "outputs": [
        {
          "output_type": "execute_result",
          "data": {
            "text/plain": [
              "   Gender  Checkup  Exercise  Heart_Attack  Diabetes  Insulin  \\\n",
              "0     2.0      4.0       1.0           2.0       1.0      NaN   \n",
              "1     1.0      2.0       1.0           2.0       1.0      NaN   \n",
              "2     2.0      1.0       1.0           2.0       1.0      NaN   \n",
              "3     2.0      1.0       2.0           2.0       1.0      NaN   \n",
              "4     1.0      1.0       2.0           2.0       1.0      NaN   \n",
              "\n",
              "   Dly_Sugar_Check  Diabetes_Checkup  Glycosylated_Hemoglobin  \\\n",
              "0              NaN               NaN                      NaN   \n",
              "1              NaN               NaN                      NaN   \n",
              "2              NaN               NaN                      NaN   \n",
              "3              NaN               NaN                      NaN   \n",
              "4              NaN               NaN                      NaN   \n",
              "\n",
              "   Managing_Diabetes  Overweight_or_Obese_Calculated  Current_Smokers  \n",
              "0                NaN                             1.0              2.0  \n",
              "1                NaN                             2.0              1.0  \n",
              "2                NaN                             2.0              2.0  \n",
              "3                NaN                             2.0              1.0  \n",
              "4                NaN                             2.0              2.0  "
            ],
            "text/html": [
              "\n",
              "  <div id=\"df-58867b76-62d3-4343-a8fb-25aa57b06307\" class=\"colab-df-container\">\n",
              "    <div>\n",
              "<style scoped>\n",
              "    .dataframe tbody tr th:only-of-type {\n",
              "        vertical-align: middle;\n",
              "    }\n",
              "\n",
              "    .dataframe tbody tr th {\n",
              "        vertical-align: top;\n",
              "    }\n",
              "\n",
              "    .dataframe thead th {\n",
              "        text-align: right;\n",
              "    }\n",
              "</style>\n",
              "<table border=\"1\" class=\"dataframe\">\n",
              "  <thead>\n",
              "    <tr style=\"text-align: right;\">\n",
              "      <th></th>\n",
              "      <th>Gender</th>\n",
              "      <th>Checkup</th>\n",
              "      <th>Exercise</th>\n",
              "      <th>Heart_Attack</th>\n",
              "      <th>Diabetes</th>\n",
              "      <th>Insulin</th>\n",
              "      <th>Dly_Sugar_Check</th>\n",
              "      <th>Diabetes_Checkup</th>\n",
              "      <th>Glycosylated_Hemoglobin</th>\n",
              "      <th>Managing_Diabetes</th>\n",
              "      <th>Overweight_or_Obese_Calculated</th>\n",
              "      <th>Current_Smokers</th>\n",
              "    </tr>\n",
              "  </thead>\n",
              "  <tbody>\n",
              "    <tr>\n",
              "      <th>0</th>\n",
              "      <td>2.0</td>\n",
              "      <td>4.0</td>\n",
              "      <td>1.0</td>\n",
              "      <td>2.0</td>\n",
              "      <td>1.0</td>\n",
              "      <td>NaN</td>\n",
              "      <td>NaN</td>\n",
              "      <td>NaN</td>\n",
              "      <td>NaN</td>\n",
              "      <td>NaN</td>\n",
              "      <td>1.0</td>\n",
              "      <td>2.0</td>\n",
              "    </tr>\n",
              "    <tr>\n",
              "      <th>1</th>\n",
              "      <td>1.0</td>\n",
              "      <td>2.0</td>\n",
              "      <td>1.0</td>\n",
              "      <td>2.0</td>\n",
              "      <td>1.0</td>\n",
              "      <td>NaN</td>\n",
              "      <td>NaN</td>\n",
              "      <td>NaN</td>\n",
              "      <td>NaN</td>\n",
              "      <td>NaN</td>\n",
              "      <td>2.0</td>\n",
              "      <td>1.0</td>\n",
              "    </tr>\n",
              "    <tr>\n",
              "      <th>2</th>\n",
              "      <td>2.0</td>\n",
              "      <td>1.0</td>\n",
              "      <td>1.0</td>\n",
              "      <td>2.0</td>\n",
              "      <td>1.0</td>\n",
              "      <td>NaN</td>\n",
              "      <td>NaN</td>\n",
              "      <td>NaN</td>\n",
              "      <td>NaN</td>\n",
              "      <td>NaN</td>\n",
              "      <td>2.0</td>\n",
              "      <td>2.0</td>\n",
              "    </tr>\n",
              "    <tr>\n",
              "      <th>3</th>\n",
              "      <td>2.0</td>\n",
              "      <td>1.0</td>\n",
              "      <td>2.0</td>\n",
              "      <td>2.0</td>\n",
              "      <td>1.0</td>\n",
              "      <td>NaN</td>\n",
              "      <td>NaN</td>\n",
              "      <td>NaN</td>\n",
              "      <td>NaN</td>\n",
              "      <td>NaN</td>\n",
              "      <td>2.0</td>\n",
              "      <td>1.0</td>\n",
              "    </tr>\n",
              "    <tr>\n",
              "      <th>4</th>\n",
              "      <td>1.0</td>\n",
              "      <td>1.0</td>\n",
              "      <td>2.0</td>\n",
              "      <td>2.0</td>\n",
              "      <td>1.0</td>\n",
              "      <td>NaN</td>\n",
              "      <td>NaN</td>\n",
              "      <td>NaN</td>\n",
              "      <td>NaN</td>\n",
              "      <td>NaN</td>\n",
              "      <td>2.0</td>\n",
              "      <td>2.0</td>\n",
              "    </tr>\n",
              "  </tbody>\n",
              "</table>\n",
              "</div>\n",
              "    <div class=\"colab-df-buttons\">\n",
              "\n",
              "  <div class=\"colab-df-container\">\n",
              "    <button class=\"colab-df-convert\" onclick=\"convertToInteractive('df-58867b76-62d3-4343-a8fb-25aa57b06307')\"\n",
              "            title=\"Convert this dataframe to an interactive table.\"\n",
              "            style=\"display:none;\">\n",
              "\n",
              "  <svg xmlns=\"http://www.w3.org/2000/svg\" height=\"24px\" viewBox=\"0 -960 960 960\">\n",
              "    <path d=\"M120-120v-720h720v720H120Zm60-500h600v-160H180v160Zm220 220h160v-160H400v160Zm0 220h160v-160H400v160ZM180-400h160v-160H180v160Zm440 0h160v-160H620v160ZM180-180h160v-160H180v160Zm440 0h160v-160H620v160Z\"/>\n",
              "  </svg>\n",
              "    </button>\n",
              "\n",
              "  <style>\n",
              "    .colab-df-container {\n",
              "      display:flex;\n",
              "      gap: 12px;\n",
              "    }\n",
              "\n",
              "    .colab-df-convert {\n",
              "      background-color: #E8F0FE;\n",
              "      border: none;\n",
              "      border-radius: 50%;\n",
              "      cursor: pointer;\n",
              "      display: none;\n",
              "      fill: #1967D2;\n",
              "      height: 32px;\n",
              "      padding: 0 0 0 0;\n",
              "      width: 32px;\n",
              "    }\n",
              "\n",
              "    .colab-df-convert:hover {\n",
              "      background-color: #E2EBFA;\n",
              "      box-shadow: 0px 1px 2px rgba(60, 64, 67, 0.3), 0px 1px 3px 1px rgba(60, 64, 67, 0.15);\n",
              "      fill: #174EA6;\n",
              "    }\n",
              "\n",
              "    .colab-df-buttons div {\n",
              "      margin-bottom: 4px;\n",
              "    }\n",
              "\n",
              "    [theme=dark] .colab-df-convert {\n",
              "      background-color: #3B4455;\n",
              "      fill: #D2E3FC;\n",
              "    }\n",
              "\n",
              "    [theme=dark] .colab-df-convert:hover {\n",
              "      background-color: #434B5C;\n",
              "      box-shadow: 0px 1px 3px 1px rgba(0, 0, 0, 0.15);\n",
              "      filter: drop-shadow(0px 1px 2px rgba(0, 0, 0, 0.3));\n",
              "      fill: #FFFFFF;\n",
              "    }\n",
              "  </style>\n",
              "\n",
              "    <script>\n",
              "      const buttonEl =\n",
              "        document.querySelector('#df-58867b76-62d3-4343-a8fb-25aa57b06307 button.colab-df-convert');\n",
              "      buttonEl.style.display =\n",
              "        google.colab.kernel.accessAllowed ? 'block' : 'none';\n",
              "\n",
              "      async function convertToInteractive(key) {\n",
              "        const element = document.querySelector('#df-58867b76-62d3-4343-a8fb-25aa57b06307');\n",
              "        const dataTable =\n",
              "          await google.colab.kernel.invokeFunction('convertToInteractive',\n",
              "                                                    [key], {});\n",
              "        if (!dataTable) return;\n",
              "\n",
              "        const docLinkHtml = 'Like what you see? Visit the ' +\n",
              "          '<a target=\"_blank\" href=https://colab.research.google.com/notebooks/data_table.ipynb>data table notebook</a>'\n",
              "          + ' to learn more about interactive tables.';\n",
              "        element.innerHTML = '';\n",
              "        dataTable['output_type'] = 'display_data';\n",
              "        await google.colab.output.renderOutput(dataTable, element);\n",
              "        const docLink = document.createElement('div');\n",
              "        docLink.innerHTML = docLinkHtml;\n",
              "        element.appendChild(docLink);\n",
              "      }\n",
              "    </script>\n",
              "  </div>\n",
              "\n",
              "\n",
              "<div id=\"df-875c7082-c7b2-45bb-9856-4bcfd851a7a9\">\n",
              "  <button class=\"colab-df-quickchart\" onclick=\"quickchart('df-875c7082-c7b2-45bb-9856-4bcfd851a7a9')\"\n",
              "            title=\"Suggest charts\"\n",
              "            style=\"display:none;\">\n",
              "\n",
              "<svg xmlns=\"http://www.w3.org/2000/svg\" height=\"24px\"viewBox=\"0 0 24 24\"\n",
              "     width=\"24px\">\n",
              "    <g>\n",
              "        <path d=\"M19 3H5c-1.1 0-2 .9-2 2v14c0 1.1.9 2 2 2h14c1.1 0 2-.9 2-2V5c0-1.1-.9-2-2-2zM9 17H7v-7h2v7zm4 0h-2V7h2v10zm4 0h-2v-4h2v4z\"/>\n",
              "    </g>\n",
              "</svg>\n",
              "  </button>\n",
              "\n",
              "<style>\n",
              "  .colab-df-quickchart {\n",
              "      --bg-color: #E8F0FE;\n",
              "      --fill-color: #1967D2;\n",
              "      --hover-bg-color: #E2EBFA;\n",
              "      --hover-fill-color: #174EA6;\n",
              "      --disabled-fill-color: #AAA;\n",
              "      --disabled-bg-color: #DDD;\n",
              "  }\n",
              "\n",
              "  [theme=dark] .colab-df-quickchart {\n",
              "      --bg-color: #3B4455;\n",
              "      --fill-color: #D2E3FC;\n",
              "      --hover-bg-color: #434B5C;\n",
              "      --hover-fill-color: #FFFFFF;\n",
              "      --disabled-bg-color: #3B4455;\n",
              "      --disabled-fill-color: #666;\n",
              "  }\n",
              "\n",
              "  .colab-df-quickchart {\n",
              "    background-color: var(--bg-color);\n",
              "    border: none;\n",
              "    border-radius: 50%;\n",
              "    cursor: pointer;\n",
              "    display: none;\n",
              "    fill: var(--fill-color);\n",
              "    height: 32px;\n",
              "    padding: 0;\n",
              "    width: 32px;\n",
              "  }\n",
              "\n",
              "  .colab-df-quickchart:hover {\n",
              "    background-color: var(--hover-bg-color);\n",
              "    box-shadow: 0 1px 2px rgba(60, 64, 67, 0.3), 0 1px 3px 1px rgba(60, 64, 67, 0.15);\n",
              "    fill: var(--button-hover-fill-color);\n",
              "  }\n",
              "\n",
              "  .colab-df-quickchart-complete:disabled,\n",
              "  .colab-df-quickchart-complete:disabled:hover {\n",
              "    background-color: var(--disabled-bg-color);\n",
              "    fill: var(--disabled-fill-color);\n",
              "    box-shadow: none;\n",
              "  }\n",
              "\n",
              "  .colab-df-spinner {\n",
              "    border: 2px solid var(--fill-color);\n",
              "    border-color: transparent;\n",
              "    border-bottom-color: var(--fill-color);\n",
              "    animation:\n",
              "      spin 1s steps(1) infinite;\n",
              "  }\n",
              "\n",
              "  @keyframes spin {\n",
              "    0% {\n",
              "      border-color: transparent;\n",
              "      border-bottom-color: var(--fill-color);\n",
              "      border-left-color: var(--fill-color);\n",
              "    }\n",
              "    20% {\n",
              "      border-color: transparent;\n",
              "      border-left-color: var(--fill-color);\n",
              "      border-top-color: var(--fill-color);\n",
              "    }\n",
              "    30% {\n",
              "      border-color: transparent;\n",
              "      border-left-color: var(--fill-color);\n",
              "      border-top-color: var(--fill-color);\n",
              "      border-right-color: var(--fill-color);\n",
              "    }\n",
              "    40% {\n",
              "      border-color: transparent;\n",
              "      border-right-color: var(--fill-color);\n",
              "      border-top-color: var(--fill-color);\n",
              "    }\n",
              "    60% {\n",
              "      border-color: transparent;\n",
              "      border-right-color: var(--fill-color);\n",
              "    }\n",
              "    80% {\n",
              "      border-color: transparent;\n",
              "      border-right-color: var(--fill-color);\n",
              "      border-bottom-color: var(--fill-color);\n",
              "    }\n",
              "    90% {\n",
              "      border-color: transparent;\n",
              "      border-bottom-color: var(--fill-color);\n",
              "    }\n",
              "  }\n",
              "</style>\n",
              "\n",
              "  <script>\n",
              "    async function quickchart(key) {\n",
              "      const quickchartButtonEl =\n",
              "        document.querySelector('#' + key + ' button');\n",
              "      quickchartButtonEl.disabled = true;  // To prevent multiple clicks.\n",
              "      quickchartButtonEl.classList.add('colab-df-spinner');\n",
              "      try {\n",
              "        const charts = await google.colab.kernel.invokeFunction(\n",
              "            'suggestCharts', [key], {});\n",
              "      } catch (error) {\n",
              "        console.error('Error during call to suggestCharts:', error);\n",
              "      }\n",
              "      quickchartButtonEl.classList.remove('colab-df-spinner');\n",
              "      quickchartButtonEl.classList.add('colab-df-quickchart-complete');\n",
              "    }\n",
              "    (() => {\n",
              "      let quickchartButtonEl =\n",
              "        document.querySelector('#df-875c7082-c7b2-45bb-9856-4bcfd851a7a9 button');\n",
              "      quickchartButtonEl.style.display =\n",
              "        google.colab.kernel.accessAllowed ? 'block' : 'none';\n",
              "    })();\n",
              "  </script>\n",
              "</div>\n",
              "    </div>\n",
              "  </div>\n"
            ]
          },
          "metadata": {},
          "execution_count": 32
        }
      ],
      "source": [
        "df_selected = df[['Gender', 'Checkup', 'Exercise', 'Heart_Attack', 'Diabetes', 'Insulin', 'Dly_Sugar_Check', 'Diabetes_Checkup', 'Glycosylated_Hemoglobin', 'Managing_Diabetes', 'Overweight_or_Obese_Calculated', 'Current_Smokers']]\n",
        "df_selected.head()"
      ]
    },
    {
      "cell_type": "code",
      "execution_count": null,
      "id": "52090fa9-3cae-4e77-9568-572e7a7b38d5",
      "metadata": {
        "id": "52090fa9-3cae-4e77-9568-572e7a7b38d5",
        "outputId": "065beac5-e311-4dd1-c7b4-a10ba8082d49",
        "colab": {
          "base_uri": "https://localhost:8080/"
        }
      },
      "outputs": [
        {
          "output_type": "execute_result",
          "data": {
            "text/plain": [
              "Gender                                0\n",
              "Checkup                             356\n",
              "Exercise                            123\n",
              "Heart_Attack                        410\n",
              "Diabetes                              6\n",
              "Insulin                           39024\n",
              "Dly_Sugar_Check                   38992\n",
              "Diabetes_Checkup                  39395\n",
              "Glycosylated_Hemoglobin           39698\n",
              "Managing_Diabetes                 39046\n",
              "Overweight_or_Obese_Calculated     4979\n",
              "Current_Smokers                    2433\n",
              "dtype: int64"
            ]
          },
          "metadata": {},
          "execution_count": 33
        }
      ],
      "source": [
        "df_selected.isnull().sum()"
      ]
    },
    {
      "cell_type": "code",
      "execution_count": null,
      "id": "fea93ab9-f9d5-48a5-ac2a-5c8e7b81e4f8",
      "metadata": {
        "id": "fea93ab9-f9d5-48a5-ac2a-5c8e7b81e4f8",
        "outputId": "93d0f53a-3968-41d5-8be0-fa19e959f72d",
        "colab": {
          "base_uri": "https://localhost:8080/"
        }
      },
      "outputs": [
        {
          "output_type": "execute_result",
          "data": {
            "text/plain": [
              "Gender                            False\n",
              "Checkup                            True\n",
              "Exercise                           True\n",
              "Heart_Attack                       True\n",
              "Diabetes                           True\n",
              "Insulin                            True\n",
              "Dly_Sugar_Check                    True\n",
              "Diabetes_Checkup                   True\n",
              "Glycosylated_Hemoglobin            True\n",
              "Managing_Diabetes                  True\n",
              "Overweight_or_Obese_Calculated     True\n",
              "Current_Smokers                    True\n",
              "dtype: bool"
            ]
          },
          "metadata": {},
          "execution_count": 34
        }
      ],
      "source": [
        "df_selected.isnull().any()"
      ]
    },
    {
      "cell_type": "code",
      "execution_count": null,
      "id": "f52da9c1-6216-4b4c-a99f-0b598b8d302a",
      "metadata": {
        "id": "f52da9c1-6216-4b4c-a99f-0b598b8d302a",
        "outputId": "931b9acb-9f92-4869-9094-c3cb92485429",
        "colab": {
          "base_uri": "https://localhost:8080/"
        }
      },
      "outputs": [
        {
          "output_type": "execute_result",
          "data": {
            "text/plain": [
              "Gender                            51699\n",
              "Checkup                           51343\n",
              "Exercise                          51576\n",
              "Heart_Attack                      51289\n",
              "Diabetes                          51693\n",
              "Insulin                           12675\n",
              "Dly_Sugar_Check                   12707\n",
              "Diabetes_Checkup                  12304\n",
              "Glycosylated_Hemoglobin           12001\n",
              "Managing_Diabetes                 12653\n",
              "Overweight_or_Obese_Calculated    46720\n",
              "Current_Smokers                   49266\n",
              "dtype: int64"
            ]
          },
          "metadata": {},
          "execution_count": 35
        }
      ],
      "source": [
        "df_selected.count()"
      ]
    },
    {
      "cell_type": "code",
      "source": [
        "pip install --upgrade scikit-learn"
      ],
      "metadata": {
        "colab": {
          "base_uri": "https://localhost:8080/"
        },
        "id": "vSsBWaL4AiTL",
        "outputId": "4c0d5f6a-58f2-4088-db5e-1dc02dfacf6f"
      },
      "id": "vSsBWaL4AiTL",
      "execution_count": null,
      "outputs": [
        {
          "output_type": "stream",
          "name": "stdout",
          "text": [
            "Requirement already satisfied: scikit-learn in /usr/local/lib/python3.10/dist-packages (1.2.2)\n",
            "Collecting scikit-learn\n",
            "  Downloading scikit_learn-1.3.2-cp310-cp310-manylinux_2_17_x86_64.manylinux2014_x86_64.whl (10.8 MB)\n",
            "\u001b[2K     \u001b[90m━━━━━━━━━━━━━━━━━━━━━━━━━━━━━━━━━━━━━━━━\u001b[0m \u001b[32m10.8/10.8 MB\u001b[0m \u001b[31m40.2 MB/s\u001b[0m eta \u001b[36m0:00:00\u001b[0m\n",
            "\u001b[?25hRequirement already satisfied: numpy<2.0,>=1.17.3 in /usr/local/lib/python3.10/dist-packages (from scikit-learn) (1.23.5)\n",
            "Requirement already satisfied: scipy>=1.5.0 in /usr/local/lib/python3.10/dist-packages (from scikit-learn) (1.11.4)\n",
            "Requirement already satisfied: joblib>=1.1.1 in /usr/local/lib/python3.10/dist-packages (from scikit-learn) (1.3.2)\n",
            "Requirement already satisfied: threadpoolctl>=2.0.0 in /usr/local/lib/python3.10/dist-packages (from scikit-learn) (3.2.0)\n",
            "Installing collected packages: scikit-learn\n",
            "  Attempting uninstall: scikit-learn\n",
            "    Found existing installation: scikit-learn 1.2.2\n",
            "    Uninstalling scikit-learn-1.2.2:\n",
            "      Successfully uninstalled scikit-learn-1.2.2\n",
            "Successfully installed scikit-learn-1.3.2\n"
          ]
        }
      ]
    },
    {
      "cell_type": "code",
      "execution_count": null,
      "id": "8a346984-ce14-4f62-b67f-16d7dda74f6a",
      "metadata": {
        "id": "8a346984-ce14-4f62-b67f-16d7dda74f6a",
        "outputId": "0a765b4c-9e09-4f2f-fe53-e4492234270f",
        "colab": {
          "base_uri": "https://localhost:8080/"
        }
      },
      "outputs": [
        {
          "output_type": "stream",
          "name": "stdout",
          "text": [
            "12\n"
          ]
        }
      ],
      "source": [
        "import pandas as pd\n",
        "from sklearn.impute import SimpleImputer\n",
        "\n",
        "# Load your data\n",
        "df = pd.read_csv(\"/content/outputm.csv\")\n",
        "print(len(df.columns))\n",
        "\n",
        "# Initialize the SimpleImputer with the desired strategy (mean, median, most_frequent, or constant)\n",
        "imputer = SimpleImputer(strategy='most_frequent')  # You can choose a different strategy based on your requirements\n",
        "df_new = pd.DataFrame()\n",
        "\n",
        "# Fit and transform the dataset\n",
        "df_new = imputer.fit_transform(df)\n",
        "\n",
        "# Now, df contains the DataFrame with imputed values\n",
        "df_imputed = pd.DataFrame(df_new, columns=df.columns[:])"
      ]
    },
    {
      "cell_type": "code",
      "execution_count": null,
      "id": "c33e45e2-055f-4bfa-90e3-807df7876f07",
      "metadata": {
        "id": "c33e45e2-055f-4bfa-90e3-807df7876f07",
        "outputId": "f2bf655e-82bf-4a31-9e6b-c2dfc9303a4e",
        "colab": {
          "base_uri": "https://localhost:8080/"
        }
      },
      "outputs": [
        {
          "output_type": "execute_result",
          "data": {
            "text/plain": [
              "Gender                            False\n",
              "Checkup                           False\n",
              "Exercise                          False\n",
              "Heart_Attack                      False\n",
              "Diabetes                          False\n",
              "Insulin                           False\n",
              "Dly_Sugar_Check                   False\n",
              "Diabetes_Checkup                  False\n",
              "Glycosylated_Hemoglobin           False\n",
              "Managing_Diabetes                 False\n",
              "Overweight_or_Obese_Calculated    False\n",
              "Current_Smokers                   False\n",
              "dtype: bool"
            ]
          },
          "metadata": {},
          "execution_count": 38
        }
      ],
      "source": [
        "df_imputed.isnull().any()"
      ]
    },
    {
      "cell_type": "code",
      "source": [
        "df_imputed.head()"
      ],
      "metadata": {
        "colab": {
          "base_uri": "https://localhost:8080/",
          "height": 226
        },
        "id": "ghbp-tbW-xRc",
        "outputId": "9b115c87-22bc-4a1a-fb9c-4bbb03ec9b5e"
      },
      "id": "ghbp-tbW-xRc",
      "execution_count": null,
      "outputs": [
        {
          "output_type": "execute_result",
          "data": {
            "text/plain": [
              "   Gender  Checkup  Exercise  Heart_Attack  Diabetes  Insulin  \\\n",
              "0     2.0      4.0       1.0           2.0       1.0      2.0   \n",
              "1     1.0      2.0       1.0           2.0       1.0      2.0   \n",
              "2     2.0      1.0       1.0           2.0       1.0      2.0   \n",
              "3     2.0      1.0       2.0           2.0       1.0      2.0   \n",
              "4     1.0      1.0       2.0           2.0       1.0      2.0   \n",
              "\n",
              "   Dly_Sugar_Check  Diabetes_Checkup  Glycosylated_Hemoglobin  \\\n",
              "0              1.0               4.0                      2.0   \n",
              "1              1.0               4.0                      2.0   \n",
              "2              1.0               4.0                      2.0   \n",
              "3              1.0               4.0                      2.0   \n",
              "4              1.0               4.0                      2.0   \n",
              "\n",
              "   Managing_Diabetes  Overweight_or_Obese_Calculated  Current_Smokers  \n",
              "0                1.0                             1.0              2.0  \n",
              "1                1.0                             2.0              1.0  \n",
              "2                1.0                             2.0              2.0  \n",
              "3                1.0                             2.0              1.0  \n",
              "4                1.0                             2.0              2.0  "
            ],
            "text/html": [
              "\n",
              "  <div id=\"df-d60b53c4-35cf-40ee-bc6d-908a0601f2b7\" class=\"colab-df-container\">\n",
              "    <div>\n",
              "<style scoped>\n",
              "    .dataframe tbody tr th:only-of-type {\n",
              "        vertical-align: middle;\n",
              "    }\n",
              "\n",
              "    .dataframe tbody tr th {\n",
              "        vertical-align: top;\n",
              "    }\n",
              "\n",
              "    .dataframe thead th {\n",
              "        text-align: right;\n",
              "    }\n",
              "</style>\n",
              "<table border=\"1\" class=\"dataframe\">\n",
              "  <thead>\n",
              "    <tr style=\"text-align: right;\">\n",
              "      <th></th>\n",
              "      <th>Gender</th>\n",
              "      <th>Checkup</th>\n",
              "      <th>Exercise</th>\n",
              "      <th>Heart_Attack</th>\n",
              "      <th>Diabetes</th>\n",
              "      <th>Insulin</th>\n",
              "      <th>Dly_Sugar_Check</th>\n",
              "      <th>Diabetes_Checkup</th>\n",
              "      <th>Glycosylated_Hemoglobin</th>\n",
              "      <th>Managing_Diabetes</th>\n",
              "      <th>Overweight_or_Obese_Calculated</th>\n",
              "      <th>Current_Smokers</th>\n",
              "    </tr>\n",
              "  </thead>\n",
              "  <tbody>\n",
              "    <tr>\n",
              "      <th>0</th>\n",
              "      <td>2.0</td>\n",
              "      <td>4.0</td>\n",
              "      <td>1.0</td>\n",
              "      <td>2.0</td>\n",
              "      <td>1.0</td>\n",
              "      <td>2.0</td>\n",
              "      <td>1.0</td>\n",
              "      <td>4.0</td>\n",
              "      <td>2.0</td>\n",
              "      <td>1.0</td>\n",
              "      <td>1.0</td>\n",
              "      <td>2.0</td>\n",
              "    </tr>\n",
              "    <tr>\n",
              "      <th>1</th>\n",
              "      <td>1.0</td>\n",
              "      <td>2.0</td>\n",
              "      <td>1.0</td>\n",
              "      <td>2.0</td>\n",
              "      <td>1.0</td>\n",
              "      <td>2.0</td>\n",
              "      <td>1.0</td>\n",
              "      <td>4.0</td>\n",
              "      <td>2.0</td>\n",
              "      <td>1.0</td>\n",
              "      <td>2.0</td>\n",
              "      <td>1.0</td>\n",
              "    </tr>\n",
              "    <tr>\n",
              "      <th>2</th>\n",
              "      <td>2.0</td>\n",
              "      <td>1.0</td>\n",
              "      <td>1.0</td>\n",
              "      <td>2.0</td>\n",
              "      <td>1.0</td>\n",
              "      <td>2.0</td>\n",
              "      <td>1.0</td>\n",
              "      <td>4.0</td>\n",
              "      <td>2.0</td>\n",
              "      <td>1.0</td>\n",
              "      <td>2.0</td>\n",
              "      <td>2.0</td>\n",
              "    </tr>\n",
              "    <tr>\n",
              "      <th>3</th>\n",
              "      <td>2.0</td>\n",
              "      <td>1.0</td>\n",
              "      <td>2.0</td>\n",
              "      <td>2.0</td>\n",
              "      <td>1.0</td>\n",
              "      <td>2.0</td>\n",
              "      <td>1.0</td>\n",
              "      <td>4.0</td>\n",
              "      <td>2.0</td>\n",
              "      <td>1.0</td>\n",
              "      <td>2.0</td>\n",
              "      <td>1.0</td>\n",
              "    </tr>\n",
              "    <tr>\n",
              "      <th>4</th>\n",
              "      <td>1.0</td>\n",
              "      <td>1.0</td>\n",
              "      <td>2.0</td>\n",
              "      <td>2.0</td>\n",
              "      <td>1.0</td>\n",
              "      <td>2.0</td>\n",
              "      <td>1.0</td>\n",
              "      <td>4.0</td>\n",
              "      <td>2.0</td>\n",
              "      <td>1.0</td>\n",
              "      <td>2.0</td>\n",
              "      <td>2.0</td>\n",
              "    </tr>\n",
              "  </tbody>\n",
              "</table>\n",
              "</div>\n",
              "    <div class=\"colab-df-buttons\">\n",
              "\n",
              "  <div class=\"colab-df-container\">\n",
              "    <button class=\"colab-df-convert\" onclick=\"convertToInteractive('df-d60b53c4-35cf-40ee-bc6d-908a0601f2b7')\"\n",
              "            title=\"Convert this dataframe to an interactive table.\"\n",
              "            style=\"display:none;\">\n",
              "\n",
              "  <svg xmlns=\"http://www.w3.org/2000/svg\" height=\"24px\" viewBox=\"0 -960 960 960\">\n",
              "    <path d=\"M120-120v-720h720v720H120Zm60-500h600v-160H180v160Zm220 220h160v-160H400v160Zm0 220h160v-160H400v160ZM180-400h160v-160H180v160Zm440 0h160v-160H620v160ZM180-180h160v-160H180v160Zm440 0h160v-160H620v160Z\"/>\n",
              "  </svg>\n",
              "    </button>\n",
              "\n",
              "  <style>\n",
              "    .colab-df-container {\n",
              "      display:flex;\n",
              "      gap: 12px;\n",
              "    }\n",
              "\n",
              "    .colab-df-convert {\n",
              "      background-color: #E8F0FE;\n",
              "      border: none;\n",
              "      border-radius: 50%;\n",
              "      cursor: pointer;\n",
              "      display: none;\n",
              "      fill: #1967D2;\n",
              "      height: 32px;\n",
              "      padding: 0 0 0 0;\n",
              "      width: 32px;\n",
              "    }\n",
              "\n",
              "    .colab-df-convert:hover {\n",
              "      background-color: #E2EBFA;\n",
              "      box-shadow: 0px 1px 2px rgba(60, 64, 67, 0.3), 0px 1px 3px 1px rgba(60, 64, 67, 0.15);\n",
              "      fill: #174EA6;\n",
              "    }\n",
              "\n",
              "    .colab-df-buttons div {\n",
              "      margin-bottom: 4px;\n",
              "    }\n",
              "\n",
              "    [theme=dark] .colab-df-convert {\n",
              "      background-color: #3B4455;\n",
              "      fill: #D2E3FC;\n",
              "    }\n",
              "\n",
              "    [theme=dark] .colab-df-convert:hover {\n",
              "      background-color: #434B5C;\n",
              "      box-shadow: 0px 1px 3px 1px rgba(0, 0, 0, 0.15);\n",
              "      filter: drop-shadow(0px 1px 2px rgba(0, 0, 0, 0.3));\n",
              "      fill: #FFFFFF;\n",
              "    }\n",
              "  </style>\n",
              "\n",
              "    <script>\n",
              "      const buttonEl =\n",
              "        document.querySelector('#df-d60b53c4-35cf-40ee-bc6d-908a0601f2b7 button.colab-df-convert');\n",
              "      buttonEl.style.display =\n",
              "        google.colab.kernel.accessAllowed ? 'block' : 'none';\n",
              "\n",
              "      async function convertToInteractive(key) {\n",
              "        const element = document.querySelector('#df-d60b53c4-35cf-40ee-bc6d-908a0601f2b7');\n",
              "        const dataTable =\n",
              "          await google.colab.kernel.invokeFunction('convertToInteractive',\n",
              "                                                    [key], {});\n",
              "        if (!dataTable) return;\n",
              "\n",
              "        const docLinkHtml = 'Like what you see? Visit the ' +\n",
              "          '<a target=\"_blank\" href=https://colab.research.google.com/notebooks/data_table.ipynb>data table notebook</a>'\n",
              "          + ' to learn more about interactive tables.';\n",
              "        element.innerHTML = '';\n",
              "        dataTable['output_type'] = 'display_data';\n",
              "        await google.colab.output.renderOutput(dataTable, element);\n",
              "        const docLink = document.createElement('div');\n",
              "        docLink.innerHTML = docLinkHtml;\n",
              "        element.appendChild(docLink);\n",
              "      }\n",
              "    </script>\n",
              "  </div>\n",
              "\n",
              "\n",
              "<div id=\"df-c62a35dd-111c-44e2-a397-1cf565a63600\">\n",
              "  <button class=\"colab-df-quickchart\" onclick=\"quickchart('df-c62a35dd-111c-44e2-a397-1cf565a63600')\"\n",
              "            title=\"Suggest charts\"\n",
              "            style=\"display:none;\">\n",
              "\n",
              "<svg xmlns=\"http://www.w3.org/2000/svg\" height=\"24px\"viewBox=\"0 0 24 24\"\n",
              "     width=\"24px\">\n",
              "    <g>\n",
              "        <path d=\"M19 3H5c-1.1 0-2 .9-2 2v14c0 1.1.9 2 2 2h14c1.1 0 2-.9 2-2V5c0-1.1-.9-2-2-2zM9 17H7v-7h2v7zm4 0h-2V7h2v10zm4 0h-2v-4h2v4z\"/>\n",
              "    </g>\n",
              "</svg>\n",
              "  </button>\n",
              "\n",
              "<style>\n",
              "  .colab-df-quickchart {\n",
              "      --bg-color: #E8F0FE;\n",
              "      --fill-color: #1967D2;\n",
              "      --hover-bg-color: #E2EBFA;\n",
              "      --hover-fill-color: #174EA6;\n",
              "      --disabled-fill-color: #AAA;\n",
              "      --disabled-bg-color: #DDD;\n",
              "  }\n",
              "\n",
              "  [theme=dark] .colab-df-quickchart {\n",
              "      --bg-color: #3B4455;\n",
              "      --fill-color: #D2E3FC;\n",
              "      --hover-bg-color: #434B5C;\n",
              "      --hover-fill-color: #FFFFFF;\n",
              "      --disabled-bg-color: #3B4455;\n",
              "      --disabled-fill-color: #666;\n",
              "  }\n",
              "\n",
              "  .colab-df-quickchart {\n",
              "    background-color: var(--bg-color);\n",
              "    border: none;\n",
              "    border-radius: 50%;\n",
              "    cursor: pointer;\n",
              "    display: none;\n",
              "    fill: var(--fill-color);\n",
              "    height: 32px;\n",
              "    padding: 0;\n",
              "    width: 32px;\n",
              "  }\n",
              "\n",
              "  .colab-df-quickchart:hover {\n",
              "    background-color: var(--hover-bg-color);\n",
              "    box-shadow: 0 1px 2px rgba(60, 64, 67, 0.3), 0 1px 3px 1px rgba(60, 64, 67, 0.15);\n",
              "    fill: var(--button-hover-fill-color);\n",
              "  }\n",
              "\n",
              "  .colab-df-quickchart-complete:disabled,\n",
              "  .colab-df-quickchart-complete:disabled:hover {\n",
              "    background-color: var(--disabled-bg-color);\n",
              "    fill: var(--disabled-fill-color);\n",
              "    box-shadow: none;\n",
              "  }\n",
              "\n",
              "  .colab-df-spinner {\n",
              "    border: 2px solid var(--fill-color);\n",
              "    border-color: transparent;\n",
              "    border-bottom-color: var(--fill-color);\n",
              "    animation:\n",
              "      spin 1s steps(1) infinite;\n",
              "  }\n",
              "\n",
              "  @keyframes spin {\n",
              "    0% {\n",
              "      border-color: transparent;\n",
              "      border-bottom-color: var(--fill-color);\n",
              "      border-left-color: var(--fill-color);\n",
              "    }\n",
              "    20% {\n",
              "      border-color: transparent;\n",
              "      border-left-color: var(--fill-color);\n",
              "      border-top-color: var(--fill-color);\n",
              "    }\n",
              "    30% {\n",
              "      border-color: transparent;\n",
              "      border-left-color: var(--fill-color);\n",
              "      border-top-color: var(--fill-color);\n",
              "      border-right-color: var(--fill-color);\n",
              "    }\n",
              "    40% {\n",
              "      border-color: transparent;\n",
              "      border-right-color: var(--fill-color);\n",
              "      border-top-color: var(--fill-color);\n",
              "    }\n",
              "    60% {\n",
              "      border-color: transparent;\n",
              "      border-right-color: var(--fill-color);\n",
              "    }\n",
              "    80% {\n",
              "      border-color: transparent;\n",
              "      border-right-color: var(--fill-color);\n",
              "      border-bottom-color: var(--fill-color);\n",
              "    }\n",
              "    90% {\n",
              "      border-color: transparent;\n",
              "      border-bottom-color: var(--fill-color);\n",
              "    }\n",
              "  }\n",
              "</style>\n",
              "\n",
              "  <script>\n",
              "    async function quickchart(key) {\n",
              "      const quickchartButtonEl =\n",
              "        document.querySelector('#' + key + ' button');\n",
              "      quickchartButtonEl.disabled = true;  // To prevent multiple clicks.\n",
              "      quickchartButtonEl.classList.add('colab-df-spinner');\n",
              "      try {\n",
              "        const charts = await google.colab.kernel.invokeFunction(\n",
              "            'suggestCharts', [key], {});\n",
              "      } catch (error) {\n",
              "        console.error('Error during call to suggestCharts:', error);\n",
              "      }\n",
              "      quickchartButtonEl.classList.remove('colab-df-spinner');\n",
              "      quickchartButtonEl.classList.add('colab-df-quickchart-complete');\n",
              "    }\n",
              "    (() => {\n",
              "      let quickchartButtonEl =\n",
              "        document.querySelector('#df-c62a35dd-111c-44e2-a397-1cf565a63600 button');\n",
              "      quickchartButtonEl.style.display =\n",
              "        google.colab.kernel.accessAllowed ? 'block' : 'none';\n",
              "    })();\n",
              "  </script>\n",
              "</div>\n",
              "    </div>\n",
              "  </div>\n"
            ]
          },
          "metadata": {},
          "execution_count": 39
        }
      ]
    },
    {
      "cell_type": "code",
      "source": [
        "df_imputed.count()"
      ],
      "metadata": {
        "colab": {
          "base_uri": "https://localhost:8080/"
        },
        "id": "0Ox0jznu-4MQ",
        "outputId": "29d52642-4208-40e0-eb02-98d141baab51"
      },
      "id": "0Ox0jznu-4MQ",
      "execution_count": null,
      "outputs": [
        {
          "output_type": "execute_result",
          "data": {
            "text/plain": [
              "Gender                            51699\n",
              "Checkup                           51699\n",
              "Exercise                          51699\n",
              "Heart_Attack                      51699\n",
              "Diabetes                          51699\n",
              "Insulin                           51699\n",
              "Dly_Sugar_Check                   51699\n",
              "Diabetes_Checkup                  51699\n",
              "Glycosylated_Hemoglobin           51699\n",
              "Managing_Diabetes                 51699\n",
              "Overweight_or_Obese_Calculated    51699\n",
              "Current_Smokers                   51699\n",
              "dtype: int64"
            ]
          },
          "metadata": {},
          "execution_count": 40
        }
      ]
    },
    {
      "cell_type": "code",
      "source": [
        "df_selected=df_imputed"
      ],
      "metadata": {
        "id": "weJFoRfS-_oH"
      },
      "id": "weJFoRfS-_oH",
      "execution_count": null,
      "outputs": []
    },
    {
      "cell_type": "code",
      "execution_count": null,
      "id": "49423397-9654-4cb7-89f3-1bc030894090",
      "metadata": {
        "scrolled": true,
        "id": "49423397-9654-4cb7-89f3-1bc030894090",
        "outputId": "a6a59458-4e03-4246-bf58-be508a500712",
        "colab": {
          "base_uri": "https://localhost:8080/",
          "height": 320
        }
      },
      "outputs": [
        {
          "output_type": "execute_result",
          "data": {
            "text/plain": [
              "             Gender       Checkup      Exercise  Heart_Attack  Diabetes  \\\n",
              "count  51699.000000  51699.000000  51699.000000  51699.000000   51699.0   \n",
              "mean       1.520358      1.093155      1.390104      1.856225       1.0   \n",
              "std        0.499590      0.454247      0.487778      0.350864       0.0   \n",
              "min        1.000000      1.000000      1.000000      1.000000       1.0   \n",
              "25%        1.000000      1.000000      1.000000      2.000000       1.0   \n",
              "50%        2.000000      1.000000      1.000000      2.000000       1.0   \n",
              "75%        2.000000      1.000000      2.000000      2.000000       1.0   \n",
              "max        2.000000      8.000000      2.000000      2.000000       1.0   \n",
              "\n",
              "            Insulin  Dly_Sugar_Check  Diabetes_Checkup  \\\n",
              "count  51699.000000     51699.000000      51699.000000   \n",
              "mean       1.918451         1.198956          3.841254   \n",
              "std        0.273679         3.336723          2.683183   \n",
              "min        1.000000         0.000000          0.000000   \n",
              "25%        2.000000         1.000000          4.000000   \n",
              "50%        2.000000         1.000000          4.000000   \n",
              "75%        2.000000         1.000000          4.000000   \n",
              "max        2.000000        99.000000         76.000000   \n",
              "\n",
              "       Glycosylated_Hemoglobin  Managing_Diabetes  \\\n",
              "count             51699.000000       51699.000000   \n",
              "mean                  2.203060           1.118513   \n",
              "std                   2.133465           0.323218   \n",
              "min                   0.000000           1.000000   \n",
              "25%                   2.000000           1.000000   \n",
              "50%                   2.000000           1.000000   \n",
              "75%                   2.000000           1.000000   \n",
              "max                  76.000000           2.000000   \n",
              "\n",
              "       Overweight_or_Obese_Calculated  Current_Smokers  \n",
              "count                    51699.000000     51699.000000  \n",
              "mean                         1.865413         1.127275  \n",
              "std                          0.341285         0.333284  \n",
              "min                          1.000000         1.000000  \n",
              "25%                          2.000000         1.000000  \n",
              "50%                          2.000000         1.000000  \n",
              "75%                          2.000000         1.000000  \n",
              "max                          2.000000         2.000000  "
            ],
            "text/html": [
              "\n",
              "  <div id=\"df-28305b69-eb84-4848-b2a4-c1ef3a9a7bf1\" class=\"colab-df-container\">\n",
              "    <div>\n",
              "<style scoped>\n",
              "    .dataframe tbody tr th:only-of-type {\n",
              "        vertical-align: middle;\n",
              "    }\n",
              "\n",
              "    .dataframe tbody tr th {\n",
              "        vertical-align: top;\n",
              "    }\n",
              "\n",
              "    .dataframe thead th {\n",
              "        text-align: right;\n",
              "    }\n",
              "</style>\n",
              "<table border=\"1\" class=\"dataframe\">\n",
              "  <thead>\n",
              "    <tr style=\"text-align: right;\">\n",
              "      <th></th>\n",
              "      <th>Gender</th>\n",
              "      <th>Checkup</th>\n",
              "      <th>Exercise</th>\n",
              "      <th>Heart_Attack</th>\n",
              "      <th>Diabetes</th>\n",
              "      <th>Insulin</th>\n",
              "      <th>Dly_Sugar_Check</th>\n",
              "      <th>Diabetes_Checkup</th>\n",
              "      <th>Glycosylated_Hemoglobin</th>\n",
              "      <th>Managing_Diabetes</th>\n",
              "      <th>Overweight_or_Obese_Calculated</th>\n",
              "      <th>Current_Smokers</th>\n",
              "    </tr>\n",
              "  </thead>\n",
              "  <tbody>\n",
              "    <tr>\n",
              "      <th>count</th>\n",
              "      <td>51699.000000</td>\n",
              "      <td>51699.000000</td>\n",
              "      <td>51699.000000</td>\n",
              "      <td>51699.000000</td>\n",
              "      <td>51699.0</td>\n",
              "      <td>51699.000000</td>\n",
              "      <td>51699.000000</td>\n",
              "      <td>51699.000000</td>\n",
              "      <td>51699.000000</td>\n",
              "      <td>51699.000000</td>\n",
              "      <td>51699.000000</td>\n",
              "      <td>51699.000000</td>\n",
              "    </tr>\n",
              "    <tr>\n",
              "      <th>mean</th>\n",
              "      <td>1.520358</td>\n",
              "      <td>1.093155</td>\n",
              "      <td>1.390104</td>\n",
              "      <td>1.856225</td>\n",
              "      <td>1.0</td>\n",
              "      <td>1.918451</td>\n",
              "      <td>1.198956</td>\n",
              "      <td>3.841254</td>\n",
              "      <td>2.203060</td>\n",
              "      <td>1.118513</td>\n",
              "      <td>1.865413</td>\n",
              "      <td>1.127275</td>\n",
              "    </tr>\n",
              "    <tr>\n",
              "      <th>std</th>\n",
              "      <td>0.499590</td>\n",
              "      <td>0.454247</td>\n",
              "      <td>0.487778</td>\n",
              "      <td>0.350864</td>\n",
              "      <td>0.0</td>\n",
              "      <td>0.273679</td>\n",
              "      <td>3.336723</td>\n",
              "      <td>2.683183</td>\n",
              "      <td>2.133465</td>\n",
              "      <td>0.323218</td>\n",
              "      <td>0.341285</td>\n",
              "      <td>0.333284</td>\n",
              "    </tr>\n",
              "    <tr>\n",
              "      <th>min</th>\n",
              "      <td>1.000000</td>\n",
              "      <td>1.000000</td>\n",
              "      <td>1.000000</td>\n",
              "      <td>1.000000</td>\n",
              "      <td>1.0</td>\n",
              "      <td>1.000000</td>\n",
              "      <td>0.000000</td>\n",
              "      <td>0.000000</td>\n",
              "      <td>0.000000</td>\n",
              "      <td>1.000000</td>\n",
              "      <td>1.000000</td>\n",
              "      <td>1.000000</td>\n",
              "    </tr>\n",
              "    <tr>\n",
              "      <th>25%</th>\n",
              "      <td>1.000000</td>\n",
              "      <td>1.000000</td>\n",
              "      <td>1.000000</td>\n",
              "      <td>2.000000</td>\n",
              "      <td>1.0</td>\n",
              "      <td>2.000000</td>\n",
              "      <td>1.000000</td>\n",
              "      <td>4.000000</td>\n",
              "      <td>2.000000</td>\n",
              "      <td>1.000000</td>\n",
              "      <td>2.000000</td>\n",
              "      <td>1.000000</td>\n",
              "    </tr>\n",
              "    <tr>\n",
              "      <th>50%</th>\n",
              "      <td>2.000000</td>\n",
              "      <td>1.000000</td>\n",
              "      <td>1.000000</td>\n",
              "      <td>2.000000</td>\n",
              "      <td>1.0</td>\n",
              "      <td>2.000000</td>\n",
              "      <td>1.000000</td>\n",
              "      <td>4.000000</td>\n",
              "      <td>2.000000</td>\n",
              "      <td>1.000000</td>\n",
              "      <td>2.000000</td>\n",
              "      <td>1.000000</td>\n",
              "    </tr>\n",
              "    <tr>\n",
              "      <th>75%</th>\n",
              "      <td>2.000000</td>\n",
              "      <td>1.000000</td>\n",
              "      <td>2.000000</td>\n",
              "      <td>2.000000</td>\n",
              "      <td>1.0</td>\n",
              "      <td>2.000000</td>\n",
              "      <td>1.000000</td>\n",
              "      <td>4.000000</td>\n",
              "      <td>2.000000</td>\n",
              "      <td>1.000000</td>\n",
              "      <td>2.000000</td>\n",
              "      <td>1.000000</td>\n",
              "    </tr>\n",
              "    <tr>\n",
              "      <th>max</th>\n",
              "      <td>2.000000</td>\n",
              "      <td>8.000000</td>\n",
              "      <td>2.000000</td>\n",
              "      <td>2.000000</td>\n",
              "      <td>1.0</td>\n",
              "      <td>2.000000</td>\n",
              "      <td>99.000000</td>\n",
              "      <td>76.000000</td>\n",
              "      <td>76.000000</td>\n",
              "      <td>2.000000</td>\n",
              "      <td>2.000000</td>\n",
              "      <td>2.000000</td>\n",
              "    </tr>\n",
              "  </tbody>\n",
              "</table>\n",
              "</div>\n",
              "    <div class=\"colab-df-buttons\">\n",
              "\n",
              "  <div class=\"colab-df-container\">\n",
              "    <button class=\"colab-df-convert\" onclick=\"convertToInteractive('df-28305b69-eb84-4848-b2a4-c1ef3a9a7bf1')\"\n",
              "            title=\"Convert this dataframe to an interactive table.\"\n",
              "            style=\"display:none;\">\n",
              "\n",
              "  <svg xmlns=\"http://www.w3.org/2000/svg\" height=\"24px\" viewBox=\"0 -960 960 960\">\n",
              "    <path d=\"M120-120v-720h720v720H120Zm60-500h600v-160H180v160Zm220 220h160v-160H400v160Zm0 220h160v-160H400v160ZM180-400h160v-160H180v160Zm440 0h160v-160H620v160ZM180-180h160v-160H180v160Zm440 0h160v-160H620v160Z\"/>\n",
              "  </svg>\n",
              "    </button>\n",
              "\n",
              "  <style>\n",
              "    .colab-df-container {\n",
              "      display:flex;\n",
              "      gap: 12px;\n",
              "    }\n",
              "\n",
              "    .colab-df-convert {\n",
              "      background-color: #E8F0FE;\n",
              "      border: none;\n",
              "      border-radius: 50%;\n",
              "      cursor: pointer;\n",
              "      display: none;\n",
              "      fill: #1967D2;\n",
              "      height: 32px;\n",
              "      padding: 0 0 0 0;\n",
              "      width: 32px;\n",
              "    }\n",
              "\n",
              "    .colab-df-convert:hover {\n",
              "      background-color: #E2EBFA;\n",
              "      box-shadow: 0px 1px 2px rgba(60, 64, 67, 0.3), 0px 1px 3px 1px rgba(60, 64, 67, 0.15);\n",
              "      fill: #174EA6;\n",
              "    }\n",
              "\n",
              "    .colab-df-buttons div {\n",
              "      margin-bottom: 4px;\n",
              "    }\n",
              "\n",
              "    [theme=dark] .colab-df-convert {\n",
              "      background-color: #3B4455;\n",
              "      fill: #D2E3FC;\n",
              "    }\n",
              "\n",
              "    [theme=dark] .colab-df-convert:hover {\n",
              "      background-color: #434B5C;\n",
              "      box-shadow: 0px 1px 3px 1px rgba(0, 0, 0, 0.15);\n",
              "      filter: drop-shadow(0px 1px 2px rgba(0, 0, 0, 0.3));\n",
              "      fill: #FFFFFF;\n",
              "    }\n",
              "  </style>\n",
              "\n",
              "    <script>\n",
              "      const buttonEl =\n",
              "        document.querySelector('#df-28305b69-eb84-4848-b2a4-c1ef3a9a7bf1 button.colab-df-convert');\n",
              "      buttonEl.style.display =\n",
              "        google.colab.kernel.accessAllowed ? 'block' : 'none';\n",
              "\n",
              "      async function convertToInteractive(key) {\n",
              "        const element = document.querySelector('#df-28305b69-eb84-4848-b2a4-c1ef3a9a7bf1');\n",
              "        const dataTable =\n",
              "          await google.colab.kernel.invokeFunction('convertToInteractive',\n",
              "                                                    [key], {});\n",
              "        if (!dataTable) return;\n",
              "\n",
              "        const docLinkHtml = 'Like what you see? Visit the ' +\n",
              "          '<a target=\"_blank\" href=https://colab.research.google.com/notebooks/data_table.ipynb>data table notebook</a>'\n",
              "          + ' to learn more about interactive tables.';\n",
              "        element.innerHTML = '';\n",
              "        dataTable['output_type'] = 'display_data';\n",
              "        await google.colab.output.renderOutput(dataTable, element);\n",
              "        const docLink = document.createElement('div');\n",
              "        docLink.innerHTML = docLinkHtml;\n",
              "        element.appendChild(docLink);\n",
              "      }\n",
              "    </script>\n",
              "  </div>\n",
              "\n",
              "\n",
              "<div id=\"df-9e5a9e85-911e-4ef5-83b3-33205ab2878f\">\n",
              "  <button class=\"colab-df-quickchart\" onclick=\"quickchart('df-9e5a9e85-911e-4ef5-83b3-33205ab2878f')\"\n",
              "            title=\"Suggest charts\"\n",
              "            style=\"display:none;\">\n",
              "\n",
              "<svg xmlns=\"http://www.w3.org/2000/svg\" height=\"24px\"viewBox=\"0 0 24 24\"\n",
              "     width=\"24px\">\n",
              "    <g>\n",
              "        <path d=\"M19 3H5c-1.1 0-2 .9-2 2v14c0 1.1.9 2 2 2h14c1.1 0 2-.9 2-2V5c0-1.1-.9-2-2-2zM9 17H7v-7h2v7zm4 0h-2V7h2v10zm4 0h-2v-4h2v4z\"/>\n",
              "    </g>\n",
              "</svg>\n",
              "  </button>\n",
              "\n",
              "<style>\n",
              "  .colab-df-quickchart {\n",
              "      --bg-color: #E8F0FE;\n",
              "      --fill-color: #1967D2;\n",
              "      --hover-bg-color: #E2EBFA;\n",
              "      --hover-fill-color: #174EA6;\n",
              "      --disabled-fill-color: #AAA;\n",
              "      --disabled-bg-color: #DDD;\n",
              "  }\n",
              "\n",
              "  [theme=dark] .colab-df-quickchart {\n",
              "      --bg-color: #3B4455;\n",
              "      --fill-color: #D2E3FC;\n",
              "      --hover-bg-color: #434B5C;\n",
              "      --hover-fill-color: #FFFFFF;\n",
              "      --disabled-bg-color: #3B4455;\n",
              "      --disabled-fill-color: #666;\n",
              "  }\n",
              "\n",
              "  .colab-df-quickchart {\n",
              "    background-color: var(--bg-color);\n",
              "    border: none;\n",
              "    border-radius: 50%;\n",
              "    cursor: pointer;\n",
              "    display: none;\n",
              "    fill: var(--fill-color);\n",
              "    height: 32px;\n",
              "    padding: 0;\n",
              "    width: 32px;\n",
              "  }\n",
              "\n",
              "  .colab-df-quickchart:hover {\n",
              "    background-color: var(--hover-bg-color);\n",
              "    box-shadow: 0 1px 2px rgba(60, 64, 67, 0.3), 0 1px 3px 1px rgba(60, 64, 67, 0.15);\n",
              "    fill: var(--button-hover-fill-color);\n",
              "  }\n",
              "\n",
              "  .colab-df-quickchart-complete:disabled,\n",
              "  .colab-df-quickchart-complete:disabled:hover {\n",
              "    background-color: var(--disabled-bg-color);\n",
              "    fill: var(--disabled-fill-color);\n",
              "    box-shadow: none;\n",
              "  }\n",
              "\n",
              "  .colab-df-spinner {\n",
              "    border: 2px solid var(--fill-color);\n",
              "    border-color: transparent;\n",
              "    border-bottom-color: var(--fill-color);\n",
              "    animation:\n",
              "      spin 1s steps(1) infinite;\n",
              "  }\n",
              "\n",
              "  @keyframes spin {\n",
              "    0% {\n",
              "      border-color: transparent;\n",
              "      border-bottom-color: var(--fill-color);\n",
              "      border-left-color: var(--fill-color);\n",
              "    }\n",
              "    20% {\n",
              "      border-color: transparent;\n",
              "      border-left-color: var(--fill-color);\n",
              "      border-top-color: var(--fill-color);\n",
              "    }\n",
              "    30% {\n",
              "      border-color: transparent;\n",
              "      border-left-color: var(--fill-color);\n",
              "      border-top-color: var(--fill-color);\n",
              "      border-right-color: var(--fill-color);\n",
              "    }\n",
              "    40% {\n",
              "      border-color: transparent;\n",
              "      border-right-color: var(--fill-color);\n",
              "      border-top-color: var(--fill-color);\n",
              "    }\n",
              "    60% {\n",
              "      border-color: transparent;\n",
              "      border-right-color: var(--fill-color);\n",
              "    }\n",
              "    80% {\n",
              "      border-color: transparent;\n",
              "      border-right-color: var(--fill-color);\n",
              "      border-bottom-color: var(--fill-color);\n",
              "    }\n",
              "    90% {\n",
              "      border-color: transparent;\n",
              "      border-bottom-color: var(--fill-color);\n",
              "    }\n",
              "  }\n",
              "</style>\n",
              "\n",
              "  <script>\n",
              "    async function quickchart(key) {\n",
              "      const quickchartButtonEl =\n",
              "        document.querySelector('#' + key + ' button');\n",
              "      quickchartButtonEl.disabled = true;  // To prevent multiple clicks.\n",
              "      quickchartButtonEl.classList.add('colab-df-spinner');\n",
              "      try {\n",
              "        const charts = await google.colab.kernel.invokeFunction(\n",
              "            'suggestCharts', [key], {});\n",
              "      } catch (error) {\n",
              "        console.error('Error during call to suggestCharts:', error);\n",
              "      }\n",
              "      quickchartButtonEl.classList.remove('colab-df-spinner');\n",
              "      quickchartButtonEl.classList.add('colab-df-quickchart-complete');\n",
              "    }\n",
              "    (() => {\n",
              "      let quickchartButtonEl =\n",
              "        document.querySelector('#df-9e5a9e85-911e-4ef5-83b3-33205ab2878f button');\n",
              "      quickchartButtonEl.style.display =\n",
              "        google.colab.kernel.accessAllowed ? 'block' : 'none';\n",
              "    })();\n",
              "  </script>\n",
              "</div>\n",
              "    </div>\n",
              "  </div>\n"
            ]
          },
          "metadata": {},
          "execution_count": 42
        }
      ],
      "source": [
        "df_selected.describe()"
      ]
    },
    {
      "cell_type": "code",
      "execution_count": null,
      "id": "fd9ed9e5-1826-421a-aa0b-be749c43d4e9",
      "metadata": {
        "id": "fd9ed9e5-1826-421a-aa0b-be749c43d4e9",
        "outputId": "903dbc31-fece-46ba-fed8-e83cbeba8d12",
        "colab": {
          "base_uri": "https://localhost:8080/",
          "height": 504
        }
      },
      "outputs": [
        {
          "output_type": "execute_result",
          "data": {
            "text/plain": [
              "2.0    26902\n",
              "1.0    24797\n",
              "Name: Gender, dtype: int64"
            ]
          },
          "metadata": {},
          "execution_count": 63
        },
        {
          "output_type": "display_data",
          "data": {
            "text/plain": [
              "<Figure size 640x480 with 1 Axes>"
            ],
            "image/png": "[encoded data removed]"
          },
          "metadata": {}
        }
      ],
      "source": [
        "sns.countplot(data= df_selected, x='Gender')\n",
        "df_selected.Gender.value_counts(sort=False)"
      ]
    },
    {
      "cell_type": "code",
      "execution_count": null,
      "id": "cf61193b-c443-4596-bfb1-d514e61ff712",
      "metadata": {
        "id": "cf61193b-c443-4596-bfb1-d514e61ff712",
        "outputId": "9bccafb3-5d98-40e7-afdf-fadf9b0c2165",
        "colab": {
          "base_uri": "https://localhost:8080/",
          "height": 558
        }
      },
      "outputs": [
        {
          "output_type": "execute_result",
          "data": {
            "text/plain": [
              "4.0      371\n",
              "2.0     2149\n",
              "1.0    48582\n",
              "3.0      525\n",
              "8.0       72\n",
              "Name: Checkup, dtype: int64"
            ]
          },
          "metadata": {},
          "execution_count": 64
        },
        {
          "output_type": "display_data",
          "data": {
            "text/plain": [
              "<Figure size 640x480 with 1 Axes>"
            ],
            "image/png": "[encoded data removed]"
          },
          "metadata": {}
        }
      ],
      "source": [
        "\n",
        "sns.countplot(x=\"Checkup\", data=df_selected)\n",
        "df_selected.Checkup.value_counts(sort=False)"
      ]
    },
    {
      "cell_type": "code",
      "execution_count": null,
      "id": "10675f2d-bda2-4424-8111-83249db322e1",
      "metadata": {
        "id": "10675f2d-bda2-4424-8111-83249db322e1",
        "outputId": "2d969656-6015-4b4d-95df-d91650dfa239",
        "colab": {
          "base_uri": "https://localhost:8080/",
          "height": 504
        }
      },
      "outputs": [
        {
          "output_type": "execute_result",
          "data": {
            "text/plain": [
              "1.0    31531\n",
              "2.0    20168\n",
              "Name: Exercise, dtype: int64"
            ]
          },
          "metadata": {},
          "execution_count": 65
        },
        {
          "output_type": "display_data",
          "data": {
            "text/plain": [
              "<Figure size 640x480 with 1 Axes>"
            ],
            "image/png": "[encoded data removed]"
          },
          "metadata": {}
        }
      ],
      "source": [
        "sns.countplot(x=\"Exercise\", data=df_selected)\n",
        "df_selected.Exercise.value_counts(sort=False)"
      ]
    },
    {
      "cell_type": "code",
      "execution_count": null,
      "id": "13d3b206-89a1-43db-8f88-b1a8136ec106",
      "metadata": {
        "id": "13d3b206-89a1-43db-8f88-b1a8136ec106",
        "outputId": "143a7523-a957-41c0-ad18-b87a76ffa2b8",
        "colab": {
          "base_uri": "https://localhost:8080/",
          "height": 505
        }
      },
      "outputs": [
        {
          "output_type": "execute_result",
          "data": {
            "text/plain": [
              "2.0    44266\n",
              "1.0     7433\n",
              "Name: Heart_Attack, dtype: int64"
            ]
          },
          "metadata": {},
          "execution_count": 66
        },
        {
          "output_type": "display_data",
          "data": {
            "text/plain": [
              "<Figure size 640x480 with 1 Axes>"
            ],
            "image/png": "[encoded data removed]"
          },
          "metadata": {}
        }
      ],
      "source": [
        "sns.countplot(x=\"Heart_Attack\", data=df_selected)\n",
        "df_selected.Heart_Attack.value_counts(sort=False)"
      ]
    },
    {
      "cell_type": "code",
      "execution_count": null,
      "id": "f7299cad-3b39-4f9d-83ba-0a860d36c342",
      "metadata": {
        "id": "f7299cad-3b39-4f9d-83ba-0a860d36c342",
        "outputId": "340c8288-ff0c-4c96-b30a-e9fc63258afd",
        "colab": {
          "base_uri": "https://localhost:8080/",
          "height": 485
        }
      },
      "outputs": [
        {
          "output_type": "execute_result",
          "data": {
            "text/plain": [
              "1.0    51699\n",
              "Name: Diabetes, dtype: int64"
            ]
          },
          "metadata": {},
          "execution_count": 67
        },
        {
          "output_type": "display_data",
          "data": {
            "text/plain": [
              "<Figure size 640x480 with 1 Axes>"
            ],
            "image/png": "[encoded data removed]"
          },
          "metadata": {}
        }
      ],
      "source": [
        "sns.countplot(x=\"Diabetes\", data=df_selected)\n",
        "df_selected.Diabetes.value_counts(sort=False)"
      ]
    },
    {
      "cell_type": "code",
      "execution_count": null,
      "id": "c42e7335-04a9-4f9a-8d9a-6c99fe75ce08",
      "metadata": {
        "id": "c42e7335-04a9-4f9a-8d9a-6c99fe75ce08",
        "outputId": "3c195438-fce7-4891-fe69-556775722155",
        "colab": {
          "base_uri": "https://localhost:8080/",
          "height": 504
        }
      },
      "outputs": [
        {
          "output_type": "execute_result",
          "data": {
            "text/plain": [
              "2.0    47483\n",
              "1.0     4216\n",
              "Name: Insulin, dtype: int64"
            ]
          },
          "metadata": {},
          "execution_count": 68
        },
        {
          "output_type": "display_data",
          "data": {
            "text/plain": [
              "<Figure size 640x480 with 1 Axes>"
            ],
            "image/png": "[encoded data removed]"
          },
          "metadata": {}
        }
      ],
      "source": [
        "sns.countplot(x=\"Insulin\", data=df_selected)\n",
        "df_selected.Insulin.value_counts(sort=False)"
      ]
    },
    {
      "cell_type": "code",
      "execution_count": null,
      "id": "b212c087-d0cb-4eb6-87aa-de2680c92e78",
      "metadata": {
        "id": "b212c087-d0cb-4eb6-87aa-de2680c92e78",
        "outputId": "1a7c3c72-ec9c-426c-d59d-f4f0afc8c7c0",
        "colab": {
          "base_uri": "https://localhost:8080/",
          "height": 505
        }
      },
      "outputs": [
        {
          "output_type": "execute_result",
          "data": {
            "text/plain": [
              "1.0    45572\n",
              "2.0     6127\n",
              "Name: Managing_Diabetes, dtype: int64"
            ]
          },
          "metadata": {},
          "execution_count": 72
        },
        {
          "output_type": "display_data",
          "data": {
            "text/plain": [
              "<Figure size 640x480 with 1 Axes>"
            ],
            "image/png": "[encoded data removed]"
          },
          "metadata": {}
        }
      ],
      "source": [
        "sns.countplot(x=\"Managing_Diabetes\", data=df_selected)\n",
        "df_selected.Managing_Diabetes.value_counts(sort=False)"
      ]
    },
    {
      "cell_type": "code",
      "execution_count": null,
      "id": "e7c263b5-00b5-44ba-9e0f-f5a5b52b28be",
      "metadata": {
        "id": "e7c263b5-00b5-44ba-9e0f-f5a5b52b28be",
        "outputId": "cb347373-48d8-45b9-91c9-1112ab2f0b28",
        "colab": {
          "base_uri": "https://localhost:8080/",
          "height": 505
        }
      },
      "outputs": [
        {
          "output_type": "execute_result",
          "data": {
            "text/plain": [
              "1.0     6958\n",
              "2.0    44741\n",
              "Name: Overweight_or_Obese_Calculated, dtype: int64"
            ]
          },
          "metadata": {},
          "execution_count": 74
        },
        {
          "output_type": "display_data",
          "data": {
            "text/plain": [
              "<Figure size 640x480 with 1 Axes>"
            ],
            "image/png": "[encoded data removed]"
          },
          "metadata": {}
        }
      ],
      "source": [
        "sns.countplot(x=\"Overweight_or_Obese_Calculated\", data=df_selected)\n",
        "df_imputed.Overweight_or_Obese_Calculated.value_counts(sort=False)\n"
      ]
    },
    {
      "cell_type": "code",
      "execution_count": null,
      "id": "3bc21e24-a046-4378-80d2-0656890a96df",
      "metadata": {
        "id": "3bc21e24-a046-4378-80d2-0656890a96df",
        "outputId": "6b8993f1-72f9-44eb-8333-0c90199aace0",
        "colab": {
          "base_uri": "https://localhost:8080/",
          "height": 505
        }
      },
      "outputs": [
        {
          "output_type": "execute_result",
          "data": {
            "text/plain": [
              "2.0     6580\n",
              "1.0    45119\n",
              "Name: Current_Smokers, dtype: int64"
            ]
          },
          "metadata": {},
          "execution_count": 76
        },
        {
          "output_type": "display_data",
          "data": {
            "text/plain": [
              "<Figure size 640x480 with 1 Axes>"
            ],
            "image/png": "[encoded data removed]"
          },
          "metadata": {}
        }
      ],
      "source": [
        "sns.countplot(x=\"Current_Smokers\", data=df_selected)\n",
        "df_selected.Current_Smokers.value_counts(sort=False)"
      ]
    },
    {
      "cell_type": "code",
      "source": [
        "df_selected.count()"
      ],
      "metadata": {
        "colab": {
          "base_uri": "https://localhost:8080/"
        },
        "id": "CEM_rKocDQyC",
        "outputId": "cc1d8cc4-612e-47e3-bee9-fb5b751fa34d"
      },
      "id": "CEM_rKocDQyC",
      "execution_count": null,
      "outputs": [
        {
          "output_type": "execute_result",
          "data": {
            "text/plain": [
              "Gender                            51699\n",
              "Checkup                           51699\n",
              "Exercise                          51699\n",
              "Heart_Attack                      51699\n",
              "Diabetes                          51699\n",
              "Insulin                           51699\n",
              "Dly_Sugar_Check                   51699\n",
              "Diabetes_Checkup                  51699\n",
              "Glycosylated_Hemoglobin           51699\n",
              "Managing_Diabetes                 51699\n",
              "Overweight_or_Obese_Calculated    51699\n",
              "Current_Smokers                   51699\n",
              "dtype: int64"
            ]
          },
          "metadata": {},
          "execution_count": 77
        }
      ]
    },
    {
      "cell_type": "code",
      "execution_count": null,
      "id": "68ea759d-24df-436f-a376-31c6e2110d65",
      "metadata": {
        "id": "68ea759d-24df-436f-a376-31c6e2110d65",
        "outputId": "03011402-6203-43e5-9da8-b5224147b607",
        "colab": {
          "base_uri": "https://localhost:8080/",
          "height": 572
        }
      },
      "outputs": [
        {
          "output_type": "stream",
          "name": "stdout",
          "text": [
            "<class 'pandas.core.frame.DataFrame'>\n",
            "RangeIndex: 51699 entries, 0 to 51698\n",
            "Data columns (total 12 columns):\n",
            " #   Column                          Non-Null Count  Dtype  \n",
            "---  ------                          --------------  -----  \n",
            " 0   Gender                          51699 non-null  float64\n",
            " 1   Checkup                         51699 non-null  float64\n",
            " 2   Exercise                        51699 non-null  float64\n",
            " 3   Heart_Attack                    51699 non-null  float64\n",
            " 4   Diabetes                        51699 non-null  float64\n",
            " 5   Insulin                         51699 non-null  float64\n",
            " 6   Dly_Sugar_Check                 51699 non-null  float64\n",
            " 7   Diabetes_Checkup                51699 non-null  float64\n",
            " 8   Glycosylated_Hemoglobin         51699 non-null  float64\n",
            " 9   Managing_Diabetes               51699 non-null  float64\n",
            " 10  Overweight_or_Obese_Calculated  51699 non-null  float64\n",
            " 11  Current_Smokers                 51699 non-null  float64\n",
            "dtypes: float64(12)\n",
            "memory usage: 4.7 MB\n"
          ]
        },
        {
          "output_type": "execute_result",
          "data": {
            "text/plain": [
              "   Gender  Checkup  Exercise  Heart_Attack  Diabetes  Insulin  \\\n",
              "0     2.0      4.0       1.0           2.0       1.0      2.0   \n",
              "1     1.0      2.0       1.0           2.0       1.0      2.0   \n",
              "2     2.0      1.0       1.0           2.0       1.0      2.0   \n",
              "3     2.0      1.0       2.0           2.0       1.0      2.0   \n",
              "4     1.0      1.0       2.0           2.0       1.0      2.0   \n",
              "\n",
              "   Dly_Sugar_Check  Diabetes_Checkup  Glycosylated_Hemoglobin  \\\n",
              "0              1.0               4.0                      2.0   \n",
              "1              1.0               4.0                      2.0   \n",
              "2              1.0               4.0                      2.0   \n",
              "3              1.0               4.0                      2.0   \n",
              "4              1.0               4.0                      2.0   \n",
              "\n",
              "   Managing_Diabetes  Overweight_or_Obese_Calculated  Current_Smokers  \n",
              "0                1.0                             1.0              2.0  \n",
              "1                1.0                             2.0              1.0  \n",
              "2                1.0                             2.0              2.0  \n",
              "3                1.0                             2.0              1.0  \n",
              "4                1.0                             2.0              2.0  "
            ],
            "text/html": [
              "\n",
              "  <div id=\"df-f8e0758d-9dab-471b-b291-773bf1c89aff\" class=\"colab-df-container\">\n",
              "    <div>\n",
              "<style scoped>\n",
              "    .dataframe tbody tr th:only-of-type {\n",
              "        vertical-align: middle;\n",
              "    }\n",
              "\n",
              "    .dataframe tbody tr th {\n",
              "        vertical-align: top;\n",
              "    }\n",
              "\n",
              "    .dataframe thead th {\n",
              "        text-align: right;\n",
              "    }\n",
              "</style>\n",
              "<table border=\"1\" class=\"dataframe\">\n",
              "  <thead>\n",
              "    <tr style=\"text-align: right;\">\n",
              "      <th></th>\n",
              "      <th>Gender</th>\n",
              "      <th>Checkup</th>\n",
              "      <th>Exercise</th>\n",
              "      <th>Heart_Attack</th>\n",
              "      <th>Diabetes</th>\n",
              "      <th>Insulin</th>\n",
              "      <th>Dly_Sugar_Check</th>\n",
              "      <th>Diabetes_Checkup</th>\n",
              "      <th>Glycosylated_Hemoglobin</th>\n",
              "      <th>Managing_Diabetes</th>\n",
              "      <th>Overweight_or_Obese_Calculated</th>\n",
              "      <th>Current_Smokers</th>\n",
              "    </tr>\n",
              "  </thead>\n",
              "  <tbody>\n",
              "    <tr>\n",
              "      <th>0</th>\n",
              "      <td>2.0</td>\n",
              "      <td>4.0</td>\n",
              "      <td>1.0</td>\n",
              "      <td>2.0</td>\n",
              "      <td>1.0</td>\n",
              "      <td>2.0</td>\n",
              "      <td>1.0</td>\n",
              "      <td>4.0</td>\n",
              "      <td>2.0</td>\n",
              "      <td>1.0</td>\n",
              "      <td>1.0</td>\n",
              "      <td>2.0</td>\n",
              "    </tr>\n",
              "    <tr>\n",
              "      <th>1</th>\n",
              "      <td>1.0</td>\n",
              "      <td>2.0</td>\n",
              "      <td>1.0</td>\n",
              "      <td>2.0</td>\n",
              "      <td>1.0</td>\n",
              "      <td>2.0</td>\n",
              "      <td>1.0</td>\n",
              "      <td>4.0</td>\n",
              "      <td>2.0</td>\n",
              "      <td>1.0</td>\n",
              "      <td>2.0</td>\n",
              "      <td>1.0</td>\n",
              "    </tr>\n",
              "    <tr>\n",
              "      <th>2</th>\n",
              "      <td>2.0</td>\n",
              "      <td>1.0</td>\n",
              "      <td>1.0</td>\n",
              "      <td>2.0</td>\n",
              "      <td>1.0</td>\n",
              "      <td>2.0</td>\n",
              "      <td>1.0</td>\n",
              "      <td>4.0</td>\n",
              "      <td>2.0</td>\n",
              "      <td>1.0</td>\n",
              "      <td>2.0</td>\n",
              "      <td>2.0</td>\n",
              "    </tr>\n",
              "    <tr>\n",
              "      <th>3</th>\n",
              "      <td>2.0</td>\n",
              "      <td>1.0</td>\n",
              "      <td>2.0</td>\n",
              "      <td>2.0</td>\n",
              "      <td>1.0</td>\n",
              "      <td>2.0</td>\n",
              "      <td>1.0</td>\n",
              "      <td>4.0</td>\n",
              "      <td>2.0</td>\n",
              "      <td>1.0</td>\n",
              "      <td>2.0</td>\n",
              "      <td>1.0</td>\n",
              "    </tr>\n",
              "    <tr>\n",
              "      <th>4</th>\n",
              "      <td>1.0</td>\n",
              "      <td>1.0</td>\n",
              "      <td>2.0</td>\n",
              "      <td>2.0</td>\n",
              "      <td>1.0</td>\n",
              "      <td>2.0</td>\n",
              "      <td>1.0</td>\n",
              "      <td>4.0</td>\n",
              "      <td>2.0</td>\n",
              "      <td>1.0</td>\n",
              "      <td>2.0</td>\n",
              "      <td>2.0</td>\n",
              "    </tr>\n",
              "  </tbody>\n",
              "</table>\n",
              "</div>\n",
              "    <div class=\"colab-df-buttons\">\n",
              "\n",
              "  <div class=\"colab-df-container\">\n",
              "    <button class=\"colab-df-convert\" onclick=\"convertToInteractive('df-f8e0758d-9dab-471b-b291-773bf1c89aff')\"\n",
              "            title=\"Convert this dataframe to an interactive table.\"\n",
              "            style=\"display:none;\">\n",
              "\n",
              "  <svg xmlns=\"http://www.w3.org/2000/svg\" height=\"24px\" viewBox=\"0 -960 960 960\">\n",
              "    <path d=\"M120-120v-720h720v720H120Zm60-500h600v-160H180v160Zm220 220h160v-160H400v160Zm0 220h160v-160H400v160ZM180-400h160v-160H180v160Zm440 0h160v-160H620v160ZM180-180h160v-160H180v160Zm440 0h160v-160H620v160Z\"/>\n",
              "  </svg>\n",
              "    </button>\n",
              "\n",
              "  <style>\n",
              "    .colab-df-container {\n",
              "      display:flex;\n",
              "      gap: 12px;\n",
              "    }\n",
              "\n",
              "    .colab-df-convert {\n",
              "      background-color: #E8F0FE;\n",
              "      border: none;\n",
              "      border-radius: 50%;\n",
              "      cursor: pointer;\n",
              "      display: none;\n",
              "      fill: #1967D2;\n",
              "      height: 32px;\n",
              "      padding: 0 0 0 0;\n",
              "      width: 32px;\n",
              "    }\n",
              "\n",
              "    .colab-df-convert:hover {\n",
              "      background-color: #E2EBFA;\n",
              "      box-shadow: 0px 1px 2px rgba(60, 64, 67, 0.3), 0px 1px 3px 1px rgba(60, 64, 67, 0.15);\n",
              "      fill: #174EA6;\n",
              "    }\n",
              "\n",
              "    .colab-df-buttons div {\n",
              "      margin-bottom: 4px;\n",
              "    }\n",
              "\n",
              "    [theme=dark] .colab-df-convert {\n",
              "      background-color: #3B4455;\n",
              "      fill: #D2E3FC;\n",
              "    }\n",
              "\n",
              "    [theme=dark] .colab-df-convert:hover {\n",
              "      background-color: #434B5C;\n",
              "      box-shadow: 0px 1px 3px 1px rgba(0, 0, 0, 0.15);\n",
              "      filter: drop-shadow(0px 1px 2px rgba(0, 0, 0, 0.3));\n",
              "      fill: #FFFFFF;\n",
              "    }\n",
              "  </style>\n",
              "\n",
              "    <script>\n",
              "      const buttonEl =\n",
              "        document.querySelector('#df-f8e0758d-9dab-471b-b291-773bf1c89aff button.colab-df-convert');\n",
              "      buttonEl.style.display =\n",
              "        google.colab.kernel.accessAllowed ? 'block' : 'none';\n",
              "\n",
              "      async function convertToInteractive(key) {\n",
              "        const element = document.querySelector('#df-f8e0758d-9dab-471b-b291-773bf1c89aff');\n",
              "        const dataTable =\n",
              "          await google.colab.kernel.invokeFunction('convertToInteractive',\n",
              "                                                    [key], {});\n",
              "        if (!dataTable) return;\n",
              "\n",
              "        const docLinkHtml = 'Like what you see? Visit the ' +\n",
              "          '<a target=\"_blank\" href=https://colab.research.google.com/notebooks/data_table.ipynb>data table notebook</a>'\n",
              "          + ' to learn more about interactive tables.';\n",
              "        element.innerHTML = '';\n",
              "        dataTable['output_type'] = 'display_data';\n",
              "        await google.colab.output.renderOutput(dataTable, element);\n",
              "        const docLink = document.createElement('div');\n",
              "        docLink.innerHTML = docLinkHtml;\n",
              "        element.appendChild(docLink);\n",
              "      }\n",
              "    </script>\n",
              "  </div>\n",
              "\n",
              "\n",
              "<div id=\"df-64d5d943-4f17-4c12-892d-6c7179d478ae\">\n",
              "  <button class=\"colab-df-quickchart\" onclick=\"quickchart('df-64d5d943-4f17-4c12-892d-6c7179d478ae')\"\n",
              "            title=\"Suggest charts\"\n",
              "            style=\"display:none;\">\n",
              "\n",
              "<svg xmlns=\"http://www.w3.org/2000/svg\" height=\"24px\"viewBox=\"0 0 24 24\"\n",
              "     width=\"24px\">\n",
              "    <g>\n",
              "        <path d=\"M19 3H5c-1.1 0-2 .9-2 2v14c0 1.1.9 2 2 2h14c1.1 0 2-.9 2-2V5c0-1.1-.9-2-2-2zM9 17H7v-7h2v7zm4 0h-2V7h2v10zm4 0h-2v-4h2v4z\"/>\n",
              "    </g>\n",
              "</svg>\n",
              "  </button>\n",
              "\n",
              "<style>\n",
              "  .colab-df-quickchart {\n",
              "      --bg-color: #E8F0FE;\n",
              "      --fill-color: #1967D2;\n",
              "      --hover-bg-color: #E2EBFA;\n",
              "      --hover-fill-color: #174EA6;\n",
              "      --disabled-fill-color: #AAA;\n",
              "      --disabled-bg-color: #DDD;\n",
              "  }\n",
              "\n",
              "  [theme=dark] .colab-df-quickchart {\n",
              "      --bg-color: #3B4455;\n",
              "      --fill-color: #D2E3FC;\n",
              "      --hover-bg-color: #434B5C;\n",
              "      --hover-fill-color: #FFFFFF;\n",
              "      --disabled-bg-color: #3B4455;\n",
              "      --disabled-fill-color: #666;\n",
              "  }\n",
              "\n",
              "  .colab-df-quickchart {\n",
              "    background-color: var(--bg-color);\n",
              "    border: none;\n",
              "    border-radius: 50%;\n",
              "    cursor: pointer;\n",
              "    display: none;\n",
              "    fill: var(--fill-color);\n",
              "    height: 32px;\n",
              "    padding: 0;\n",
              "    width: 32px;\n",
              "  }\n",
              "\n",
              "  .colab-df-quickchart:hover {\n",
              "    background-color: var(--hover-bg-color);\n",
              "    box-shadow: 0 1px 2px rgba(60, 64, 67, 0.3), 0 1px 3px 1px rgba(60, 64, 67, 0.15);\n",
              "    fill: var(--button-hover-fill-color);\n",
              "  }\n",
              "\n",
              "  .colab-df-quickchart-complete:disabled,\n",
              "  .colab-df-quickchart-complete:disabled:hover {\n",
              "    background-color: var(--disabled-bg-color);\n",
              "    fill: var(--disabled-fill-color);\n",
              "    box-shadow: none;\n",
              "  }\n",
              "\n",
              "  .colab-df-spinner {\n",
              "    border: 2px solid var(--fill-color);\n",
              "    border-color: transparent;\n",
              "    border-bottom-color: var(--fill-color);\n",
              "    animation:\n",
              "      spin 1s steps(1) infinite;\n",
              "  }\n",
              "\n",
              "  @keyframes spin {\n",
              "    0% {\n",
              "      border-color: transparent;\n",
              "      border-bottom-color: var(--fill-color);\n",
              "      border-left-color: var(--fill-color);\n",
              "    }\n",
              "    20% {\n",
              "      border-color: transparent;\n",
              "      border-left-color: var(--fill-color);\n",
              "      border-top-color: var(--fill-color);\n",
              "    }\n",
              "    30% {\n",
              "      border-color: transparent;\n",
              "      border-left-color: var(--fill-color);\n",
              "      border-top-color: var(--fill-color);\n",
              "      border-right-color: var(--fill-color);\n",
              "    }\n",
              "    40% {\n",
              "      border-color: transparent;\n",
              "      border-right-color: var(--fill-color);\n",
              "      border-top-color: var(--fill-color);\n",
              "    }\n",
              "    60% {\n",
              "      border-color: transparent;\n",
              "      border-right-color: var(--fill-color);\n",
              "    }\n",
              "    80% {\n",
              "      border-color: transparent;\n",
              "      border-right-color: var(--fill-color);\n",
              "      border-bottom-color: var(--fill-color);\n",
              "    }\n",
              "    90% {\n",
              "      border-color: transparent;\n",
              "      border-bottom-color: var(--fill-color);\n",
              "    }\n",
              "  }\n",
              "</style>\n",
              "\n",
              "  <script>\n",
              "    async function quickchart(key) {\n",
              "      const quickchartButtonEl =\n",
              "        document.querySelector('#' + key + ' button');\n",
              "      quickchartButtonEl.disabled = true;  // To prevent multiple clicks.\n",
              "      quickchartButtonEl.classList.add('colab-df-spinner');\n",
              "      try {\n",
              "        const charts = await google.colab.kernel.invokeFunction(\n",
              "            'suggestCharts', [key], {});\n",
              "      } catch (error) {\n",
              "        console.error('Error during call to suggestCharts:', error);\n",
              "      }\n",
              "      quickchartButtonEl.classList.remove('colab-df-spinner');\n",
              "      quickchartButtonEl.classList.add('colab-df-quickchart-complete');\n",
              "    }\n",
              "    (() => {\n",
              "      let quickchartButtonEl =\n",
              "        document.querySelector('#df-64d5d943-4f17-4c12-892d-6c7179d478ae button');\n",
              "      quickchartButtonEl.style.display =\n",
              "        google.colab.kernel.accessAllowed ? 'block' : 'none';\n",
              "    })();\n",
              "  </script>\n",
              "</div>\n",
              "    </div>\n",
              "  </div>\n"
            ]
          },
          "metadata": {},
          "execution_count": 78
        }
      ],
      "source": [
        "df_selected.info()\n",
        "df_selected.head()"
      ]
    },
    {
      "cell_type": "code",
      "execution_count": null,
      "id": "d4ff5f96-2992-4bfe-b4e7-0b51b0bc526a",
      "metadata": {
        "id": "d4ff5f96-2992-4bfe-b4e7-0b51b0bc526a"
      },
      "outputs": [],
      "source": [
        "df_imputed.to_csv('data_cleanm.csv', index=False)"
      ]
    },
    {
      "cell_type": "code",
      "execution_count": null,
      "id": "681a1c2f-1f47-4ab0-9327-e265bd4f0a70",
      "metadata": {
        "id": "681a1c2f-1f47-4ab0-9327-e265bd4f0a70"
      },
      "outputs": [],
      "source": [
        "from matplotlib import pyplot as plt"
      ]
    },
    {
      "cell_type": "code",
      "execution_count": null,
      "id": "e263ebf4-62e4-403f-a51a-39b2b7b667a7",
      "metadata": {
        "id": "e263ebf4-62e4-403f-a51a-39b2b7b667a7",
        "outputId": "4c6b2ddb-4d8d-437c-ba68-3fc6e314b3a2",
        "colab": {
          "base_uri": "https://localhost:8080/"
        }
      },
      "outputs": [
        {
          "output_type": "stream",
          "name": "stdout",
          "text": [
            "Requirement already satisfied: statsmodels in /usr/local/lib/python3.10/dist-packages (0.14.0)\n",
            "Requirement already satisfied: numpy>=1.18 in /usr/local/lib/python3.10/dist-packages (from statsmodels) (1.23.5)\n",
            "Requirement already satisfied: scipy!=1.9.2,>=1.4 in /usr/local/lib/python3.10/dist-packages (from statsmodels) (1.11.4)\n",
            "Requirement already satisfied: pandas>=1.0 in /usr/local/lib/python3.10/dist-packages (from statsmodels) (1.5.3)\n",
            "Requirement already satisfied: patsy>=0.5.2 in /usr/local/lib/python3.10/dist-packages (from statsmodels) (0.5.4)\n",
            "Requirement already satisfied: packaging>=21.3 in /usr/local/lib/python3.10/dist-packages (from statsmodels) (23.2)\n",
            "Requirement already satisfied: python-dateutil>=2.8.1 in /usr/local/lib/python3.10/dist-packages (from pandas>=1.0->statsmodels) (2.8.2)\n",
            "Requirement already satisfied: pytz>=2020.1 in /usr/local/lib/python3.10/dist-packages (from pandas>=1.0->statsmodels) (2023.3.post1)\n",
            "Requirement already satisfied: six in /usr/local/lib/python3.10/dist-packages (from patsy>=0.5.2->statsmodels) (1.16.0)\n"
          ]
        }
      ],
      "source": [
        "pip install statsmodels"
      ]
    },
    {
      "cell_type": "code",
      "execution_count": null,
      "id": "119a67fe-5ecc-404c-ad89-95361a279997",
      "metadata": {
        "id": "119a67fe-5ecc-404c-ad89-95361a279997"
      },
      "outputs": [],
      "source": [
        "import statsmodels.api as sm\n",
        "import pylab as py\n",
        "from scipy.special import ndtri\n",
        "import scipy.stats as stats"
      ]
    },
    {
      "cell_type": "code",
      "execution_count": null,
      "id": "7e6634cc-b902-43fb-8626-cb825de63711",
      "metadata": {
        "id": "7e6634cc-b902-43fb-8626-cb825de63711"
      },
      "outputs": [],
      "source": [
        "temmp = df_imputed"
      ]
    },
    {
      "cell_type": "code",
      "execution_count": null,
      "id": "cdfea922-ec89-4bf0-b0be-316b90d7fd10",
      "metadata": {
        "id": "cdfea922-ec89-4bf0-b0be-316b90d7fd10",
        "outputId": "24d70938-04c4-43dd-abf2-7a73f779d2e9",
        "colab": {
          "base_uri": "https://localhost:8080/",
          "height": 718
        }
      },
      "outputs": [
        {
          "output_type": "display_data",
          "data": {
            "text/plain": [
              "<Figure size 800x800 with 1 Axes>"
            ],
            "image/png": "[encoded data removed]"
          },
          "metadata": {}
        }
      ],
      "source": [
        "combined_data = np.array(temmp[['Heart_Attack','Diabetes_Checkup']].values).flatten()\n",
        "z = (combined_data - np.mean(combined_data)) / np.std(combined_data)\n",
        "plt.figure(figsize=(8, 8))\n",
        "stats.probplot(z, dist=\"norm\", plot=plt)\n",
        "plt.title('Q-Q Plot: Heart Attack vs Diabetes Checkup')\n",
        "plt.show()"
      ]
    },
    {
      "cell_type": "code",
      "execution_count": null,
      "id": "8aa02285-96da-4ba8-b04a-04535c616351",
      "metadata": {
        "id": "8aa02285-96da-4ba8-b04a-04535c616351",
        "outputId": "7e1154af-2f5d-4690-a8d8-ab434db1e51a",
        "colab": {
          "base_uri": "https://localhost:8080/",
          "height": 718
        }
      },
      "outputs": [
        {
          "output_type": "display_data",
          "data": {
            "text/plain": [
              "<Figure size 800x800 with 1 Axes>"
            ],
            "image/png": "[encoded data removed]"
          },
          "metadata": {}
        }
      ],
      "source": [
        "combined_data = np.array(temmp[['Heart_Attack','Glycosylated_Hemoglobin']].values).flatten()\n",
        "z = (combined_data - np.mean(combined_data)) / np.std(combined_data)\n",
        "plt.figure(figsize=(8, 8))\n",
        "stats.probplot(z, dist=\"norm\", plot=plt)\n",
        "plt.title('Q-Q Plot: Heart Attack vs Glycosylated Hemoglobin')\n",
        "plt.show()"
      ]
    },
    {
      "cell_type": "code",
      "execution_count": null,
      "id": "0ca3faa7-6f85-4cfc-8f88-cee545a9b653",
      "metadata": {
        "id": "0ca3faa7-6f85-4cfc-8f88-cee545a9b653",
        "outputId": "3d4a7c1c-7157-4054-a156-6cdc4ed65feb",
        "colab": {
          "base_uri": "https://localhost:8080/",
          "height": 718
        }
      },
      "outputs": [
        {
          "output_type": "display_data",
          "data": {
            "text/plain": [
              "<Figure size 800x800 with 1 Axes>"
            ],
            "image/png": "[encoded data removed]"
          },
          "metadata": {}
        }
      ],
      "source": [
        "combined_data = np.array(temmp[['Heart_Attack','Dly_Sugar_Check']].values).flatten()\n",
        "z = (combined_data - np.mean(combined_data)) / np.std(combined_data)\n",
        "plt.figure(figsize=(8, 8))\n",
        "stats.probplot(z, dist=\"norm\", plot=plt)\n",
        "plt.title('Q-Q Plot: Heart Attack vs Daily Sugar Check')\n",
        "plt.show()"
      ]
    },
    {
      "cell_type": "code",
      "source": [
        "#Correlation Analysis\n",
        "\n",
        "import pandas as pd\n",
        "import seaborn as sns\n",
        "import matplotlib.pyplot as plt\n",
        "\n",
        "dep_var = 'Heart_Attack'\n",
        "ind_vars = ['Gender', 'Checkup', 'Exercise', 'Insulin', 'Dly_Sugar_Check',\n",
        "            'Diabetes_Checkup', 'Glycosylated_Hemoglobin',\n",
        "            'Overweight_or_Obese_Calculated', 'Current_Smokers']\n",
        "\n",
        "corr = df_imputed[[dep_var] + ind_vars].corr()\n",
        "\n",
        "plt.figure(figsize=(12,9))\n",
        "\n",
        "heatmap = sns.heatmap(corr, cmap='coolwarm', annot=True, fmt=\".2f\",\n",
        "                      annot_kws={\"size\": 14},  # Smaller font size for the annotations.\n",
        "                      linewidths=.5, cbar_kws={\"shrink\": .5})\n",
        "\n",
        "plt.xticks(rotation=45, ha='right')  # Rotate x labels for better visibility\n",
        "plt.yticks(rotation=0)               # Rotate y labels to horizontal\n",
        "\n",
        "# Set the title and adjust layout.\n",
        "heatmap.set_title('Correlation Heatmap with Heart_Attack')\n",
        "plt.tight_layout()\n",
        "plt.show()"
      ],
      "metadata": {
        "colab": {
          "base_uri": "https://localhost:8080/",
          "height": 907
        },
        "id": "Pd9-_o8ZwLpy",
        "outputId": "bf7217ec-d324-4860-8f70-2f51ec792c4f"
      },
      "id": "Pd9-_o8ZwLpy",
      "execution_count": null,
      "outputs": [
        {
          "output_type": "display_data",
          "data": {
            "text/plain": [
              "<Figure size 1200x900 with 2 Axes>"
            ],
            "image/png": "[encoded data removed]"
          },
          "metadata": {}
        }
      ]
    },
    {
      "cell_type": "code",
      "execution_count": null,
      "id": "41ec0fd6-8dc0-4028-9a10-970297e0dafc",
      "metadata": {
        "id": "41ec0fd6-8dc0-4028-9a10-970297e0dafc",
        "outputId": "3e93ab68-2a10-4beb-c218-5a6c88a2979e",
        "colab": {
          "base_uri": "https://localhost:8080/"
        }
      },
      "outputs": [
        {
          "output_type": "stream",
          "name": "stdout",
          "text": [
            "Chi-Square Statistic: 0.010115808789716728\n",
            "P-Value: 0.9198859560614204\n",
            "Degrees of Freedom: 1\n",
            "Conclusion: As p-value is greater than 0.05, we fail to reject the null hypothesis.\n"
          ]
        }
      ],
      "source": [
        "#Chi- Square Test between 2 categorical variables - Heart Attack and Managing Diabetes\n",
        "\n",
        "#Null Hypothesis: TThere is no statistically significant association between experiencing a heart attack and participation in classes for diabetes management.\n",
        "#Alternate Hypothesis: There is a statistically significant association between experiencing a heart attack and participation in classes for diabetes management.\n",
        "import scipy.stats\n",
        "\n",
        "cont = pd.crosstab(temmp[\"Heart_Attack\"],temmp[\"Managing_Diabetes\"])\n",
        "chi2_stat, p_value, dof, expected = scipy.stats.chi2_contingency(cont)\n",
        "\n",
        "print(f\"Chi-Square Statistic: {chi2_stat}\")\n",
        "print(f\"P-Value: {p_value}\")\n",
        "print(f\"Degrees of Freedom: {dof}\")\n",
        "\n",
        "if p_value > 0.05:\n",
        "    print(\"Conclusion: As p-value is greater than 0.05, we fail to reject the null hypothesis.\")\n",
        "else:\n",
        "    print(\"Conclusion: As p-value is less than or equal to 0.05, we reject the null hypothesis.\")\n"
      ]
    },
    {
      "cell_type": "code",
      "execution_count": null,
      "id": "50f2c4a3-b078-47c1-8722-587b31a8a999",
      "metadata": {
        "id": "50f2c4a3-b078-47c1-8722-587b31a8a999",
        "outputId": "31117d6f-00d8-4c55-8bfb-78b820e17d40",
        "colab": {
          "base_uri": "https://localhost:8080/"
        }
      },
      "outputs": [
        {
          "output_type": "stream",
          "name": "stdout",
          "text": [
            "Chi-Square Statistic: 196.7732741177972\n",
            "P-Value: 1.0568265603626291e-44\n",
            "Degrees of Freedom: 1\n",
            "Conclusion: As p-value is less than or equal to 0.05, we reject the null hypothesis.\n"
          ]
        }
      ],
      "source": [
        "##Chi- Square Test between 2 categorical variables - Heart Attack and Exercise\n",
        "\n",
        "#Null Hypothesis (H₀): There is no statistically significant association between experiencing a heart attack and engaging in exercise.\n",
        "#Alternative Hypothesis (H₁): There is a statistically significant association between experiencing a heart attack and engaging in exercise.\n",
        "\n",
        "cont = pd.crosstab(temmp[\"Heart_Attack\"],temmp[\"Exercise\"])\n",
        "chi2_stat, p_value, dof, expected = scipy.stats.chi2_contingency(cont)\n",
        "\n",
        "print(f\"Chi-Square Statistic: {chi2_stat}\")\n",
        "print(f\"P-Value: {p_value}\")\n",
        "print(f\"Degrees of Freedom: {dof}\")\n",
        "\n",
        "if p_value > 0.05:\n",
        "    print(\"Conclusion: As p-value is greater than 0.05, we fail to reject the null hypothesis.\")\n",
        "else:\n",
        "    print(\"Conclusion: As p-value is less than or equal to 0.05, we reject the null hypothesis.\")\n",
        "\n",
        "#P value is < 0.05, hence we reject the null hypothesis. There is a statisticall significant difference between experiencing a heart attack and engaging in exercise."
      ]
    },
    {
      "cell_type": "code",
      "execution_count": null,
      "id": "599cf297-9b2d-4ab1-a312-fe626f339e21",
      "metadata": {
        "id": "599cf297-9b2d-4ab1-a312-fe626f339e21",
        "outputId": "868b135d-2f5c-4375-c8eb-e6dac5e31768",
        "colab": {
          "base_uri": "https://localhost:8080/"
        }
      },
      "outputs": [
        {
          "output_type": "stream",
          "name": "stdout",
          "text": [
            "Chi-Square Statistic: 94.59400640064109\n",
            "P-Value: 2.337249395985841e-22\n",
            "Degrees of Freedom: 1\n",
            "Conclusion: As p-value is less than or equal to 0.05, we reject the null hypothesis.\n"
          ]
        }
      ],
      "source": [
        "##Chi- Square Test between 2 categorical variables - Heart Attack and the use of Insulin\n",
        "\n",
        "#Null Hypothesis (H₀): There is no statistically significant association between experiencing a heart attack and the use of insulin.\n",
        "#Alternative Hypothesis (H₁): There is a statistically significant association between experiencing a heart attack and the use of insulin\n",
        "cont = pd.crosstab(temmp[\"Heart_Attack\"],temmp[\"Insulin\"])\n",
        "chi2_stat, p_value, dof, expected = scipy.stats.chi2_contingency(cont)\n",
        "\n",
        "print(f\"Chi-Square Statistic: {chi2_stat}\")\n",
        "print(f\"P-Value: {p_value}\")\n",
        "print(f\"Degrees of Freedom: {dof}\")\n",
        "\n",
        "if p_value > 0.05:\n",
        "    print(\"Conclusion: As p-value is greater than 0.05, we fail to reject the null hypothesis.\")\n",
        "else:\n",
        "    print(\"Conclusion: As p-value is less than or equal to 0.05, we reject the null hypothesis.\")\n",
        "\n",
        "#P value is less than 0.05, we reject the null hypothesis. Hence, there is statistically significant association between experiencing a heart attack and the use of insulin."
      ]
    },
    {
      "cell_type": "code",
      "execution_count": null,
      "id": "68bdc328-7523-4212-a774-63b26a84808b",
      "metadata": {
        "id": "68bdc328-7523-4212-a774-63b26a84808b",
        "outputId": "646220b9-aaf7-4058-960e-23bc66e3b9c0",
        "colab": {
          "base_uri": "https://localhost:8080/"
        }
      },
      "outputs": [
        {
          "output_type": "stream",
          "name": "stdout",
          "text": [
            "Chi-Square Statistic: 5.720147733486724\n",
            "P-Value: 0.01677131923461379\n",
            "Degrees of Freedom: 1\n",
            "Conclusion: As p-value is less than or equal to 0.05, we reject the null hypothesis.\n"
          ]
        }
      ],
      "source": [
        "##Chi- Square Test between 2 categorical variables - Heart Attack and being obese\n",
        "\n",
        "#Null Hypothesis (H₀): There is no statistically significant association between experiencing a heart attack and being overweight.\n",
        "#Alternative Hypothesis (H₁): There is a statistically significant association between experiencing a heart attack and being overweight.\n",
        "\n",
        "cont = pd.crosstab(temmp[\"Heart_Attack\"],temmp[\"Overweight_or_Obese_Calculated\"])\n",
        "chi2_stat, p_value, dof, expected = scipy.stats.chi2_contingency(cont)\n",
        "\n",
        "print(f\"Chi-Square Statistic: {chi2_stat}\")\n",
        "print(f\"P-Value: {p_value}\")\n",
        "print(f\"Degrees of Freedom: {dof}\")\n",
        "\n",
        "if p_value > 0.05:\n",
        "    print(\"Conclusion: As p-value is greater than 0.05, we fail to reject the null hypothesis.\")\n",
        "else:\n",
        "    print(\"Conclusion: As p-value is less than or equal to 0.05, we reject the null hypothesis.\")\n",
        "\n",
        "#P value is greater than 0.05, therefore we fail to reject the null hypothesis. Hence, there is no statistically significant difference among the two."
      ]
    },
    {
      "cell_type": "code",
      "execution_count": null,
      "id": "027192c9-3713-4b62-b1c8-af0135482205",
      "metadata": {
        "id": "027192c9-3713-4b62-b1c8-af0135482205",
        "outputId": "9ecdc538-349b-4464-9c4c-ec86036d4dfa",
        "colab": {
          "base_uri": "https://localhost:8080/"
        }
      },
      "outputs": [
        {
          "output_type": "stream",
          "name": "stdout",
          "text": [
            "Chi-Square Statistic: 88.73922159722328\n",
            "P-Value: 4.504450718164406e-21\n",
            "Degrees of Freedom: 1\n",
            "Conclusion: As p-value is less than or equal to 0.05, we reject the null hypothesis.\n"
          ]
        }
      ],
      "source": [
        "##Chi- Square Test between 2 categorical variables - Heart Attack and Smoking status\n",
        "\n",
        "#Null Hypothesis (H₀): There is no statistically significant association between experiencing a heart attack and being a smoker.\n",
        "#Alternative Hypothesis (H₁):There is a statistically significant association between experiencing a heart attack and being a smoker.\n",
        "\n",
        "cont = pd.crosstab(df_imputed[\"Heart_Attack\"],df_imputed[\"Current_Smokers\"])\n",
        "chi2_stat, p_value, dof, expected = scipy.stats.chi2_contingency(cont)\n",
        "\n",
        "print(f\"Chi-Square Statistic: {chi2_stat}\")\n",
        "print(f\"P-Value: {p_value}\")\n",
        "print(f\"Degrees of Freedom: {dof}\")\n",
        "\n",
        "if p_value > 0.05:\n",
        "    print(\"Conclusion: As p-value is greater than 0.05, we fail to reject the null hypothesis.\")\n",
        "else:\n",
        "    print(\"Conclusion: As p-value is less than or equal to 0.05, we reject the null hypothesis.\")"
      ]
    },
    {
      "cell_type": "code",
      "execution_count": null,
      "id": "1423afd6-91f4-490c-a4dd-3066e4bd4bfc",
      "metadata": {
        "id": "1423afd6-91f4-490c-a4dd-3066e4bd4bfc",
        "outputId": "711cf104-43bd-4137-9298-f39609f6b714",
        "colab": {
          "base_uri": "https://localhost:8080/"
        }
      },
      "outputs": [
        {
          "output_type": "stream",
          "name": "stdout",
          "text": [
            "Chi-Square Statistic: 537.8678019519232\n",
            "P-Value: 5.486424145611511e-119\n",
            "Degrees of Freedom: 1\n",
            "Conclusion: As p-value is less than or equal to 0.05, we reject the null hypothesis.\n"
          ]
        }
      ],
      "source": [
        "cont = pd.crosstab(df_imputed[\"Heart_Attack\"],df_imputed[\"Gender\"])\n",
        "chi2_stat, p_value, dof, expected = scipy.stats.chi2_contingency(cont)\n",
        "\n",
        "print(f\"Chi-Square Statistic: {chi2_stat}\")\n",
        "print(f\"P-Value: {p_value}\")\n",
        "print(f\"Degrees of Freedom: {dof}\")\n",
        "\n",
        "if p_value > 0.05:\n",
        "    print(\"Conclusion: As p-value is greater than 0.05, we fail to reject the null hypothesis.\")\n",
        "else:\n",
        "    print(\"Conclusion: As p-value is less than or equal to 0.05, we reject the null hypothesis.\")"
      ]
    },
    {
      "cell_type": "code",
      "execution_count": null,
      "id": "eefacc7b-f671-455d-baf6-595eaab5d4c1",
      "metadata": {
        "id": "eefacc7b-f671-455d-baf6-595eaab5d4c1",
        "outputId": "70c2dfd4-1d82-4ef0-bee6-bd2b773b0a0f",
        "colab": {
          "base_uri": "https://localhost:8080/"
        }
      },
      "outputs": [
        {
          "output_type": "stream",
          "name": "stdout",
          "text": [
            "Chi-Square Statistic: 10.237368082324151\n",
            "P-Value: 0.036613546148123864\n",
            "Degrees of Freedom: 4\n",
            "Conclusion: As p-value is less than or equal to 0.05, we reject the null hypothesis.\n"
          ]
        }
      ],
      "source": [
        "cont = pd.crosstab(df_imputed[\"Heart_Attack\"],df_imputed[\"Checkup\"])\n",
        "chi2_stat, p_value, dof, expected = scipy.stats.chi2_contingency(cont)\n",
        "\n",
        "print(f\"Chi-Square Statistic: {chi2_stat}\")\n",
        "print(f\"P-Value: {p_value}\")\n",
        "print(f\"Degrees of Freedom: {dof}\")\n",
        "\n",
        "if p_value > 0.05:\n",
        "    print(\"Conclusion: As p-value is greater than 0.05, we fail to reject the null hypothesis.\")\n",
        "else:\n",
        "    print(\"Conclusion: As p-value is less than or equal to 0.05, we reject the null hypothesis.\")"
      ]
    },
    {
      "cell_type": "code",
      "execution_count": null,
      "id": "d902c324-b8cf-482f-92f0-854cd02663dc",
      "metadata": {
        "id": "d902c324-b8cf-482f-92f0-854cd02663dc"
      },
      "outputs": [],
      "source": [
        "#Hence, we notice an association between Heart Attack and gender, exercise, use of insulin and smoking status."
      ]
    },
    {
      "cell_type": "code",
      "execution_count": null,
      "id": "1a4b15c3-b0c4-430f-aa84-d153e3c046da",
      "metadata": {
        "id": "1a4b15c3-b0c4-430f-aa84-d153e3c046da",
        "outputId": "f8988f89-bd70-4dcf-915f-d8fb1b2e686c",
        "colab": {
          "base_uri": "https://localhost:8080/"
        }
      },
      "outputs": [
        {
          "output_type": "stream",
          "name": "stdout",
          "text": [
            "Stat: 232447869.0\n",
            "P-Value: 0.0\n",
            "Conclusion: As p-value is less than or equal to 0.05, we reject the null hypothesis\n"
          ]
        }
      ],
      "source": [
        "#Null Hypothesis (H0): There is no statistically significant difference in the frequency of health check-ups between individuals who have had a heart attack and those who have not.\n",
        "#Alternative Hypothesis (H1): There is a statistically significant difference in the frequency of health check-ups between individuals who have had a heart attack and those who have not.\n",
        "from scipy.stats import mannwhitneyu\n",
        "stat, p = mannwhitneyu(df_imputed[\"Heart_Attack\"], df_imputed[\"Diabetes_Checkup\"])\n",
        "print(f\"Stat: {stat}\")\n",
        "print(f\"P-Value: {p}\")\n",
        "\n",
        "if p > 0.05:\n",
        "    print('Conclusion: As p-value is greater than 0.05, we fail to reject the null hypothesis.')\n",
        "else:\n",
        "    print('Conclusion: As p-value is less than or equal to 0.05, we reject the null hypothesis')"
      ]
    },
    {
      "cell_type": "code",
      "execution_count": null,
      "id": "9a8e141e-4823-4241-aab6-3b0e56550a7d",
      "metadata": {
        "id": "9a8e141e-4823-4241-aab6-3b0e56550a7d",
        "outputId": "a8d8ebe8-12f4-4fdd-e180-72227a3014cc",
        "colab": {
          "base_uri": "https://localhost:8080/"
        }
      },
      "outputs": [
        {
          "output_type": "stream",
          "name": "stdout",
          "text": [
            "Stat: 2354169198.5\n",
            "P-Value: 0.0\n",
            "Conclusion: As p-value is less than or equal to 0.05, we reject the null hypothesis\n"
          ]
        }
      ],
      "source": [
        "#Null Hypothesis (H0): There is no statistically significant difference in the frequency of glucose checks between individuals who have had a heart attack and those who have not.\n",
        "#Alternative Hypothesis (H1): There is a statistically significant difference in the frequency of glucose checks between individuals who have had a heart attack and those who have not.\n",
        "\n",
        "stat, p = mannwhitneyu(df_imputed[\"Heart_Attack\"], df_imputed[\"Dly_Sugar_Check\"])\n",
        "print(f\"Stat: {stat}\")\n",
        "print(f\"P-Value: {p}\")\n",
        "\n",
        "if p > 0.05:\n",
        "    print('Conclusion: As p-value is greater than 0.05, we fail to reject the null hypothesis.')\n",
        "else:\n",
        "    print('Conclusion: As p-value is less than or equal to 0.05, we reject the null hypothesis')"
      ]
    },
    {
      "cell_type": "code",
      "execution_count": null,
      "id": "1d45660d-354e-4809-a3d1-98efb1838273",
      "metadata": {
        "id": "1d45660d-354e-4809-a3d1-98efb1838273",
        "outputId": "2a68a558-751f-4f6f-dbda-91e72d526e21",
        "colab": {
          "base_uri": "https://localhost:8080/"
        }
      },
      "outputs": [
        {
          "output_type": "stream",
          "name": "stdout",
          "text": [
            "Stat: 1114261088.5\n",
            "P-Value: 0.0\n",
            "Conclusion: As p-value is less than or equal to 0.05, we reject the null hypothesis\n"
          ]
        }
      ],
      "source": [
        "#Null Hypothesis (H0): There is no statistically significant difference in the frequency of glycosylated hemoglobin (HbA1c) checks between individuals who have had a heart attack and those who have not.\n",
        "#Alternative Hypothesis (H1): There is a statistically significant difference in the frequency of glycosylated hemoglobin (HbA1c) checks between individuals who have had a heart attack and those who have not.\n",
        "\n",
        "stat, p = mannwhitneyu(df_imputed[\"Heart_Attack\"], df_imputed[\"Glycosylated_Hemoglobin\"])\n",
        "print(f\"Stat: {stat}\")\n",
        "print(f\"P-Value: {p}\")\n",
        "\n",
        "if p > 0.05:\n",
        "    print('Conclusion: As p-value is greater than 0.05, we fail to reject the null hypothesis.')\n",
        "else:\n",
        "    print('Conclusion: As p-value is less than or equal to 0.05, we reject the null hypothesis')"
      ]
    }
  ],
  "metadata": {
    "kernelspec": {
      "display_name": "Python 3 (ipykernel)",
      "language": "python",
      "name": "python3"
    },
    "language_info": {
      "codemirror_mode": {
        "name": "ipython",
        "version": 3
      },
      "file_extension": ".py",
      "mimetype": "text/x-python",
      "name": "python",
      "nbconvert_exporter": "python",
      "pygments_lexer": "ipython3",
      "version": "3.10.12"
    },
    "colab": {
      "provenance": []
    }
  },
  "nbformat": 4,
  "nbformat_minor": 5
}