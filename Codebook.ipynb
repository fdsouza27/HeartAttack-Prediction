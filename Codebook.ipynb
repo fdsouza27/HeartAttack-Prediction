{
 "cells": [
  {
   "cell_type": "markdown",
   "id": "3f2d5521",
   "metadata": {},
   "source": [
    "# Statistical Analysis Notebook\n",
    "\n",
    "This notebook contains statistical analysis using Chi-Square and Mann-Whitney U tests. The dataset being used is preprocessed and imputed before the tests are performed. Below are the tests conducted:"
   ]
  },
  {
   "cell_type": "code",
   "execution_count": null,
   "id": "2b17543f-f398-44fe-9c66-d600ad0ede6b",
   "metadata": {
    "colab": {
     "base_uri": "https://localhost:8080/"
    },
    "id": "2b17543f-f398-44fe-9c66-d600ad0ede6b",
    "outputId": "a8832845-ae1c-4f2f-e37c-1211f206cee6",
    "scrolled": true
   },
   "outputs": [],
   "source": [
    "pip install seaborn"
   ]
  },
  {
   "cell_type": "code",
   "execution_count": null,
   "id": "5461952d-141a-4fbd-88e3-1f62ede93b40",
   "metadata": {
    "id": "5461952d-141a-4fbd-88e3-1f62ede93b40"
   },
   "outputs": [],
   "source": [
    "import numpy as np\n",
    "import pandas as pd\n",
    "import seaborn as sns\n",
    "import matplotlib.pyplot as pl"
   ]
  },
  {
   "cell_type": "code",
   "execution_count": null,
   "id": "90d74168-a176-48c3-8518-813e570d0142",
   "metadata": {
    "id": "90d74168-a176-48c3-8518-813e570d0142"
   },
   "outputs": [],
   "source": [
    "df = pd.read_csv(\"brfss2020.csv\")"
   ]
  },
  {
   "cell_type": "code",
   "execution_count": null,
   "id": "f3TMt3E560kR",
   "metadata": {
    "colab": {
     "base_uri": "https://localhost:8080/"
    },
    "id": "f3TMt3E560kR",
    "outputId": "25eaad93-9463-49cf-ca7a-49792adf916a"
   },
   "outputs": [],
   "source": [
    "df.shape"
   ]
  },
  {
   "cell_type": "code",
   "execution_count": null,
   "id": "b280a100-044a-45ff-adf7-cced5ba252c0",
   "metadata": {
    "colab": {
     "base_uri": "https://localhost:8080/",
     "height": 206
    },
    "id": "b280a100-044a-45ff-adf7-cced5ba252c0",
    "outputId": "e16711f7-7c25-4813-94ce-8d3ea3518ec1"
   },
   "outputs": [],
   "source": [
    "df_selected = df[['SEXVAR', 'CHECKUP1', 'EXERANY2', 'CVDINFR4', 'DIABETE4', 'INSULIN1', 'BLDSUGAR', 'DOCTDIAB', 'CHKHEMO3', 'DIABEDU', '_RFBMI5', '_RFSMOK3']]\n",
    "df_selected.head()"
   ]
  },
  {
   "cell_type": "code",
   "execution_count": null,
   "id": "11072c49-66cd-467a-940c-44cc4c0cae92",
   "metadata": {
    "colab": {
     "base_uri": "https://localhost:8080/"
    },
    "id": "11072c49-66cd-467a-940c-44cc4c0cae92",
    "outputId": "2ace42a4-ff29-4a3b-ec8f-0e6092d9bd6b"
   },
   "outputs": [],
   "source": [
    "df_selected.isnull().sum()       # indicates the number of missing values"
   ]
  },
  {
   "cell_type": "code",
   "execution_count": null,
   "id": "5af39616-5471-4e6c-b431-40798f8bdd85",
   "metadata": {
    "colab": {
     "base_uri": "https://localhost:8080/"
    },
    "id": "5af39616-5471-4e6c-b431-40798f8bdd85",
    "outputId": "f8763565-797e-479e-cce6-13d2f1a84c99"
   },
   "outputs": [],
   "source": [
    "df_selected.isnull().any()     #ach column in the df_selected DataFrame to determine if there are any missing values (True) or none (False)"
   ]
  },
  {
   "cell_type": "code",
   "execution_count": null,
   "id": "b5cdadc6-cb9b-4dad-a107-ed7579153c76",
   "metadata": {
    "colab": {
     "base_uri": "https://localhost:8080/"
    },
    "id": "b5cdadc6-cb9b-4dad-a107-ed7579153c76",
    "outputId": "c4fe0938-816b-48b8-ee56-f8c5d3b79bf7"
   },
   "outputs": [],
   "source": [
    "df_selected.count()"
   ]
  },
  {
   "cell_type": "code",
   "execution_count": null,
   "id": "fe5bf0c5-0602-495e-afb5-534247abb42f",
   "metadata": {
    "colab": {
     "base_uri": "https://localhost:8080/",
     "height": 504
    },
    "id": "fe5bf0c5-0602-495e-afb5-534247abb42f",
    "outputId": "6a805fdc-aa43-41f7-dc5d-0df20d1393e9"
   },
   "outputs": [],
   "source": [
    "df_selected = df_selected.rename(columns={\"SEXVAR\":\"Gender\"})\n",
    "\n",
    "\n",
    "sns.countplot(data= df_selected, x='Gender')\n",
    "df_selected.Gender.value_counts(sort=False)"
   ]
  },
  {
   "cell_type": "code",
   "execution_count": null,
   "id": "cd64f37d-2fcd-4b29-844f-da6af2b3ab31",
   "metadata": {
    "colab": {
     "base_uri": "https://localhost:8080/",
     "height": 449
    },
    "id": "cd64f37d-2fcd-4b29-844f-da6af2b3ab31",
    "outputId": "5c684027-00dc-4f7f-fcb3-b861221b63d3"
   },
   "outputs": [],
   "source": [
    "df_selected = df_selected.rename(columns={\"CHECKUP1\":\"Checkup\"})\n",
    "sns.countplot(x=\"Checkup\", data=df_selected)\n",
    "df_selected.Checkup.value_counts(sort=False)\n",
    "\n",
    "#Values of 7 or 9 are equivelent to null\n",
    "df_selected.loc[df_selected['Checkup'] == 9.0, 'Checkup'] = np.nan\n",
    "df_selected.loc[df_selected['Checkup'] == 7.0, 'Checkup'] = np.nan\n",
    "\n"
   ]
  },
  {
   "cell_type": "code",
   "execution_count": null,
   "id": "91976842-b68f-4b77-a402-a64553994a78",
   "metadata": {
    "colab": {
     "base_uri": "https://localhost:8080/",
     "height": 449
    },
    "id": "91976842-b68f-4b77-a402-a64553994a78",
    "outputId": "d57711c7-6e5c-4954-abd1-3b6690cd867e"
   },
   "outputs": [],
   "source": [
    "df_selected = df_selected.rename(columns={\"EXERANY2\":\"Exercise\"})\n",
    "sns.countplot(x=\"Exercise\", data=df_selected)\n",
    "df_selected.Exercise.value_counts(sort=False)\n",
    "\n",
    "#Values of 7 or 9 are equivelent to null\n",
    "df_selected.loc[df_selected['Exercise'] == 9.0, 'Exercise'] = np.nan\n",
    "df_selected.loc[df_selected['Exercise'] == 7.0, 'Exercise'] = np.nan\n"
   ]
  },
  {
   "cell_type": "code",
   "execution_count": null,
   "id": "1cf20744-5219-4176-a40c-d267a57ae3a9",
   "metadata": {
    "colab": {
     "base_uri": "https://localhost:8080/",
     "height": 450
    },
    "id": "1cf20744-5219-4176-a40c-d267a57ae3a9",
    "outputId": "a13f6670-7c68-4a7d-9378-ad24fa82bdb5"
   },
   "outputs": [],
   "source": [
    "df_selected = df_selected.rename(columns={\"CVDINFR4\":\"Heart_Attack\"})\n",
    "sns.countplot(x=\"Heart_Attack\", data=df_selected)\n",
    "df_selected.Heart_Attack.value_counts(sort=False)\n",
    "\n",
    "df_selected.loc[df_selected['Heart_Attack'] == 9.0, 'Heart_Attack'] = np.nan\n",
    "df_selected.loc[df_selected['Heart_Attack'] == 7.0, 'Heart_Attack'] = np.nan\n"
   ]
  },
  {
   "cell_type": "code",
   "execution_count": null,
   "id": "4061084d-e1fd-4552-9b65-47fbcbcc3f70",
   "metadata": {
    "colab": {
     "base_uri": "https://localhost:8080/",
     "height": 485
    },
    "id": "4061084d-e1fd-4552-9b65-47fbcbcc3f70",
    "outputId": "a7b5cc73-c43f-4ab7-e64d-bd2f8937231f"
   },
   "outputs": [],
   "source": [
    "df_selected = df_selected.rename(columns={\"DIABETE4\":\"Diabetes\"})\n",
    "\n",
    "#Values other than 1 are not apart of our population, dropping those values.\n",
    "df_selected.drop(df_selected[df_selected['Diabetes'] == 9].index, inplace= True)\n",
    "df_selected.drop(df_selected[df_selected['Diabetes'] == 7].index, inplace= True)\n",
    "df_selected.drop(df_selected[df_selected['Diabetes'] == 3].index, inplace= True)\n",
    "df_selected.drop(df_selected[df_selected['Diabetes'] == 4].index, inplace= True)\n",
    "df_selected.drop(df_selected[df_selected['Diabetes'] == 2].index, inplace= True)\n",
    "sns.countplot(x=\"Diabetes\", data=df_selected)\n",
    "df_selected.Diabetes.value_counts(sort=False)"
   ]
  },
  {
   "cell_type": "code",
   "execution_count": null,
   "id": "c79242d6-719c-42bc-81b5-0444eda2a72d",
   "metadata": {
    "colab": {
     "base_uri": "https://localhost:8080/",
     "height": 449
    },
    "id": "c79242d6-719c-42bc-81b5-0444eda2a72d",
    "outputId": "1f49a220-bf33-4c4c-c8b2-108ddafcebbc"
   },
   "outputs": [],
   "source": [
    "df_selected = df_selected.rename(columns={\"INSULIN1\":\"Insulin\"})\n",
    "sns.countplot(x=\"Insulin\", data=df_selected)\n",
    "df_selected.Insulin.value_counts(sort=False)\n",
    "\n",
    "df_selected.loc[df_selected[\"Insulin\"] == 9.0, \"Insulin\"] = np.nan\n",
    "df_selected.loc[df_selected[\"Insulin\"] == 7.0, \"Insulin\"] = np.nan\n"
   ]
  },
  {
   "cell_type": "code",
   "execution_count": null,
   "id": "48c01c2d-d237-4025-abcc-67278e401a07",
   "metadata": {
    "colab": {
     "base_uri": "https://localhost:8080/",
     "height": 450
    },
    "id": "48c01c2d-d237-4025-abcc-67278e401a07",
    "outputId": "bba39462-129b-401a-cdc6-07a31e54b9ee"
   },
   "outputs": [],
   "source": [
    "df_selected = df_selected.rename(columns={\"DIABEDU\":\"Managing_Diabetes\"})\n",
    "\n",
    "sns.countplot(x=\"Managing_Diabetes\", data=df_selected)\n",
    "df_selected.Managing_Diabetes.value_counts(sort=False)\n",
    "\n",
    "\n",
    "#7 and 9 are equivelent to null for this feature\n",
    "df_selected.loc[df_selected['Managing_Diabetes'] == 9.0, 'Managing_Diabetes'] = np.nan\n",
    "df_selected.loc[df_selected['Managing_Diabetes'] == 7.0, 'Managing_Diabetes'] = np.nan\n"
   ]
  },
  {
   "cell_type": "code",
   "execution_count": null,
   "id": "6edad965-7a08-4be1-bbf8-2ceac4fec100",
   "metadata": {
    "colab": {
     "base_uri": "https://localhost:8080/",
     "height": 450
    },
    "id": "6edad965-7a08-4be1-bbf8-2ceac4fec100",
    "outputId": "cae1cd52-2eab-454e-8aee-e024a7ed3c3d"
   },
   "outputs": [],
   "source": [
    "df_selected = df_selected.rename(columns={\"_RFBMI5\":\"Overweight_or_Obese_Calculated\"})\n",
    "\n",
    "sns.countplot(x=\"Overweight_or_Obese_Calculated\", data=df_selected)\n",
    "df_selected.Overweight_or_Obese_Calculated.value_counts(sort=False)\n",
    "\n",
    "#9 is equivelent to null for this feature.\n",
    "df_selected.loc[df_selected[\"Overweight_or_Obese_Calculated\"] == 9.0, \"Overweight_or_Obese_Calculated\"] = np.nan\n"
   ]
  },
  {
   "cell_type": "code",
   "execution_count": null,
   "id": "d131f0de-2a85-4deb-83c7-268ee9f59786",
   "metadata": {
    "colab": {
     "base_uri": "https://localhost:8080/",
     "height": 450
    },
    "id": "d131f0de-2a85-4deb-83c7-268ee9f59786",
    "outputId": "9429b160-4daa-47c8-db78-99e0590bf3d8"
   },
   "outputs": [],
   "source": [
    "df_selected = df_selected.rename(columns={\"_RFSMOK3\":\"Current_Smokers\"})\n",
    "\n",
    "sns.countplot(x=\"Current_Smokers\", data=df_selected)\n",
    "df_selected.Current_Smokers.value_counts(sort=False)\n",
    "\n",
    "#9 is equivelent to null for this feature\n",
    "df_selected.loc[df_selected[\"Current_Smokers\"] == 9.0, \"Current_Smokers\"] = np.nan\n"
   ]
  },
  {
   "cell_type": "code",
   "execution_count": null,
   "id": "e584f430-0a47-409f-828e-d7135a417042",
   "metadata": {
    "colab": {
     "base_uri": "https://localhost:8080/",
     "height": 572
    },
    "id": "e584f430-0a47-409f-828e-d7135a417042",
    "outputId": "4202c448-a309-4e88-e80f-9790d08a9237"
   },
   "outputs": [],
   "source": [
    "df_selected.info()\n",
    "df_selected.head()"
   ]
  },
  {
   "cell_type": "code",
   "execution_count": null,
   "id": "6095bff9-93ab-404f-bbb7-4c0dfc5fc306",
   "metadata": {
    "id": "6095bff9-93ab-404f-bbb7-4c0dfc5fc306"
   },
   "outputs": [],
   "source": [
    "import pandas as pd\n",
    "\n",
    "\n",
    "df_selected.to_csv('cleanedm.csv', index=False)\n"
   ]
  },
  {
   "cell_type": "code",
   "execution_count": null,
   "id": "a3f8bca5-a1d6-4419-ade1-12748d8316a6",
   "metadata": {
    "id": "a3f8bca5-a1d6-4419-ade1-12748d8316a6"
   },
   "outputs": [],
   "source": [
    "import csv\n",
    "\n",
    "def process_csv(input_file, output_file):\n",
    "    with open(input_file, 'r') as csv_file:\n",
    "        csv_reader = csv.DictReader(csv_file)\n",
    "        rows = list(csv_reader)\n",
    "#Row is for how many times a patient checks the blood sugar. It is formated that if it is 100s, the tens and ones value are how many times the patient\n",
    "#checks daily. If it 200s, the same applies only its weekly checks. If it is 300s, it is monthly. If it is 400s, it is yearly. 888 corresponds with none.\n",
    "#The below code block strips away the first digit and checks to see if there is a second digit that is not zero. Then it normalizes data to daily checks\n",
    "#from weekly, monthly, yearly so we all values are on the same scale. Rounds down to 5 digits.\n",
    "        for row in rows:\n",
    "            if row['Dly_Sugar_Check'].startswith('1'):\n",
    "                row['Dly_Sugar_Check'] = row['Dly_Sugar_Check'][1:]\n",
    "                if len(row['Dly_Sugar_Check']) > 0 and row['Dly_Sugar_Check'][0] == '0':\n",
    "                    row['Dly_Sugar_Check'] = row['Dly_Sugar_Check'][1:]\n",
    "            elif len(row['Dly_Sugar_Check']) == 5 and row['Dly_Sugar_Check'].startswith('2'):\n",
    "                row['Dly_Sugar_Check'] = row['Dly_Sugar_Check'][1:]\n",
    "                if len(row['Dly_Sugar_Check']) > 0 and row['Dly_Sugar_Check'][0] == '0':\n",
    "                    row['Dly_Sugar_Check'] = row['Dly_Sugar_Check'][1:]\n",
    "                    row['Dly_Sugar_Check'] = str(round(float(row['Dly_Sugar_Check']) / 7, 5))\n",
    "            elif len(row['Dly_Sugar_Check']) == 5 and row['Dly_Sugar_Check'].startswith('3'):\n",
    "                row['Dly_Sugar_Check'] = row['Dly_Sugar_Check'][1:]\n",
    "                if len(row['Dly_Sugar_Check']) > 0 and row['Dly_Sugar_Check'][0] == '0':\n",
    "                    row['Dly_Sugar_Check'] = row['Dly_Sugar_Check'][1:]\n",
    "                    row['Dly_Sugar_Check']=str(round(float(row['Dly_Sugar_Check'])/30, 5))\n",
    "            elif len(row['Dly_Sugar_Check']) == 5 and row['Dly_Sugar_Check'].startswith('4'):\n",
    "                row['Dly_Sugar_Check'] = row['Dly_Sugar_Check'][1:]\n",
    "                if len(row['Dly_Sugar_Check']) > 0 and row['Dly_Sugar_Check'][0] == '0':\n",
    "                    row['Dly_Sugar_Check'] = row['Dly_Sugar_Check'][1:]\n",
    "                    row['Dly_Sugar_Check']=str(round(float(row['Dly_Sugar_Check'])/365, 5))\n",
    "            elif row['Dly_Sugar_Check'] == ('888.0'):\n",
    "                row['Dly_Sugar_Check'] = ('0.0')\n",
    "\n",
    "#88 corresponds with none so in the below two rows, replacing that zero.\n",
    "        for row in rows:\n",
    "            if row['Diabetes_Checkup'] == ('88.0'):\n",
    "                row['Diabetes_Checkup'] = ('0.0')\n",
    "\n",
    "        for row in rows:\n",
    "            if row['Glycosylated_Hemoglobin'] == ('88.0'):\n",
    "                row['Glycosylated_Hemoglobin'] = ('0.0')\n",
    "\n",
    "\n",
    "    with open(output_file, 'w', newline='') as csv_file:\n",
    "        fieldnames = csv_reader.fieldnames\n",
    "        csv_writer = csv.DictWriter(csv_file, fieldnames=fieldnames)\n",
    "        csv_writer.writeheader()\n",
    "        csv_writer.writerows(rows)\n",
    "\n",
    "input_file = 'cleanedm.csv'\n",
    "output_file = 'outputm.csv'\n",
    "\n",
    "process_csv(input_file, output_file)"
   ]
  },
  {
   "cell_type": "code",
   "execution_count": null,
   "id": "70433f3c-0faa-4d6d-8b0c-828807b823e6",
   "metadata": {
    "id": "70433f3c-0faa-4d6d-8b0c-828807b823e6"
   },
   "outputs": [],
   "source": [
    "df = pd.read_csv(\"outputm.csv\")"
   ]
  },
  {
   "cell_type": "code",
   "execution_count": null,
   "id": "a38b81b3-61b5-4ffd-b669-dc7e2a88138a",
   "metadata": {
    "colab": {
     "base_uri": "https://localhost:8080/",
     "height": 226
    },
    "id": "a38b81b3-61b5-4ffd-b669-dc7e2a88138a",
    "outputId": "ac59f00f-1124-4022-9c55-7836c48892e3"
   },
   "outputs": [],
   "source": [
    "df_selected = df[['Gender', 'Checkup', 'Exercise', 'Heart_Attack', 'Diabetes', 'Insulin', 'Dly_Sugar_Check', 'Diabetes_Checkup', 'Glycosylated_Hemoglobin', 'Managing_Diabetes', 'Overweight_or_Obese_Calculated', 'Current_Smokers']]\n",
    "df_selected.head()"
   ]
  },
  {
   "cell_type": "code",
   "execution_count": null,
   "id": "52090fa9-3cae-4e77-9568-572e7a7b38d5",
   "metadata": {
    "colab": {
     "base_uri": "https://localhost:8080/"
    },
    "id": "52090fa9-3cae-4e77-9568-572e7a7b38d5",
    "outputId": "065beac5-e311-4dd1-c7b4-a10ba8082d49"
   },
   "outputs": [],
   "source": [
    "df_selected.isnull().sum()"
   ]
  },
  {
   "cell_type": "code",
   "execution_count": null,
   "id": "fea93ab9-f9d5-48a5-ac2a-5c8e7b81e4f8",
   "metadata": {
    "colab": {
     "base_uri": "https://localhost:8080/"
    },
    "id": "fea93ab9-f9d5-48a5-ac2a-5c8e7b81e4f8",
    "outputId": "93d0f53a-3968-41d5-8be0-fa19e959f72d"
   },
   "outputs": [],
   "source": [
    "df_selected.isnull().any()"
   ]
  },
  {
   "cell_type": "code",
   "execution_count": null,
   "id": "f52da9c1-6216-4b4c-a99f-0b598b8d302a",
   "metadata": {
    "colab": {
     "base_uri": "https://localhost:8080/"
    },
    "id": "f52da9c1-6216-4b4c-a99f-0b598b8d302a",
    "outputId": "931b9acb-9f92-4869-9094-c3cb92485429"
   },
   "outputs": [],
   "source": [
    "df_selected.count()"
   ]
  },
  {
   "cell_type": "code",
   "execution_count": null,
   "id": "vSsBWaL4AiTL",
   "metadata": {
    "colab": {
     "base_uri": "https://localhost:8080/"
    },
    "id": "vSsBWaL4AiTL",
    "outputId": "4c0d5f6a-58f2-4088-db5e-1dc02dfacf6f"
   },
   "outputs": [],
   "source": [
    "pip install --upgrade scikit-learn"
   ]
  },
  {
   "cell_type": "code",
   "execution_count": null,
   "id": "8a346984-ce14-4f62-b67f-16d7dda74f6a",
   "metadata": {
    "colab": {
     "base_uri": "https://localhost:8080/"
    },
    "id": "8a346984-ce14-4f62-b67f-16d7dda74f6a",
    "outputId": "0a765b4c-9e09-4f2f-fe53-e4492234270f"
   },
   "outputs": [],
   "source": [
    "import pandas as pd\n",
    "from sklearn.impute import SimpleImputer\n",
    "\n",
    "# Load your data\n",
    "df = pd.read_csv(\"/content/outputm.csv\")\n",
    "print(len(df.columns))\n",
    "\n",
    "# Initialize the SimpleImputer with the desired strategy (mean, median, most_frequent, or constant)\n",
    "imputer = SimpleImputer(strategy='most_frequent')  # You can choose a different strategy based on your requirements\n",
    "df_new = pd.DataFrame()\n",
    "\n",
    "# Fit and transform the dataset\n",
    "df_new = imputer.fit_transform(df)\n",
    "\n",
    "# Now, df contains the DataFrame with imputed values\n",
    "df_imputed = pd.DataFrame(df_new, columns=df.columns[:])"
   ]
  },
  {
   "cell_type": "code",
   "execution_count": null,
   "id": "c33e45e2-055f-4bfa-90e3-807df7876f07",
   "metadata": {
    "colab": {
     "base_uri": "https://localhost:8080/"
    },
    "id": "c33e45e2-055f-4bfa-90e3-807df7876f07",
    "outputId": "f2bf655e-82bf-4a31-9e6b-c2dfc9303a4e"
   },
   "outputs": [],
   "source": [
    "df_imputed.isnull().any()"
   ]
  },
  {
   "cell_type": "code",
   "execution_count": null,
   "id": "ghbp-tbW-xRc",
   "metadata": {
    "colab": {
     "base_uri": "https://localhost:8080/",
     "height": 226
    },
    "id": "ghbp-tbW-xRc",
    "outputId": "9b115c87-22bc-4a1a-fb9c-4bbb03ec9b5e"
   },
   "outputs": [],
   "source": [
    "df_imputed.head()"
   ]
  },
  {
   "cell_type": "code",
   "execution_count": null,
   "id": "0Ox0jznu-4MQ",
   "metadata": {
    "colab": {
     "base_uri": "https://localhost:8080/"
    },
    "id": "0Ox0jznu-4MQ",
    "outputId": "29d52642-4208-40e0-eb02-98d141baab51"
   },
   "outputs": [],
   "source": [
    "df_imputed.count()"
   ]
  },
  {
   "cell_type": "code",
   "execution_count": null,
   "id": "weJFoRfS-_oH",
   "metadata": {
    "id": "weJFoRfS-_oH"
   },
   "outputs": [],
   "source": [
    "df_selected=df_imputed"
   ]
  },
  {
   "cell_type": "code",
   "execution_count": null,
   "id": "49423397-9654-4cb7-89f3-1bc030894090",
   "metadata": {
    "colab": {
     "base_uri": "https://localhost:8080/",
     "height": 320
    },
    "id": "49423397-9654-4cb7-89f3-1bc030894090",
    "outputId": "a6a59458-4e03-4246-bf58-be508a500712",
    "scrolled": true
   },
   "outputs": [],
   "source": [
    "df_selected.describe()"
   ]
  },
  {
   "cell_type": "code",
   "execution_count": null,
   "id": "fd9ed9e5-1826-421a-aa0b-be749c43d4e9",
   "metadata": {
    "colab": {
     "base_uri": "https://localhost:8080/",
     "height": 504
    },
    "id": "fd9ed9e5-1826-421a-aa0b-be749c43d4e9",
    "outputId": "903dbc31-fece-46ba-fed8-e83cbeba8d12"
   },
   "outputs": [],
   "source": [
    "sns.countplot(data= df_selected, x='Gender')\n",
    "df_selected.Gender.value_counts(sort=False)"
   ]
  },
  {
   "cell_type": "code",
   "execution_count": null,
   "id": "cf61193b-c443-4596-bfb1-d514e61ff712",
   "metadata": {
    "colab": {
     "base_uri": "https://localhost:8080/",
     "height": 558
    },
    "id": "cf61193b-c443-4596-bfb1-d514e61ff712",
    "outputId": "9bccafb3-5d98-40e7-afdf-fadf9b0c2165"
   },
   "outputs": [],
   "source": [
    "\n",
    "sns.countplot(x=\"Checkup\", data=df_selected)\n",
    "df_selected.Checkup.value_counts(sort=False)"
   ]
  },
  {
   "cell_type": "code",
   "execution_count": null,
   "id": "10675f2d-bda2-4424-8111-83249db322e1",
   "metadata": {
    "colab": {
     "base_uri": "https://localhost:8080/",
     "height": 504
    },
    "id": "10675f2d-bda2-4424-8111-83249db322e1",
    "outputId": "2d969656-6015-4b4d-95df-d91650dfa239"
   },
   "outputs": [],
   "source": [
    "sns.countplot(x=\"Exercise\", data=df_selected)\n",
    "df_selected.Exercise.value_counts(sort=False)"
   ]
  },
  {
   "cell_type": "code",
   "execution_count": null,
   "id": "13d3b206-89a1-43db-8f88-b1a8136ec106",
   "metadata": {
    "colab": {
     "base_uri": "https://localhost:8080/",
     "height": 505
    },
    "id": "13d3b206-89a1-43db-8f88-b1a8136ec106",
    "outputId": "143a7523-a957-41c0-ad18-b87a76ffa2b8"
   },
   "outputs": [],
   "source": [
    "sns.countplot(x=\"Heart_Attack\", data=df_selected)\n",
    "df_selected.Heart_Attack.value_counts(sort=False)"
   ]
  },
  {
   "cell_type": "code",
   "execution_count": null,
   "id": "f7299cad-3b39-4f9d-83ba-0a860d36c342",
   "metadata": {
    "colab": {
     "base_uri": "https://localhost:8080/",
     "height": 485
    },
    "id": "f7299cad-3b39-4f9d-83ba-0a860d36c342",
    "outputId": "340c8288-ff0c-4c96-b30a-e9fc63258afd"
   },
   "outputs": [],
   "source": [
    "sns.countplot(x=\"Diabetes\", data=df_selected)\n",
    "df_selected.Diabetes.value_counts(sort=False)"
   ]
  },
  {
   "cell_type": "code",
   "execution_count": null,
   "id": "c42e7335-04a9-4f9a-8d9a-6c99fe75ce08",
   "metadata": {
    "colab": {
     "base_uri": "https://localhost:8080/",
     "height": 504
    },
    "id": "c42e7335-04a9-4f9a-8d9a-6c99fe75ce08",
    "outputId": "3c195438-fce7-4891-fe69-556775722155"
   },
   "outputs": [],
   "source": [
    "sns.countplot(x=\"Insulin\", data=df_selected)\n",
    "df_selected.Insulin.value_counts(sort=False)"
   ]
  },
  {
   "cell_type": "code",
   "execution_count": null,
   "id": "b212c087-d0cb-4eb6-87aa-de2680c92e78",
   "metadata": {
    "colab": {
     "base_uri": "https://localhost:8080/",
     "height": 505
    },
    "id": "b212c087-d0cb-4eb6-87aa-de2680c92e78",
    "outputId": "1a7c3c72-ec9c-426c-d59d-f4f0afc8c7c0"
   },
   "outputs": [],
   "source": [
    "sns.countplot(x=\"Managing_Diabetes\", data=df_selected)\n",
    "df_selected.Managing_Diabetes.value_counts(sort=False)"
   ]
  },
  {
   "cell_type": "code",
   "execution_count": null,
   "id": "e7c263b5-00b5-44ba-9e0f-f5a5b52b28be",
   "metadata": {
    "colab": {
     "base_uri": "https://localhost:8080/",
     "height": 505
    },
    "id": "e7c263b5-00b5-44ba-9e0f-f5a5b52b28be",
    "outputId": "cb347373-48d8-45b9-91c9-1112ab2f0b28"
   },
   "outputs": [],
   "source": [
    "sns.countplot(x=\"Overweight_or_Obese_Calculated\", data=df_selected)\n",
    "df_imputed.Overweight_or_Obese_Calculated.value_counts(sort=False)\n"
   ]
  },
  {
   "cell_type": "code",
   "execution_count": null,
   "id": "3bc21e24-a046-4378-80d2-0656890a96df",
   "metadata": {
    "colab": {
     "base_uri": "https://localhost:8080/",
     "height": 505
    },
    "id": "3bc21e24-a046-4378-80d2-0656890a96df",
    "outputId": "6b8993f1-72f9-44eb-8333-0c90199aace0"
   },
   "outputs": [],
   "source": [
    "sns.countplot(x=\"Current_Smokers\", data=df_selected)\n",
    "df_selected.Current_Smokers.value_counts(sort=False)"
   ]
  },
  {
   "cell_type": "code",
   "execution_count": null,
   "id": "CEM_rKocDQyC",
   "metadata": {
    "colab": {
     "base_uri": "https://localhost:8080/"
    },
    "id": "CEM_rKocDQyC",
    "outputId": "cc1d8cc4-612e-47e3-bee9-fb5b751fa34d"
   },
   "outputs": [],
   "source": [
    "df_selected.count()"
   ]
  },
  {
   "cell_type": "code",
   "execution_count": null,
   "id": "68ea759d-24df-436f-a376-31c6e2110d65",
   "metadata": {
    "colab": {
     "base_uri": "https://localhost:8080/",
     "height": 572
    },
    "id": "68ea759d-24df-436f-a376-31c6e2110d65",
    "outputId": "03011402-6203-43e5-9da8-b5224147b607"
   },
   "outputs": [],
   "source": [
    "df_selected.info()\n",
    "df_selected.head()"
   ]
  },
  {
   "cell_type": "code",
   "execution_count": null,
   "id": "d4ff5f96-2992-4bfe-b4e7-0b51b0bc526a",
   "metadata": {
    "id": "d4ff5f96-2992-4bfe-b4e7-0b51b0bc526a"
   },
   "outputs": [],
   "source": [
    "df_imputed.to_csv('data_cleanm.csv', index=False)"
   ]
  },
  {
   "cell_type": "code",
   "execution_count": null,
   "id": "681a1c2f-1f47-4ab0-9327-e265bd4f0a70",
   "metadata": {
    "id": "681a1c2f-1f47-4ab0-9327-e265bd4f0a70"
   },
   "outputs": [],
   "source": [
    "from matplotlib import pyplot as plt"
   ]
  },
  {
   "cell_type": "code",
   "execution_count": null,
   "id": "e263ebf4-62e4-403f-a51a-39b2b7b667a7",
   "metadata": {
    "colab": {
     "base_uri": "https://localhost:8080/"
    },
    "id": "e263ebf4-62e4-403f-a51a-39b2b7b667a7",
    "outputId": "4c6b2ddb-4d8d-437c-ba68-3fc6e314b3a2"
   },
   "outputs": [],
   "source": [
    "pip install statsmodels"
   ]
  },
  {
   "cell_type": "code",
   "execution_count": null,
   "id": "119a67fe-5ecc-404c-ad89-95361a279997",
   "metadata": {
    "id": "119a67fe-5ecc-404c-ad89-95361a279997"
   },
   "outputs": [],
   "source": [
    "import statsmodels.api as sm\n",
    "import pylab as py\n",
    "from scipy.special import ndtri\n",
    "import scipy.stats as stats"
   ]
  },
  {
   "cell_type": "code",
   "execution_count": null,
   "id": "7e6634cc-b902-43fb-8626-cb825de63711",
   "metadata": {
    "id": "7e6634cc-b902-43fb-8626-cb825de63711"
   },
   "outputs": [],
   "source": [
    "temmp = df_imputed"
   ]
  },
  {
   "cell_type": "code",
   "execution_count": null,
   "id": "cdfea922-ec89-4bf0-b0be-316b90d7fd10",
   "metadata": {
    "colab": {
     "base_uri": "https://localhost:8080/",
     "height": 718
    },
    "id": "cdfea922-ec89-4bf0-b0be-316b90d7fd10",
    "outputId": "24d70938-04c4-43dd-abf2-7a73f779d2e9"
   },
   "outputs": [],
   "source": [
    "combined_data = np.array(temmp[['Heart_Attack','Diabetes_Checkup']].values).flatten()\n",
    "z = (combined_data - np.mean(combined_data)) / np.std(combined_data)\n",
    "plt.figure(figsize=(8, 8))\n",
    "stats.probplot(z, dist=\"norm\", plot=plt)\n",
    "plt.title('Q-Q Plot: Heart Attack vs Diabetes Checkup')\n",
    "plt.show()"
   ]
  },
  {
   "cell_type": "code",
   "execution_count": null,
   "id": "8aa02285-96da-4ba8-b04a-04535c616351",
   "metadata": {
    "colab": {
     "base_uri": "https://localhost:8080/",
     "height": 718
    },
    "id": "8aa02285-96da-4ba8-b04a-04535c616351",
    "outputId": "7e1154af-2f5d-4690-a8d8-ab434db1e51a"
   },
   "outputs": [],
   "source": [
    "combined_data = np.array(temmp[['Heart_Attack','Glycosylated_Hemoglobin']].values).flatten()\n",
    "z = (combined_data - np.mean(combined_data)) / np.std(combined_data)\n",
    "plt.figure(figsize=(8, 8))\n",
    "stats.probplot(z, dist=\"norm\", plot=plt)\n",
    "plt.title('Q-Q Plot: Heart Attack vs Glycosylated Hemoglobin')\n",
    "plt.show()"
   ]
  },
  {
   "cell_type": "code",
   "execution_count": null,
   "id": "0ca3faa7-6f85-4cfc-8f88-cee545a9b653",
   "metadata": {
    "colab": {
     "base_uri": "https://localhost:8080/",
     "height": 718
    },
    "id": "0ca3faa7-6f85-4cfc-8f88-cee545a9b653",
    "outputId": "3d4a7c1c-7157-4054-a156-6cdc4ed65feb"
   },
   "outputs": [],
   "source": [
    "combined_data = np.array(temmp[['Heart_Attack','Dly_Sugar_Check']].values).flatten()\n",
    "z = (combined_data - np.mean(combined_data)) / np.std(combined_data)\n",
    "plt.figure(figsize=(8, 8))\n",
    "stats.probplot(z, dist=\"norm\", plot=plt)\n",
    "plt.title('Q-Q Plot: Heart Attack vs Daily Sugar Check')\n",
    "plt.show()"
   ]
  },
  {
   "cell_type": "code",
   "execution_count": null,
   "id": "Pd9-_o8ZwLpy",
   "metadata": {
    "colab": {
     "base_uri": "https://localhost:8080/",
     "height": 907
    },
    "id": "Pd9-_o8ZwLpy",
    "outputId": "bf7217ec-d324-4860-8f70-2f51ec792c4f"
   },
   "outputs": [],
   "source": [
    "#Correlation Analysis\n",
    "\n",
    "import pandas as pd\n",
    "import seaborn as sns\n",
    "import matplotlib.pyplot as plt\n",
    "\n",
    "dep_var = 'Heart_Attack'\n",
    "ind_vars = ['Gender', 'Checkup', 'Exercise', 'Insulin', 'Dly_Sugar_Check',\n",
    "            'Diabetes_Checkup', 'Glycosylated_Hemoglobin',\n",
    "            'Overweight_or_Obese_Calculated', 'Current_Smokers']\n",
    "\n",
    "corr = df_imputed[[dep_var] + ind_vars].corr()\n",
    "\n",
    "plt.figure(figsize=(12,9))\n",
    "\n",
    "heatmap = sns.heatmap(corr, cmap='coolwarm', annot=True, fmt=\".2f\",\n",
    "                      annot_kws={\"size\": 14},  # Smaller font size for the annotations.\n",
    "                      linewidths=.5, cbar_kws={\"shrink\": .5})\n",
    "\n",
    "plt.xticks(rotation=45, ha='right')  # Rotate x labels for better visibility\n",
    "plt.yticks(rotation=0)               # Rotate y labels to horizontal\n",
    "\n",
    "# Set the title and adjust layout.\n",
    "heatmap.set_title('Correlation Heatmap with Heart_Attack')\n",
    "plt.tight_layout()\n",
    "plt.show()"
   ]
  },
  {
   "cell_type": "code",
   "execution_count": null,
   "id": "41ec0fd6-8dc0-4028-9a10-970297e0dafc",
   "metadata": {
    "colab": {
     "base_uri": "https://localhost:8080/"
    },
    "id": "41ec0fd6-8dc0-4028-9a10-970297e0dafc",
    "outputId": "3e93ab68-2a10-4beb-c218-5a6c88a2979e"
   },
   "outputs": [],
   "source": [
    "#Chi- Square Test between 2 categorical variables - Heart Attack and Managing Diabetes\n",
    "\n",
    "#Null Hypothesis: TThere is no statistically significant association between experiencing a heart attack and participation in classes for diabetes management.\n",
    "#Alternate Hypothesis: There is a statistically significant association between experiencing a heart attack and participation in classes for diabetes management.\n",
    "import scipy.stats\n",
    "\n",
    "cont = pd.crosstab(temmp[\"Heart_Attack\"],temmp[\"Managing_Diabetes\"])\n",
    "chi2_stat, p_value, dof, expected = scipy.stats.chi2_contingency(cont)\n",
    "\n",
    "print(f\"Chi-Square Statistic: {chi2_stat}\")\n",
    "print(f\"P-Value: {p_value}\")\n",
    "print(f\"Degrees of Freedom: {dof}\")\n",
    "\n",
    "if p_value > 0.05:\n",
    "    print(\"Conclusion: As p-value is greater than 0.05, we fail to reject the null hypothesis.\")\n",
    "else:\n",
    "    print(\"Conclusion: As p-value is less than or equal to 0.05, we reject the null hypothesis.\")\n"
   ]
  },
  {
   "cell_type": "code",
   "execution_count": null,
   "id": "50f2c4a3-b078-47c1-8722-587b31a8a999",
   "metadata": {
    "colab": {
     "base_uri": "https://localhost:8080/"
    },
    "id": "50f2c4a3-b078-47c1-8722-587b31a8a999",
    "outputId": "31117d6f-00d8-4c55-8bfb-78b820e17d40"
   },
   "outputs": [],
   "source": [
    "##Chi- Square Test between 2 categorical variables - Heart Attack and Exercise\n",
    "\n",
    "#Null Hypothesis (H₀): There is no statistically significant association between experiencing a heart attack and engaging in exercise.\n",
    "#Alternative Hypothesis (H₁): There is a statistically significant association between experiencing a heart attack and engaging in exercise.\n",
    "\n",
    "cont = pd.crosstab(temmp[\"Heart_Attack\"],temmp[\"Exercise\"])\n",
    "chi2_stat, p_value, dof, expected = scipy.stats.chi2_contingency(cont)\n",
    "\n",
    "print(f\"Chi-Square Statistic: {chi2_stat}\")\n",
    "print(f\"P-Value: {p_value}\")\n",
    "print(f\"Degrees of Freedom: {dof}\")\n",
    "\n",
    "if p_value > 0.05:\n",
    "    print(\"Conclusion: As p-value is greater than 0.05, we fail to reject the null hypothesis.\")\n",
    "else:\n",
    "    print(\"Conclusion: As p-value is less than or equal to 0.05, we reject the null hypothesis.\")\n",
    "\n",
    "#P value is < 0.05, hence we reject the null hypothesis. There is a statisticall significant difference between experiencing a heart attack and engaging in exercise."
   ]
  },
  {
   "cell_type": "code",
   "execution_count": null,
   "id": "599cf297-9b2d-4ab1-a312-fe626f339e21",
   "metadata": {
    "colab": {
     "base_uri": "https://localhost:8080/"
    },
    "id": "599cf297-9b2d-4ab1-a312-fe626f339e21",
    "outputId": "868b135d-2f5c-4375-c8eb-e6dac5e31768"
   },
   "outputs": [],
   "source": [
    "##Chi- Square Test between 2 categorical variables - Heart Attack and the use of Insulin\n",
    "\n",
    "#Null Hypothesis (H₀): There is no statistically significant association between experiencing a heart attack and the use of insulin.\n",
    "#Alternative Hypothesis (H₁): There is a statistically significant association between experiencing a heart attack and the use of insulin\n",
    "cont = pd.crosstab(temmp[\"Heart_Attack\"],temmp[\"Insulin\"])\n",
    "chi2_stat, p_value, dof, expected = scipy.stats.chi2_contingency(cont)\n",
    "\n",
    "print(f\"Chi-Square Statistic: {chi2_stat}\")\n",
    "print(f\"P-Value: {p_value}\")\n",
    "print(f\"Degrees of Freedom: {dof}\")\n",
    "\n",
    "if p_value > 0.05:\n",
    "    print(\"Conclusion: As p-value is greater than 0.05, we fail to reject the null hypothesis.\")\n",
    "else:\n",
    "    print(\"Conclusion: As p-value is less than or equal to 0.05, we reject the null hypothesis.\")\n",
    "\n",
    "#P value is less than 0.05, we reject the null hypothesis. Hence, there is statistically significant association between experiencing a heart attack and the use of insulin."
   ]
  },
  {
   "cell_type": "code",
   "execution_count": null,
   "id": "68bdc328-7523-4212-a774-63b26a84808b",
   "metadata": {
    "colab": {
     "base_uri": "https://localhost:8080/"
    },
    "id": "68bdc328-7523-4212-a774-63b26a84808b",
    "outputId": "646220b9-aaf7-4058-960e-23bc66e3b9c0"
   },
   "outputs": [],
   "source": [
    "##Chi- Square Test between 2 categorical variables - Heart Attack and being obese\n",
    "\n",
    "#Null Hypothesis (H₀): There is no statistically significant association between experiencing a heart attack and being overweight.\n",
    "#Alternative Hypothesis (H₁): There is a statistically significant association between experiencing a heart attack and being overweight.\n",
    "\n",
    "cont = pd.crosstab(temmp[\"Heart_Attack\"],temmp[\"Overweight_or_Obese_Calculated\"])\n",
    "chi2_stat, p_value, dof, expected = scipy.stats.chi2_contingency(cont)\n",
    "\n",
    "print(f\"Chi-Square Statistic: {chi2_stat}\")\n",
    "print(f\"P-Value: {p_value}\")\n",
    "print(f\"Degrees of Freedom: {dof}\")\n",
    "\n",
    "if p_value > 0.05:\n",
    "    print(\"Conclusion: As p-value is greater than 0.05, we fail to reject the null hypothesis.\")\n",
    "else:\n",
    "    print(\"Conclusion: As p-value is less than or equal to 0.05, we reject the null hypothesis.\")\n",
    "\n",
    "#P value is greater than 0.05, therefore we fail to reject the null hypothesis. Hence, there is no statistically significant difference among the two."
   ]
  },
  {
   "cell_type": "code",
   "execution_count": null,
   "id": "027192c9-3713-4b62-b1c8-af0135482205",
   "metadata": {
    "colab": {
     "base_uri": "https://localhost:8080/"
    },
    "id": "027192c9-3713-4b62-b1c8-af0135482205",
    "outputId": "9ecdc538-349b-4464-9c4c-ec86036d4dfa"
   },
   "outputs": [],
   "source": [
    "##Chi- Square Test between 2 categorical variables - Heart Attack and Smoking status\n",
    "\n",
    "#Null Hypothesis (H₀): There is no statistically significant association between experiencing a heart attack and being a smoker.\n",
    "#Alternative Hypothesis (H₁):There is a statistically significant association between experiencing a heart attack and being a smoker.\n",
    "\n",
    "cont = pd.crosstab(df_imputed[\"Heart_Attack\"],df_imputed[\"Current_Smokers\"])\n",
    "chi2_stat, p_value, dof, expected = scipy.stats.chi2_contingency(cont)\n",
    "\n",
    "print(f\"Chi-Square Statistic: {chi2_stat}\")\n",
    "print(f\"P-Value: {p_value}\")\n",
    "print(f\"Degrees of Freedom: {dof}\")\n",
    "\n",
    "if p_value > 0.05:\n",
    "    print(\"Conclusion: As p-value is greater than 0.05, we fail to reject the null hypothesis.\")\n",
    "else:\n",
    "    print(\"Conclusion: As p-value is less than or equal to 0.05, we reject the null hypothesis.\")"
   ]
  },
  {
   "cell_type": "code",
   "execution_count": null,
   "id": "1423afd6-91f4-490c-a4dd-3066e4bd4bfc",
   "metadata": {
    "colab": {
     "base_uri": "https://localhost:8080/"
    },
    "id": "1423afd6-91f4-490c-a4dd-3066e4bd4bfc",
    "outputId": "711cf104-43bd-4137-9298-f39609f6b714"
   },
   "outputs": [],
   "source": [
    "cont = pd.crosstab(df_imputed[\"Heart_Attack\"],df_imputed[\"Gender\"])\n",
    "chi2_stat, p_value, dof, expected = scipy.stats.chi2_contingency(cont)\n",
    "\n",
    "print(f\"Chi-Square Statistic: {chi2_stat}\")\n",
    "print(f\"P-Value: {p_value}\")\n",
    "print(f\"Degrees of Freedom: {dof}\")\n",
    "\n",
    "if p_value > 0.05:\n",
    "    print(\"Conclusion: As p-value is greater than 0.05, we fail to reject the null hypothesis.\")\n",
    "else:\n",
    "    print(\"Conclusion: As p-value is less than or equal to 0.05, we reject the null hypothesis.\")"
   ]
  },
  {
   "cell_type": "code",
   "execution_count": null,
   "id": "eefacc7b-f671-455d-baf6-595eaab5d4c1",
   "metadata": {
    "colab": {
     "base_uri": "https://localhost:8080/"
    },
    "id": "eefacc7b-f671-455d-baf6-595eaab5d4c1",
    "outputId": "70c2dfd4-1d82-4ef0-bee6-bd2b773b0a0f"
   },
   "outputs": [],
   "source": [
    "cont = pd.crosstab(df_imputed[\"Heart_Attack\"],df_imputed[\"Checkup\"])\n",
    "chi2_stat, p_value, dof, expected = scipy.stats.chi2_contingency(cont)\n",
    "\n",
    "print(f\"Chi-Square Statistic: {chi2_stat}\")\n",
    "print(f\"P-Value: {p_value}\")\n",
    "print(f\"Degrees of Freedom: {dof}\")\n",
    "\n",
    "if p_value > 0.05:\n",
    "    print(\"Conclusion: As p-value is greater than 0.05, we fail to reject the null hypothesis.\")\n",
    "else:\n",
    "    print(\"Conclusion: As p-value is less than or equal to 0.05, we reject the null hypothesis.\")"
   ]
  },
  {
   "cell_type": "code",
   "execution_count": null,
   "id": "d902c324-b8cf-482f-92f0-854cd02663dc",
   "metadata": {
    "id": "d902c324-b8cf-482f-92f0-854cd02663dc"
   },
   "outputs": [],
   "source": [
    "#Hence, we notice an association between Heart Attack and gender, exercise, use of insulin and smoking status."
   ]
  },
  {
   "cell_type": "code",
   "execution_count": null,
   "id": "1a4b15c3-b0c4-430f-aa84-d153e3c046da",
   "metadata": {
    "colab": {
     "base_uri": "https://localhost:8080/"
    },
    "id": "1a4b15c3-b0c4-430f-aa84-d153e3c046da",
    "outputId": "f8988f89-bd70-4dcf-915f-d8fb1b2e686c"
   },
   "outputs": [],
   "source": [
    "#Null Hypothesis (H0): There is no statistically significant difference in the frequency of health check-ups between individuals who have had a heart attack and those who have not.\n",
    "#Alternative Hypothesis (H1): There is a statistically significant difference in the frequency of health check-ups between individuals who have had a heart attack and those who have not.\n",
    "from scipy.stats import mannwhitneyu\n",
    "stat, p = mannwhitneyu(df_imputed[\"Heart_Attack\"], df_imputed[\"Diabetes_Checkup\"])\n",
    "print(f\"Stat: {stat}\")\n",
    "print(f\"P-Value: {p}\")\n",
    "\n",
    "if p > 0.05:\n",
    "    print('Conclusion: As p-value is greater than 0.05, we fail to reject the null hypothesis.')\n",
    "else:\n",
    "    print('Conclusion: As p-value is less than or equal to 0.05, we reject the null hypothesis')"
   ]
  },
  {
   "cell_type": "code",
   "execution_count": null,
   "id": "9a8e141e-4823-4241-aab6-3b0e56550a7d",
   "metadata": {
    "colab": {
     "base_uri": "https://localhost:8080/"
    },
    "id": "9a8e141e-4823-4241-aab6-3b0e56550a7d",
    "outputId": "a8d8ebe8-12f4-4fdd-e180-72227a3014cc"
   },
   "outputs": [],
   "source": [
    "#Null Hypothesis (H0): There is no statistically significant difference in the frequency of glucose checks between individuals who have had a heart attack and those who have not.\n",
    "#Alternative Hypothesis (H1): There is a statistically significant difference in the frequency of glucose checks between individuals who have had a heart attack and those who have not.\n",
    "\n",
    "stat, p = mannwhitneyu(df_imputed[\"Heart_Attack\"], df_imputed[\"Dly_Sugar_Check\"])\n",
    "print(f\"Stat: {stat}\")\n",
    "print(f\"P-Value: {p}\")\n",
    "\n",
    "if p > 0.05:\n",
    "    print('Conclusion: As p-value is greater than 0.05, we fail to reject the null hypothesis.')\n",
    "else:\n",
    "    print('Conclusion: As p-value is less than or equal to 0.05, we reject the null hypothesis')"
   ]
  },
  {
   "cell_type": "code",
   "execution_count": null,
   "id": "1d45660d-354e-4809-a3d1-98efb1838273",
   "metadata": {
    "colab": {
     "base_uri": "https://localhost:8080/"
    },
    "id": "1d45660d-354e-4809-a3d1-98efb1838273",
    "outputId": "2a68a558-751f-4f6f-dbda-91e72d526e21"
   },
   "outputs": [],
   "source": [
    "#Null Hypothesis (H0): There is no statistically significant difference in the frequency of glycosylated hemoglobin (HbA1c) checks between individuals who have had a heart attack and those who have not.\n",
    "#Alternative Hypothesis (H1): There is a statistically significant difference in the frequency of glycosylated hemoglobin (HbA1c) checks between individuals who have had a heart attack and those who have not.\n",
    "\n",
    "stat, p = mannwhitneyu(df_imputed[\"Heart_Attack\"], df_imputed[\"Glycosylated_Hemoglobin\"])\n",
    "print(f\"Stat: {stat}\")\n",
    "print(f\"P-Value: {p}\")\n",
    "\n",
    "if p > 0.05:\n",
    "    print('Conclusion: As p-value is greater than 0.05, we fail to reject the null hypothesis.')\n",
    "else:\n",
    "    print('Conclusion: As p-value is less than or equal to 0.05, we reject the null hypothesis')"
   ]
  }
 ],
 "metadata": {
  "colab": {
   "provenance": []
  },
  "kernelspec": {
   "display_name": "Python 3 (ipykernel)",
   "language": "python",
   "name": "python3"
  },
  "language_info": {
   "codemirror_mode": {
    "name": "ipython",
    "version": 3
   },
   "file_extension": ".py",
   "mimetype": "text/x-python",
   "name": "python",
   "nbconvert_exporter": "python",
   "pygments_lexer": "ipython3",
   "version": "3.10.12"
  }
 },
 "nbformat": 4,
 "nbformat_minor": 5
}
