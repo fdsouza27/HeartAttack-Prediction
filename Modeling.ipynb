{
 "cells": [
  {
   "cell_type": "markdown",
   "id": "8084b9d4",
   "metadata": {},
   "source": [
    "# Final Modeling Notebook\n",
    "\n",
    "This notebook contains the final steps of modeling and statistical analysis. It involves various steps such as data loading, preprocessing, and analyzing the relationship between certain variables. Feel free to run the code and visualize the outputs."
   ]
  },
  {
   "cell_type": "code",
   "execution_count": null,
   "id": "4afcb4ea-4ba5-4588-9b06-55b81fcfeacc",
   "metadata": {
    "colab": {
     "base_uri": "https://localhost:8080/"
    },
    "id": "4afcb4ea-4ba5-4588-9b06-55b81fcfeacc",
    "outputId": "8a1a9a1c-6fd9-48d9-f2db-e470d60181cf",
    "scrolled": true
   },
   "outputs": [],
   "source": [
    "import numpy as np\n",
    "import pandas as pd\n",
    "import seaborn as sns\n",
    "import matplotlib.pyplot as plt\n",
    "from sklearn.metrics import roc_auc_score\n",
    "!pip install imblearn\n",
    "import imblearn"
   ]
  },
  {
   "cell_type": "code",
   "execution_count": null,
   "id": "b81ed4a9-3531-4380-8db8-2cb638545b62",
   "metadata": {
    "colab": {
     "base_uri": "https://localhost:8080/"
    },
    "id": "b81ed4a9-3531-4380-8db8-2cb638545b62",
    "outputId": "89b90119-2401-49ea-ffe2-0864cf07e86d"
   },
   "outputs": [],
   "source": [
    "df = pd.read_csv('data_cleanm.csv')\n",
    "df.count()"
   ]
  },
  {
   "cell_type": "code",
   "execution_count": null,
   "id": "c99e9faf-352a-4a3f-8a9f-d436ad9eccc3",
   "metadata": {
    "id": "c99e9faf-352a-4a3f-8a9f-d436ad9eccc3"
   },
   "outputs": [],
   "source": [
    "#Heart Attack is our target variable and is set to Y. The classification variables from our dataset are set to X. We will be using these to predict.\n",
    "#Managing Diabetes is not stastically significant so we dropped from modeling.\n",
    "Y = df[['Heart_Attack']]\n",
    "X = df[['Gender','Exercise', 'Insulin', 'Overweight_or_Obese_Calculated', 'Dly_Sugar_Check','Diabetes_Checkup','Current_Smokers',\"Glycosylated_Hemoglobin\"]]"
   ]
  },
  {
   "cell_type": "code",
   "execution_count": null,
   "id": "d5d848fd-69ef-42e9-ac68-8a29036e1f2e",
   "metadata": {
    "colab": {
     "base_uri": "https://localhost:8080/"
    },
    "id": "d5d848fd-69ef-42e9-ac68-8a29036e1f2e",
    "outputId": "4a34614c-0afb-4f8f-97dc-9e330dbdd944"
   },
   "outputs": [],
   "source": [
    "#Logistic regression modeling.\n",
    "\n",
    "from sklearn.linear_model import LogisticRegression\n",
    "from sklearn.model_selection import train_test_split\n",
    "from sklearn.metrics import classification_report\n",
    "from sklearn.preprocessing import StandardScaler\n",
    "from sklearn.linear_model import LogisticRegression\n",
    "\n",
    "X_train, X_test, y_train, y_test = train_test_split(X,Y, test_size=0.25, random_state=0)\n",
    "\n",
    "logReg = LogisticRegression()\n",
    "logReg.fit(X_train, y_train.values.ravel())\n",
    "\n",
    "predictions = logReg.predict(X_test)\n",
    "score = logReg.score(X_test, y_test)\n",
    "print(score)"
   ]
  },
  {
   "cell_type": "code",
   "execution_count": null,
   "id": "856bd3b1-78e8-4613-9c2f-98adb32b94ec",
   "metadata": {
    "colab": {
     "base_uri": "https://localhost:8080/"
    },
    "id": "856bd3b1-78e8-4613-9c2f-98adb32b94ec",
    "outputId": "09c34d30-e59a-42e8-fa2c-4e7800a8723b"
   },
   "outputs": [],
   "source": [
    "#We are able to make reliable preditions in our negaitve class but nothing in the positve class\n",
    "\n",
    "from sklearn.metrics import classification_report\n",
    "print(classification_report(y_test, predictions))"
   ]
  },
  {
   "cell_type": "code",
   "execution_count": null,
   "id": "2806e1f3-bc28-439b-8234-07e11366e646",
   "metadata": {
    "colab": {
     "base_uri": "https://localhost:8080/",
     "height": 738
    },
    "id": "2806e1f3-bc28-439b-8234-07e11366e646",
    "outputId": "6825ceba-6d2a-4dcf-f257-0bfe3aceb238"
   },
   "outputs": [],
   "source": [
    "#Visulization of modeling\n",
    "import matplotlib.pyplot as plt\n",
    "import seaborn as sns\n",
    "from sklearn import metrics\n",
    "from sklearn.metrics import confusion_matrix\n",
    "cm = metrics.confusion_matrix(y_test, predictions)\n",
    "plt.figure(figsize=(9,9))\n",
    "sns.heatmap(cm, annot=True, fmt=\".3f\", linewidths=.5, square=True, cmap='Blues_r');\n",
    "plt.ylabel('Actual label')\n",
    "plt.xlabel('Predicted label');\n",
    "all_sample_title = 'Accuracy Score: {0}'.format(score)\n",
    "plt.title(all_sample_title, size = 15);"
   ]
  },
  {
   "cell_type": "code",
   "execution_count": null,
   "id": "e2d54cc9-2db2-4513-8002-cd3f5feaac12",
   "metadata": {
    "colab": {
     "base_uri": "https://localhost:8080/",
     "height": 564
    },
    "id": "e2d54cc9-2db2-4513-8002-cd3f5feaac12",
    "outputId": "702bc43b-e177-403e-c9bc-c00794c37ee7"
   },
   "outputs": [],
   "source": [
    "#ROC Curve for Logistic Regression modeling\n",
    "\n",
    "from sklearn.preprocessing import LabelBinarizer\n",
    "from sklearn.metrics import roc_curve, auc\n",
    "\n",
    "#Had to convert the 1/2 values to 0/1\n",
    "lb = LabelBinarizer()\n",
    "#y_test_binary = lb.fit_transform(y_test)\n",
    "\n",
    "lb.fit([1, 2])  # Explicitly fit on 1 and 2\n",
    "y_test_binary = lb.transform(y_test)  # Transform the test labels\n",
    "\n",
    "\n",
    "\n",
    "predictions_proba = logReg.predict_proba(X_test)[:, 1]\n",
    "\n",
    "\n",
    "fpr, tpr, _ = roc_curve(y_test_binary, predictions_proba)\n",
    "roc_auc = auc(fpr, tpr)\n",
    "\n",
    "# Plot ROC curve\n",
    "plt.figure(figsize=(10, 6))\n",
    "plt.plot(fpr, tpr, color='darkorange', lw=2, label='ROC curve (area = {:.2f})'.format(roc_auc))\n",
    "plt.plot([0, 1], [0, 1], color='navy', lw=2, linestyle='--')\n",
    "plt.xlabel('False Positive Rate')\n",
    "plt.ylabel('True Positive Rate')\n",
    "plt.title('Receiver Operating Characteristic')\n",
    "plt.legend(loc='lower right')\n",
    "plt.show()"
   ]
  },
  {
   "cell_type": "code",
   "execution_count": null,
   "id": "12b6944a-7e37-45fa-a814-5bcc80278023",
   "metadata": {
    "colab": {
     "base_uri": "https://localhost:8080/"
    },
    "id": "12b6944a-7e37-45fa-a814-5bcc80278023",
    "outputId": "dbc500be-8a33-4f6c-f83a-94a74d7c2f91"
   },
   "outputs": [],
   "source": [
    "#Unable to predict a positve in the dependent class, trying Random Forrest\n",
    "# training RandomForest Classifier\n",
    "from sklearn.ensemble import RandomForestClassifier\n",
    "rfc = RandomForestClassifier()\n",
    "rfc.fit(X_train, y_train)\n",
    "\n",
    "rfc_predicted = rfc.predict(X_test)\n",
    "rfc_expected = y_test\n",
    "\n"
   ]
  },
  {
   "cell_type": "code",
   "execution_count": null,
   "id": "5b87060b-f0ac-4c06-bded-cf7a62445ebb",
   "metadata": {
    "colab": {
     "base_uri": "https://localhost:8080/"
    },
    "id": "5b87060b-f0ac-4c06-bded-cf7a62445ebb",
    "outputId": "0f70f669-69bd-4606-acc3-a8f2b316f5ed"
   },
   "outputs": [],
   "source": [
    "rfc_predicted = rfc_predicted.reshape(12925,1)\n",
    "\n",
    "rfc_matches = (rfc_predicted == rfc_expected)\n",
    "print(\"Overall Accuracy for RFC = \", rfc_matches.sum()/float(len(rfc_matches)))\n",
    "\n",
    "print(metrics.classification_report(rfc_expected, rfc_predicted))\n",
    "\n",
    "#Scores still poor with RFC"
   ]
  },
  {
   "cell_type": "code",
   "execution_count": null,
   "id": "07087f0c-8efc-4e91-a3ed-0f7aa64f090f",
   "metadata": {
    "colab": {
     "base_uri": "https://localhost:8080/",
     "height": 564
    },
    "id": "07087f0c-8efc-4e91-a3ed-0f7aa64f090f",
    "outputId": "40dc0113-1738-4c92-8cc2-a2c5c4b19c57"
   },
   "outputs": [],
   "source": [
    "from sklearn.preprocessing import LabelBinarizer\n",
    "from sklearn.metrics import roc_curve, auc\n",
    "import matplotlib.pyplot as plt\n",
    "\n",
    "lb = LabelBinarizer()\n",
    "y_test_binary = lb.fit_transform(y_test)\n",
    "\n",
    "\n",
    "predictions_proba = 1- rfc.predict_proba(X_test)[:, 0]\n",
    "\n",
    "\n",
    "fpr, tpr, _ = roc_curve(y_test_binary, predictions_proba)\n",
    "roc_auc = auc(fpr, tpr)\n",
    "\n",
    "\n",
    "plt.figure(figsize=(10, 6))\n",
    "plt.plot(fpr, tpr, color='darkorange', lw=2, label='ROC curve (area = {:.2f})'.format(roc_auc))\n",
    "plt.plot([0, 1], [0, 1], color='navy', lw=2, linestyle='--')\n",
    "plt.xlabel('False Positive Rate')\n",
    "plt.ylabel('True Positive Rate')\n",
    "plt.title('Receiver Operating Characteristic')\n",
    "plt.legend(loc='lower right')\n",
    "plt.show()"
   ]
  },
  {
   "cell_type": "code",
   "execution_count": null,
   "id": "99e23880-6ef0-471c-b5cb-228fffd5e576",
   "metadata": {
    "colab": {
     "base_uri": "https://localhost:8080/"
    },
    "id": "99e23880-6ef0-471c-b5cb-228fffd5e576",
    "outputId": "8d026ff3-1e3d-4ce6-cdaa-27e3d843e95c"
   },
   "outputs": [],
   "source": [
    "from sklearn.model_selection import train_test_split\n",
    "from sklearn.neighbors import KNeighborsClassifier\n",
    "from sklearn.metrics import accuracy_score\n",
    "\n",
    "knn = KNeighborsClassifier(n_neighbors=2)\n",
    "\n",
    "knn.fit(X_train, y_train)\n",
    "\n",
    "predictions = knn.predict(X_test)\n",
    "\n",
    "accuracy = accuracy_score(y_test, predictions)\n",
    "print(\"Accuracy:\", accuracy)\n",
    "\n",
    "print(classification_report(y_test, predictions))\n",
    "\n",
    "#KNN becomes one of our better perfoming models but the ROC Curve shows that our predictions are not better than random."
   ]
  },
  {
   "cell_type": "code",
   "execution_count": null,
   "id": "e0c77b51-a4a3-416e-b08a-4df2c3991100",
   "metadata": {
    "colab": {
     "base_uri": "https://localhost:8080/",
     "height": 564
    },
    "id": "e0c77b51-a4a3-416e-b08a-4df2c3991100",
    "outputId": "fa09d6dc-928d-403d-be85-c234468d70d9"
   },
   "outputs": [],
   "source": [
    "lb = LabelBinarizer()\n",
    "y_train_binary = lb.fit_transform(y_train)\n",
    "y_test_binary = lb.transform(y_test)\n",
    "\n",
    "\n",
    "y_train_binary = y_train_binary.ravel()\n",
    "y_test_binary = y_test_binary.ravel()\n",
    "\n",
    "knn = KNeighborsClassifier(n_neighbors=3)\n",
    "knn.fit(X_train, y_train_binary)\n",
    "\n",
    "predictions_proba = knn.predict_proba(X_test)[:, 1]\n",
    "\n",
    "fpr, tpr, _ = roc_curve(y_test_binary, predictions_proba)\n",
    "roc_auc = auc(fpr, tpr)\n",
    "\n",
    "plt.figure(figsize=(10, 6))\n",
    "plt.plot(fpr, tpr, color='darkorange', lw=2, label='ROC curve (area = {:.2f})'.format(roc_auc))\n",
    "plt.plot([0, 1], [0, 1], color='navy', lw=2, linestyle='--')\n",
    "plt.xlabel('False Positive Rate')\n",
    "plt.ylabel('True Positive Rate')\n",
    "plt.title('Receiver Operating Characteristic (ROC) Curve for KNN')\n",
    "plt.legend(loc='lower right')\n",
    "plt.show()"
   ]
  },
  {
   "cell_type": "code",
   "execution_count": null,
   "id": "12ffaefd-1341-4115-93b5-1b50f4caa67d",
   "metadata": {
    "colab": {
     "base_uri": "https://localhost:8080/",
     "height": 564
    },
    "id": "12ffaefd-1341-4115-93b5-1b50f4caa67d",
    "outputId": "5aa6df08-7b8d-44d5-8f92-6250a5e01a68"
   },
   "outputs": [],
   "source": [
    "conf_matrix = confusion_matrix(y_test, predictions)\n",
    "\n",
    "plt.figure(figsize=(8, 6))\n",
    "sns.heatmap(conf_matrix, annot=True, fmt='d', cmap='Blues', cbar=False)\n",
    "plt.xlabel('Predicted labels')\n",
    "plt.ylabel('True labels')\n",
    "plt.title('Confusion Matrix')\n",
    "plt.show()"
   ]
  },
  {
   "cell_type": "code",
   "execution_count": null,
   "id": "0601c95c-9493-4112-8aa7-9d629ae9c5e0",
   "metadata": {
    "id": "0601c95c-9493-4112-8aa7-9d629ae9c5e0"
   },
   "outputs": [],
   "source": [
    "#Resampling the dependent class to see if that will lead to better results\n",
    "\n",
    "from imblearn.combine import SMOTEENN\n",
    "from sklearn.linear_model import LogisticRegression\n",
    "from sklearn.metrics import classification_report\n",
    "from sklearn.model_selection import train_test_split\n",
    "\n",
    "\n",
    "X_train, X_test, y_train, y_test = train_test_split(X, Y, test_size=0.2, random_state=42)\n",
    "\n",
    "smote_enn = SMOTEENN(random_state=42)\n",
    "X_train, y_train = smote_enn.fit_resample(X_train, y_train)\n"
   ]
  },
  {
   "cell_type": "code",
   "execution_count": null,
   "id": "22513cf4-20d7-4b77-863a-16cb36072cbf",
   "metadata": {
    "id": "22513cf4-20d7-4b77-863a-16cb36072cbf"
   },
   "outputs": [],
   "source": [
    "from sklearn.linear_model import LogisticRegression\n",
    "from sklearn.model_selection import train_test_split\n",
    "from sklearn.metrics import classification_report\n",
    "from sklearn.preprocessing import StandardScaler\n",
    "from sklearn.linear_model import LogisticRegression\n",
    "\n",
    "\n",
    "\n",
    "logReg = LogisticRegression()\n",
    "logReg.fit(X_train, y_train.values.ravel())\n",
    "\n",
    "predictions = logReg.predict(X_test)\n"
   ]
  },
  {
   "cell_type": "code",
   "execution_count": null,
   "id": "076bf293-f41e-4a91-b35e-8c9a31fbcb24",
   "metadata": {
    "colab": {
     "base_uri": "https://localhost:8080/"
    },
    "id": "076bf293-f41e-4a91-b35e-8c9a31fbcb24",
    "outputId": "84a04745-592b-4853-a46d-3d63d9c3475b"
   },
   "outputs": [],
   "source": [
    "from sklearn.metrics import classification_report\n",
    "print(classification_report(y_test, predictions))\n",
    "\n",
    "#Scores are better when resampled but still not satsifactory"
   ]
  },
  {
   "cell_type": "code",
   "execution_count": null,
   "id": "80a0c610-0763-4f9b-bda7-f81f3045ebc8",
   "metadata": {
    "id": "80a0c610-0763-4f9b-bda7-f81f3045ebc8",
    "outputId": "7d828c0c-9bbd-481c-d3e7-c7e446b2198f"
   },
   "outputs": [],
   "source": [
    "#Confusion Matrix for Resampled Logistic Regression Modeling\n",
    "import matplotlib.pyplot as plt\n",
    "import seaborn as sns\n",
    "from sklearn import metrics\n",
    "cm = metrics.confusion_matrix(y_test, predictions)\n",
    "plt.figure(figsize=(9,9))\n",
    "sns.heatmap(cm, annot=True, fmt=\".3f\", linewidths=.5, square=True, cmap='Blues_r');\n",
    "plt.ylabel('Actual label');\n",
    "plt.xlabel('Predicted label');\n",
    "all_sample_title = 'Accuracy Score: {0}'.format(score)\n",
    "plt.title(all_sample_title, size = 15);"
   ]
  },
  {
   "cell_type": "code",
   "execution_count": null,
   "id": "734f098b-5bf5-44dd-8737-789ccd5edecc",
   "metadata": {
    "id": "734f098b-5bf5-44dd-8737-789ccd5edecc",
    "outputId": "8d86bf26-4518-4785-f91d-65793e13fa0a"
   },
   "outputs": [],
   "source": [
    "#ROC Curve for logistic regression resampled\n",
    "from sklearn.preprocessing import LabelBinarizer\n",
    "from sklearn.metrics import roc_curve, auc\n",
    "\n",
    "\n",
    "lb = LabelBinarizer()\n",
    "y_test_binary = lb.fit_transform(y_test)\n",
    "\n",
    "\n",
    "predictions_proba = logReg.predict_proba(X_test)[:, 1]\n",
    "\n",
    "\n",
    "fpr, tpr, _ = roc_curve(y_test_binary, predictions_proba)\n",
    "roc_auc = auc(fpr, tpr)\n",
    "\n",
    "\n",
    "plt.figure(figsize=(10, 6))\n",
    "plt.plot(fpr, tpr, color='darkorange', lw=2, label='ROC curve (area = {:.2f})'.format(roc_auc))\n",
    "plt.plot([0, 1], [0, 1], color='navy', lw=2, linestyle='--')\n",
    "plt.xlabel('False Positive Rate')\n",
    "plt.ylabel('True Positive Rate')\n",
    "plt.title('Receiver Operating Characteristic')\n",
    "plt.legend(loc='lower right')\n",
    "plt.show()"
   ]
  },
  {
   "cell_type": "code",
   "execution_count": null,
   "id": "1a6d3247-7744-406e-8dee-c62b34048e8b",
   "metadata": {
    "id": "1a6d3247-7744-406e-8dee-c62b34048e8b",
    "outputId": "f0e2b3f6-ac31-4a7d-99b5-94ebb3ce269f"
   },
   "outputs": [],
   "source": [
    "#Trying Random Forrest resampled\n",
    "\n",
    "from sklearn.ensemble import RandomForestClassifier\n",
    "from sklearn import metrics\n",
    "\n",
    "\n",
    "\n",
    "rfc = RandomForestClassifier()\n",
    "rfc.fit(X_train, y_train)\n",
    "\n",
    "\n",
    "rfc_predicted = rfc.predict(X_test)\n",
    "\n",
    "\n",
    "print(metrics.classification_report(y_test, rfc_predicted))\n",
    "\n",
    "#Still poor scores"
   ]
  },
  {
   "cell_type": "code",
   "execution_count": null,
   "id": "78757966-433e-4c25-9496-426b8e38439c",
   "metadata": {
    "id": "78757966-433e-4c25-9496-426b8e38439c",
    "outputId": "0d7c45a5-2deb-4e2e-fc5c-da5b4084f19e"
   },
   "outputs": [],
   "source": [
    "#Trying XGBoost\n",
    "import xgboost as xgb\n",
    "dtrain = xgb.DMatrix(X_train, label= y_train)\n",
    "dtest = xgb.DMatrix(X_test, label=y_test)\n",
    "\n",
    "params = {\n",
    "    'max_depth': 3,\n",
    "    'eta': 0.1,\n",
    "    'objective': 'multi:softmax',\n",
    "    'num_class': 3\n",
    "}\n",
    "\n",
    "\n",
    "num_round = 100\n",
    "model = xgb.train(params, dtrain, num_round)\n",
    "\n",
    "\n",
    "y_pred = model.predict(dtest)\n",
    "\n",
    "\n",
    "accuracy = accuracy_score(y_test, y_pred)\n",
    "print(f\"Accuracy of XGBoost: {accuracy * 100:.2f}%\")\n",
    "\n",
    "\n",
    "report1 = classification_report(y_test, y_pred)\n",
    "print(report1)\n",
    "\n",
    "#Best scores yet, but unsatsifcatory"
   ]
  },
  {
   "cell_type": "code",
   "execution_count": null,
   "id": "2a0d2a3c-65c3-4ae5-8b76-7669081e29ee",
   "metadata": {
    "id": "2a0d2a3c-65c3-4ae5-8b76-7669081e29ee",
    "outputId": "3ad34b23-f000-4bb1-ae88-38ed75f49a89"
   },
   "outputs": [],
   "source": [
    "#Finally KNN\n",
    "from sklearn.model_selection import train_test_split\n",
    "from sklearn.neighbors import KNeighborsClassifier\n",
    "from sklearn.metrics import accuracy_score\n",
    "\n",
    "knn = KNeighborsClassifier(n_neighbors=2)\n",
    "\n",
    "knn.fit(X_train, y_train)\n",
    "\n",
    "predictions = knn.predict(X_test)\n",
    "\n",
    "accuracy = accuracy_score(y_test, predictions)\n",
    "print(\"Accuracy:\", accuracy)\n",
    "\n",
    "print(classification_report(y_test, predictions))"
   ]
  },
  {
   "cell_type": "code",
   "execution_count": null,
   "id": "3e28b040-b83d-4263-ae27-abe406f92b68",
   "metadata": {
    "id": "3e28b040-b83d-4263-ae27-abe406f92b68",
    "outputId": "009f5453-2b22-458c-e651-3b9a47857afa"
   },
   "outputs": [],
   "source": [
    "from sklearn.preprocessing import LabelBinarizer\n",
    "from sklearn.metrics import roc_curve, auc\n",
    "import matplotlib.pyplot as plt\n",
    "\n",
    "lb = LabelBinarizer()\n",
    "y_test_binary = lb.fit_transform(y_test)\n",
    "\n",
    "\n",
    "predictions_proba = 1- rfc.predict_proba(X_test)[:, 0]\n",
    "\n",
    "\n",
    "fpr, tpr, _ = roc_curve(y_test_binary, predictions_proba)\n",
    "roc_auc = auc(fpr, tpr)\n",
    "\n",
    "\n",
    "plt.figure(figsize=(10, 6))\n",
    "plt.plot(fpr, tpr, color='darkorange', lw=2, label='ROC curve (area = {:.2f})'.format(roc_auc))\n",
    "plt.plot([0, 1], [0, 1], color='navy', lw=2, linestyle='--')\n",
    "plt.xlabel('False Positive Rate')\n",
    "plt.ylabel('True Positive Rate')\n",
    "plt.title('Receiver Operating Characteristic')\n",
    "plt.legend(loc='lower right')\n",
    "plt.show()"
   ]
  },
  {
   "cell_type": "code",
   "execution_count": null,
   "id": "3b217924-f51a-4ff2-912d-c7a1ff899991",
   "metadata": {
    "id": "3b217924-f51a-4ff2-912d-c7a1ff899991",
    "outputId": "8a987670-538f-4a53-c54f-7ba0d23f971c"
   },
   "outputs": [],
   "source": [
    "conf_matrix = confusion_matrix(y_test, predictions)\n",
    "\n",
    "\n",
    "plt.figure(figsize=(8, 6))\n",
    "sns.heatmap(conf_matrix, annot=True, fmt='d', cmap='Blues', cbar=False)\n",
    "plt.xlabel('Predicted labels')\n",
    "plt.ylabel('True labels')\n",
    "plt.title('Confusion Matrix')\n",
    "plt.show()"
   ]
  },
  {
   "cell_type": "code",
   "execution_count": null,
   "id": "9b6f3c80-5369-4a41-92bf-0ea79eff035d",
   "metadata": {
    "id": "9b6f3c80-5369-4a41-92bf-0ea79eff035d",
    "outputId": "4df137e9-b1c6-4c18-b9d1-fbe00ddb3ed1"
   },
   "outputs": [],
   "source": [
    "#The below visulazations are an attempt to show why we got poor scores. We wanted to show the ratios of positive/negative values for our features\n",
    "#in some of the classes. This shows that our dependent class doesn't have much different ratios than our indenpendnt class which lead to our model\n",
    "#having trouble predicting.\n",
    "insulin_condition_1 = (df['Heart_Attack'] == 1.0) & (df['Insulin'] == 1.0)\n",
    "insulin_condition_2 = (df['Heart_Attack'] == 2.0) & (df['Insulin'] == 1.0)\n",
    "insulin_condition_3 = (df['Heart_Attack'] == 1.0) & (df['Insulin'] == 2.0)\n",
    "insulin_condition_4 = (df['Heart_Attack'] == 2.0) & (df['Insulin'] == 2.0)\n",
    "\n",
    "\n",
    "counts_insulin = df.groupby(['Heart_Attack', 'Insulin']).size().unstack().fillna(0)\n",
    "\n",
    "\n",
    "fig, axs = plt.subplots(figsize=(10, 8))\n",
    "\n",
    "\n",
    "axs.bar(counts_insulin.index, counts_insulin[1.0], label='Taking Insulin')\n",
    "axs.bar(counts_insulin.index, counts_insulin[2.0], bottom=counts_insulin[1.0], label='Not taking Insulin')\n",
    "\n",
    "axs.set_title('Insulin and Heart Attack Relationship')\n",
    "axs.set_ylabel('Count')\n",
    "axs.set_xticks([1, 2])\n",
    "axs.set_xticklabels(['Heart Attack', 'No Heart Attack'])\n",
    "axs.legend()\n",
    "\n",
    "plt.show()"
   ]
  },
  {
   "cell_type": "code",
   "execution_count": null,
   "id": "013ae6fb-f941-4481-b98e-6eeb60418bfa",
   "metadata": {
    "id": "013ae6fb-f941-4481-b98e-6eeb60418bfa",
    "outputId": "3a21caea-3289-4110-e5c4-4305bf090ec5"
   },
   "outputs": [],
   "source": [
    "\n",
    "managing_diabetes_condition_1 = (df['Heart_Attack'] == 1.0) & (df['Managing_Diabetes'] == 1.0)\n",
    "managing_diabetes_condition_2 = (df['Heart_Attack'] == 2.0) & (df['Managing_Diabetes'] == 1.0)\n",
    "managing_diabetes_condition_3 = (df['Heart_Attack'] == 1.0) & (df['Managing_Diabetes'] == 2.0)\n",
    "managing_diabetes_condition_4 = (df['Heart_Attack'] == 2.0) & (df['Managing_Diabetes'] == 2.0)\n",
    "\n",
    "\n",
    "counts_managing_diabetes = df.groupby(['Heart_Attack', 'Managing_Diabetes']).size().unstack().fillna(0)\n",
    "\n",
    "\n",
    "fig, axs = plt.subplots(figsize=(10, 8))\n",
    "\n",
    "axs.bar(counts_managing_diabetes.index, counts_managing_diabetes[1.0], label='Did not take class')\n",
    "axs.bar(counts_managing_diabetes.index, counts_managing_diabetes[2.0], bottom=counts_managing_diabetes[1.0], label='Took a class')\n",
    "\n",
    "axs.set_title('Managing Diabetes and Heart Attack Relationship')\n",
    "axs.set_ylabel('Count')\n",
    "axs.set_xticks([1, 2])\n",
    "axs.set_xticklabels(['Heart Attack', 'No Heart Attack'])\n",
    "axs.legend()\n",
    "\n",
    "plt.show()"
   ]
  },
  {
   "cell_type": "code",
   "execution_count": null,
   "id": "27e1571a-1b19-4ed1-83f4-39d8fc06b0f7",
   "metadata": {
    "id": "27e1571a-1b19-4ed1-83f4-39d8fc06b0f7",
    "outputId": "0e01c0eb-d030-470d-e3c6-951dc44fcc27"
   },
   "outputs": [],
   "source": [
    "\n",
    "overweight_condition_1 = (df['Heart_Attack'] == 1.0) & (df['Overweight_or_Obese_Calculated'] == 1.0)\n",
    "overweight_condition_2 = (df['Heart_Attack'] == 2.0) & (df['Overweight_or_Obese_Calculated'] == 1.0)\n",
    "exercise_condition_3 = (df['Heart_Attack'] == 1.0) & (df['Overweight_or_Obese_Calculated'] == 2.0)\n",
    "exercise_condition_4 = (df['Heart_Attack'] == 2.0) & (df['Overweight_or_Obese_Calculated'] == 2.0)\n",
    "\n",
    "counts_overweight = df.groupby(['Heart_Attack', 'Overweight_or_Obese_Calculated']).size().unstack().fillna(0)\n",
    "\n",
    "\n",
    "fig, axs = plt.subplots(figsize=(10, 8))\n",
    "\n",
    "\n",
    "axs.bar(counts_overweight.index, counts_overweight[1.0], label='High BMI')\n",
    "axs.bar(counts_overweight.index, counts_overweight[2.0], bottom=counts_overweight[1.0], label='Normal BMI')\n",
    "\n",
    "axs.set_title('Overweight and Heart Attack Relationship')\n",
    "axs.set_ylabel('Count')\n",
    "axs.set_xticks([1, 2])\n",
    "axs.set_xticklabels(['Heart Attack', 'No Heart Attack'])\n",
    "axs.legend()\n",
    "\n",
    "plt.show()"
   ]
  },
  {
   "cell_type": "code",
   "execution_count": null,
   "id": "7a35ec10-bba2-4f7f-b0fd-1cf3bd265418",
   "metadata": {
    "id": "7a35ec10-bba2-4f7f-b0fd-1cf3bd265418",
    "outputId": "7a110b84-e8cc-463d-cde6-f9efcc7d3cf0"
   },
   "outputs": [],
   "source": [
    "\n",
    "exercise_condition_1 = (df['Heart_Attack'] == 1.0) & (df['Exercise'] == 1.0)\n",
    "exercise_condition_2 = (df['Heart_Attack'] == 2.0) & (df['Exercise'] == 1.0)\n",
    "exercise_condition_3 = (df['Heart_Attack'] == 1.0) & (df['Exercise'] == 2.0)\n",
    "exercise_condition_4 = (df['Heart_Attack'] == 2.0) & (df['Exercise'] == 2.0)\n",
    "\n",
    "\n",
    "counts_exercise = df.groupby(['Heart_Attack', 'Exercise']).size().unstack().fillna(0)\n",
    "\n",
    "\n",
    "fig, axs = plt.subplots(figsize=(10, 8))\n",
    "\n",
    "axs.bar(counts_exercise.index, counts_exercise[1.0], label='No Exercise')\n",
    "axs.bar(counts_exercise.index, counts_exercise[2.0], bottom=counts_exercise[1.0], label='Some Exercise')\n",
    "\n",
    "axs.set_title('Exercise and Heart Attack Relationship')\n",
    "axs.set_ylabel('Count')\n",
    "axs.set_xticks([1, 2])\n",
    "axs.set_xticklabels(['Heart Attack', 'No Heart Attack'])\n",
    "axs.legend()\n",
    "\n",
    "plt.show()"
   ]
  },
  {
   "cell_type": "code",
   "execution_count": null,
   "id": "7fb47b8e-c035-4f05-87e6-7cae4b74fde5",
   "metadata": {
    "id": "7fb47b8e-c035-4f05-87e6-7cae4b74fde5",
    "outputId": "256496dc-7856-4d28-de77-7a3c73cb412f"
   },
   "outputs": [],
   "source": [
    "\n",
    "smokers_condition_1 = (df['Heart_Attack'] == 1.0) & (df['Current_Smokers'] == 1.0)\n",
    "smokers_condition_2 = (df['Heart_Attack'] == 2.0) & (df['Current_Smokers'] == 1.0)\n",
    "smokers_condition_3 = (df['Heart_Attack'] == 1.0) & (df['Current_Smokers'] == 2.0)\n",
    "smokers_condition_4 = (df['Heart_Attack'] == 2.0) & (df['Current_Smokers'] == 2.0)\n",
    "\n",
    "\n",
    "counts_smokers = df.groupby(['Heart_Attack', 'Current_Smokers']).size().unstack().fillna(0)\n",
    "\n",
    "\n",
    "fig, axs = plt.subplots(figsize=(10, 8))\n",
    "\n",
    "\n",
    "axs.bar(counts_smokers.index, counts_smokers[1.0], label='Non-Smoker')\n",
    "axs.bar(counts_smokers.index, counts_smokers[2.0], bottom=counts_smokers[1.0], label='Smoker')\n",
    "\n",
    "axs.set_title('Smoking Habits and Heart Attack Relationship')\n",
    "axs.set_ylabel('Count')\n",
    "axs.set_xticks([1, 2])\n",
    "axs.set_xticklabels(['Heart Attack', 'No Heart Attack'])\n",
    "axs.legend()\n",
    "\n",
    "plt.show()"
   ]
  }
 ],
 "metadata": {
  "colab": {
   "provenance": []
  },
  "kernelspec": {
   "display_name": "Python 3 (ipykernel)",
   "language": "python",
   "name": "python3"
  },
  "language_info": {
   "codemirror_mode": {
    "name": "ipython",
    "version": 3
   },
   "file_extension": ".py",
   "mimetype": "text/x-python",
   "name": "python",
   "nbconvert_exporter": "python",
   "pygments_lexer": "ipython3",
   "version": "3.10.12"
  }
 },
 "nbformat": 4,
 "nbformat_minor": 5
}
